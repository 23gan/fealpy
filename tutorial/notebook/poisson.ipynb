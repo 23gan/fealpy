{
 "cells": [
  {
   "cell_type": "markdown",
   "id": "251dd62a",
   "metadata": {},
   "source": [
    "# Lagrange 有限元方法求解 Poisson 方程\n",
    "\n",
    "\n",
    "\n",
    "$$\n",
    "-\\Delta u = f \\text{ on } \\Omega\n",
    "$$\n",
    "\n",
    "满足边 Dirichlet 界条件 \n",
    "\n",
    "$$\n",
    "u = g_D \\quad\\text{on }\\partial\\Omega\n",
    "$$\n",
    "\n",
    "设真解为 \n",
    "\n",
    "$$\n",
    "u(x) = \\cos(\\pi x)\\cos(\\pi y)\n",
    "$$\n"
   ]
  },
  {
   "cell_type": "code",
   "execution_count": 1,
   "id": "cee505c0",
   "metadata": {},
   "source": [
    "import numpy as np\n",
    "import matplotlib.pyplot as plt\n",
    "%matplotlib inline"
   ],
   "outputs": []
  },
  {
   "cell_type": "code",
   "execution_count": 2,
   "id": "c137dab1",
   "metadata": {},
   "source": [
    "from fealpy.pde.poisson_2d import CosCosData\n",
    "pde = CosCosData()"
   ],
   "outputs": []
  },
  {
   "cell_type": "code",
   "execution_count": 3,
   "id": "6a4615ee",
   "metadata": {},
   "source": [
    "from fealpy.mesh import MeshFactory as MF\n",
    "\n",
    "mesh = MF.boxmesh2d(pde.domain(), nx=10, ny=10, meshtype='tri')\n",
    "mesh.add_plot(plt)"
   ],
   "outputs": []
  },
  {
   "cell_type": "code",
   "execution_count": 4,
   "id": "6aabc18e",
   "metadata": {},
   "source": [
    "from fealpy.functionspace import LagrangeFiniteElementSpace\n",
    "\n",
    "space = LagrangeFiniteElementSpace(mesh, p=1)\n",
    "uh = space.function()\n",
    "A = space.stiff_matrix()\n",
    "F = space.source_vector(pde.source)"
   ],
   "outputs": []
  },
  {
   "cell_type": "code",
   "execution_count": 5,
   "id": "244dbc7a",
   "metadata": {},
   "source": [
    "from fealpy.boundarycondition import DirichletBC\n",
    "\n",
    "bc = DirichletBC(space, pde.dirichlet)\n",
    "A, F = bc.apply(A, F, uh)"
   ],
   "outputs": []
  },
  {
   "cell_type": "code",
   "execution_count": 6,
   "id": "631e059c",
   "metadata": {},
   "source": [
    "from scipy.sparse.linalg import spsolve\n",
    "\n",
    "uh[:] = spsolve(A, F)"
   ],
   "outputs": []
  },
  {
   "cell_type": "code",
   "execution_count": 7,
   "id": "b6fa7b3f",
   "metadata": {},
   "source": [
    "L2error = space.integralalg.error(pde.solution, uh)\n",
    "H1error = space.integralalg.error(pde.gradient, uh.grad_value)\n",
    "\n",
    "print(\"L2 error: \", L2error)\n",
    "print(\"H1 error: \", H1error)"
   ],
   "outputs": []
  },
  {
   "cell_type": "code",
   "execution_count": 8,
   "id": "0985b63c",
   "metadata": {},
   "source": [
    "uh.add_plot(plt, cmap=\"rainbow\")"
   ],
   "outputs": []
  },
  {
   "cell_type": "code",
   "execution_count": null,
   "id": "9e1435f7",
   "metadata": {},
   "source": [],
   "outputs": []
  }
 ],
 "metadata": {
  "kernelspec": {
   "display_name": "Python 3",
   "language": "python",
   "name": "python3"
  },
  "language_info": {
   "codemirror_mode": {
    "name": "ipython",
    "version": 3
   },
   "file_extension": ".py",
   "mimetype": "text/x-python",
   "name": "python",
   "nbconvert_exporter": "python",
   "pygments_lexer": "ipython3",
   "version": "3.8.10"
  }
 },
 "nbformat": 4,
 "nbformat_minor": 5
}
