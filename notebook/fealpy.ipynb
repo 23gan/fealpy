{
 "cells": [
  {
   "cell_type": "markdown",
   "id": "10667ac7",
   "metadata": {},
   "source": [
    "# FEALPy 入门简介"
   ]
  },
  {
   "cell_type": "markdown",
   "id": "05308c8f",
   "metadata": {},
   "source": [
    "## 一、引言"
   ]
  },
  {
   "cell_type": "markdown",
   "id": "8e3149aa",
   "metadata": {},
   "source": [
    "### （1）偏微分方程 (PDE)\n",
    "\n",
    "偏微分方程 (Partial Differential Equations, PDE) 是一类涉及多个独立变量的未知函数及其偏导数的方程。PDE 常常用来描述物理、工程、生物学、经济学等领域中的各种现象，例如传热、流体流动、电磁场、化学反应等。\n",
    "\n",
    "### （2）为什么需要数值解？\n",
    "\n",
    "1. **解的存在性与唯一性问题**：虽然许多偏微分方程在理论上已经证明了解的存在性和唯一性，但实际上，我们并不总是知道解的显式形式。\n",
    "\n",
    "2. **复杂性与非线性**：许多现实中的问题由非线性偏微分方程描述，这些方程往往没有解析解，或者解析解过于复杂，难以为实际应用所用。\n",
    "\n",
    "3. **特定条件下的解**：即使某些方程有已知的解析解，但当我们为其施加特定的初始或边界条件时，可能需要数值方法来确定特定条件下的解。\n",
    "\n",
    "4. **高维问题**：随着问题维度的增加，解析方法变得更加复杂或不可行。数值方法，特别是有限元方法和有限差分方法，为高维问题提供了有效的求解手段。\n",
    "\n",
    "5. **直观与可视化**：数值解方法不仅为我们提供了问题的解，而且还使我们能够利用现代计算机图形学对解进行可视化，从而获得对物理现象更直观的理解。\n",
    "\n",
    "6. **灵活性与适应性**：如有限元方法可以适应各种复杂的几何形状、不规则的边界条件等，为各种实际应用提供了广泛的可能性。\n",
    "\n",
    "7. **迭代与优化**：在某些应用中，我们可能需要反复优化或调整某些参数以达到所需的结果。数值方法使这些迭代过程变得更加容易和高效。\n",
    "\n",
    "综上所述，尽管解析方法在某些情况下可能是首选，但数值方法由于其灵活性、适应性和高效性，可以在解决现实中的复杂PDE问题时发挥更关键的作用。"
   ]
  },
  {
   "cell_type": "markdown",
   "id": "d78fbffd",
   "metadata": {},
   "source": [
    "### （3）为什么需要 FEALPy： 动机与价值\n",
    "\n",
    "在进行数值算法的研究过程中，我们面临着多种挑战和需求。为了有效地应对这些挑战并满足我们的需求，我们决定开发 [FEALPy：Finite Element Analysis Library in Python](https://github.com/weihuayi/fealpy)：一个全新的开源偏微分方程数值解软件。以下是开发 FEALPy 的核心动机和它所带来的价值：\n",
    "\n",
    "1. **便捷测试与验证**：作为数值算法的研究者，我们的任务是创造更高效的算法。有了 FEALPy，我们可以方便、快速地测试和验证那些有潜力的想法，提高研究效率。我们设想 FEALPy 如同一个算法的“乐高玩具仓库”，用户可以随意组合不同的算法模块，创造并验证全新的算法，激发更多的创新和灵感。\n",
    "\n",
    "2. **持续集成与创新**：FEALPy 使我们能够将经典算法与最新的研究成果有机地集成到一起，为研究者提供了一个全面、一体化的工具。\n",
    "\n",
    "3. **团队协同与一体化**：FEALPy 不仅仅是一个软件，它的研发还串联了团队所有的关键任务，包括算法研究、教学、课程建设、学位论文撰写以及与企业项目合作等，把团队的纷繁复杂任务变成了一项任务。\n",
    "\n",
    "4. **设计哲学与高效实现**：我们选择 Python 作为主要编程语言，以期构建一个更为用户友好的软件。同时，FEALPy 的设计理念强调功能上更细粒度的层次化和模块化，以及接口的标准化，确保软件的灵活性和可重用性。这种设计确保了我们的代码与网格数据结构、维数、数值离散的精度参数以及操作系统的独立性，从而最大限度地提高了代码的重用性，极大地节约了算法实现和验证的时间。\n",
    "\n",
    "5. **开源与社区共建**：我们坚信，通过将 FEALPy 开源，我们的研究成果将被更多的人所看到和使用，为广大的教师、学生以及数值算法工程师带来实际价值。\n",
    "\n",
    "6. **实际应用与影响**：我们希望 FEALPy 不仅仅是一个学术工具，更希望它能够助力于真实世界的问题解决，产生实际的社会和经济效益。\n",
    "\n",
    "\n",
    "总之，FEALPy 不仅仅是我们对数值算法研究的一次探索和实践，它也是我们对开源社区和广大用户的一份承诺与回馈，我们期待它在未来能够发挥更大的作用，推动偏微分方程数值解的研究和应用走向新的高度。"
   ]
  },
  {
   "cell_type": "markdown",
   "id": "7f47baa3",
   "metadata": {},
   "source": [
    "### （4）FEALPy 的主要功能\n",
    "\n",
    "* 丰富的网格数据结构和自适应算法，以及与网格类型和维数无关的应用程序接口（API）\n",
    "* 灵活多样的网格生成功能，以及第三方网格生成工具接口\n",
    "* 网格可视化功能\n",
    "* 各种常见的 PDE 数值离散方法，如有限元(Finite Element, FE)、有限差分(Finite Difference, FD)、有限体积(Finite Volume, FV)、间断 Galerkin(DG)、虚单元（Virtual Element)、弱 Galerkin（WG) 、粒子法等等\n",
    "* 最新的机器学习求解 PDE 功能模块"
   ]
  },
  {
   "cell_type": "markdown",
   "id": "7f609007-4ef7-4462-aec2-a5c5c2c3e754",
   "metadata": {},
   "source": [
    "# 二、安装\n",
    "\n",
    "## （1）Linux 和 iOS 系统安装\n",
    "\n",
    "首先，为了解决经常出现的 Python 依赖包冲突问题，我们这里用 [venv](https://pyloong.github.io/pythonic-project-guidelines/introduction/virtualenv/) 来为 FEALPy 创建独立的运行环境。打开命令行终端，假设现在我们在你的家目录下：\n",
    "\n",
    "```bash\n",
    "sudo apt install python3-venv # 安装 python 的虚拟环境模块\n",
    "python3 -m venv myfealpy # 创建一个名为 myfealpy 的虚拟环境\n",
    "source myfealpy/bin/activate # 激活 myfealpy 虚拟环境\n",
    "```\n",
    "\n",
    "命令行终端提示符前会多一个 `(myfealpy)` 的字符串，类似如下：\n",
    "```bash\n",
    "(myfealpy) why@why-XPS-15-7590:~$\n",
    "```\n",
    "\n",
    "在虚拟环境下，你可以用 `pip` 安装一些常用的软件工具，如：\n",
    "\n",
    "```bash\n",
    "pip install -U notebook # 安装 jupyter notebook\n",
    "```\n",
    "注意，这些软件工具都会安装在 `~/myfealpy/` 下面。\n",
    "\n",
    "最后把 FEALPy 克隆下来，安装即可\n",
    "```bash\n",
    "git clone https://github.com/weihuayi/fealpy.git\n",
    "cd fealpy\n",
    "pip install -e .\n",
    "```"
   ]
  },
  {
   "cell_type": "markdown",
   "id": "b2780075-91d7-46eb-8aaf-1e813feb5af9",
   "metadata": {},
   "source": [
    "## （2）Windows 系统安装"
   ]
  },
  {
   "cell_type": "markdown",
   "id": "0840e082",
   "metadata": {},
   "source": [
    "# 三、PDE 求解示例 "
   ]
  },
  {
   "cell_type": "markdown",
   "id": "8b01210e",
   "metadata": {},
   "source": [
    "## （1）任意次有限元求解 Poisson 方程"
   ]
  },
  {
   "cell_type": "markdown",
   "id": "05b48389",
   "metadata": {},
   "source": [
    "给定区域 $\\Omega\\subset\\mathbb{R}^d$，其边界 $\\partial \\Omega = \\Gamma_1 \\cup \\Gamma_2 \\cup \\Gamma_3$，求函数 $u$ 满足\n",
    "$$\\begin{aligned}\n",
    "-\\Delta u &= f, \n",
    "\\quad\\text{in }\\Omega\\\\\n",
    " u &= g_1, \n",
    "\\quad\\text{on }\\Gamma_1\\leftarrow \\text{第一类边界条件（Dirichlet）}\\\\\n",
    "\\frac{\\partial u}{\\partial\\pmb{n}} &\n",
    " = g_2, \n",
    "\\quad\\text{on }\\Gamma_2\\leftarrow \\text{第二类边界条件（Neumann）}\\\\\n",
    " \\frac{\\partial u}{\\partial\\pmb{n}} + \\kappa u& = g_3, \n",
    "\\quad\\text{on }\\Gamma_3\\leftarrow \\text{第三类边界条件（Robin)}\n",
    "\\end{aligned}\n",
    "$$"
   ]
  },
  {
   "cell_type": "markdown",
   "id": "34d1167b-90d2-486c-affa-34491d6946da",
   "metadata": {},
   "source": [
    "算例：\n",
    "给定一个真解为\n",
    "$$u = \\cos\\pi x\\cos\\pi y,$$\n",
    "Poisson 方程，其定义域为 $[0, 1]^2,$只有纯的 Dirichlet 边界条件，下面演示基于 FEALPy 求解这个算例的过程。"
   ]
  },
  {
   "cell_type": "markdown",
   "id": "900ed666-8804-4b95-a8d1-c25048d1024b",
   "metadata": {},
   "source": [
    "### 0、变分\n",
    "引入函数空间\n",
    "$$H_{D,0}^1(\\Omega) :=\n",
    "\\{ \n",
    "v\\in L^2(\\Omega): \n",
    "\\nabla v \\in \n",
    "L^2(\\Omega;\\mathbb R^d), v|_{\\Gamma_1} = 0\n",
    "\\},$$\n",
    "在 Poisson 方程的两端，分别乘以任意的 $v \\in H_{D,0}^1(\\Omega)$(称其为测试函数)，\n",
    "$$(f,v) = -(\\Delta u, v),$$"
   ]
  },
  {
   "cell_type": "markdown",
   "id": "1eae236e-f44f-40c5-ab0a-6bdfbb563988",
   "metadata": {},
   "source": [
    "### 1. 创建 PDE 模型"
   ]
  },
  {
   "cell_type": "code",
   "execution_count": 1,
   "id": "74ae2caa-0233-43eb-ad7f-bbafa0e2b199",
   "metadata": {},
   "outputs": [],
   "source": [
    "from fealpy.pde.poisson_2d import CosCosData\n",
    "\n",
    "pde = CosCosData()"
   ]
  },
  {
   "cell_type": "markdown",
   "id": "4f1469b8-492a-41fa-b001-1a30bcee4da6",
   "metadata": {},
   "source": [
    "### 2. 生成网格"
   ]
  },
  {
   "cell_type": "code",
   "execution_count": 2,
   "id": "ce103d5f-d166-4cb8-b202-b0aa1da44d56",
   "metadata": {},
   "outputs": [],
   "source": [
    "# 导入网格工厂模块\n",
    "from fealpy.mesh import TriangleMesh\n",
    "\n",
    "nx = 4\n",
    "ny = 4\n",
    "domain = pde.domain()\n",
    "mesh = TriangleMesh.from_box(box = domain, nx = nx, ny = ny)"
   ]
  },
  {
   "cell_type": "markdown",
   "id": "2cfef6bb-40d4-48a1-b016-38e1d8d43c77",
   "metadata": {},
   "source": [
    "### 3. 建立拉格朗日有限元空间"
   ]
  },
  {
   "cell_type": "markdown",
   "id": "092d94e6-8b81-4fb0-a845-0fd433768963",
   "metadata": {},
   "source": [
    "假设有一个 $N$ 维的有限维空间 \n",
    "$$V_N = \\text{span}\\{ \\phi_i \\}_0^{N-1},$$ \n",
    "其所有基函数组成的向量记为\n",
    "$$\\boldsymbol \\phi = [\\phi_0, \\phi_1, \\cdots, \\phi_{N-1}],$$\n",
    "并约定 $\\boldsymbol \\phi$ 是一个行向量，其梯度记为\n",
    "$$\\nabla \\boldsymbol \\phi = [\\nabla \\phi_0, \\nabla \\phi_1, \\cdots, \\nabla \\phi_{N-1}]_{d\\times N},$$\n",
    "这里标量函数的梯度默认是列向量的形式。\n",
    "$V_N$中的函数 $u_N$有如下的表示形式：\n",
    "$$u_N = \\boldsymbol \\phi\\boldsymbol u = \\sum_{i=0}^{N-1}u_i\\phi_i\\in V_N,$$\n",
    "其中 $\\pmb{u}$为自由度向量（坐标向量）\n",
    "$$\\boldsymbol u =\n",
    "\\begin{bmatrix}\n",
    "u_0 \\\\ u_1\\\\ \\vdots \\\\ u_{N-1}\n",
    "\\end{bmatrix}$$"
   ]
  },
  {
   "cell_type": "code",
   "execution_count": 3,
   "id": "8dd85df5-1b24-4fef-b913-2a6fa7ab58b6",
   "metadata": {},
   "outputs": [],
   "source": [
    "# 导入 Lagrange 有限元空间\n",
    "from fealpy.functionspace import LagrangeFESpace\n",
    "p = 1\n",
    "space = LagrangeFESpace(mesh, p=p)   # 线性元空间"
   ]
  },
  {
   "cell_type": "markdown",
   "id": "d2307552-6b03-472a-9216-f8d118f96065",
   "metadata": {},
   "source": [
    "### 4. 导入扩散算子的积分子"
   ]
  },
  {
   "cell_type": "markdown",
   "id": "91aaefae-1568-4785-a1f7-4be45a222951",
   "metadata": {},
   "source": [
    " 求 $u_N\\in V_N，$ 既满足 Dirichlet 边界条件 $u_N|_{\\Gamma_1} = g_1$， 又满足\n",
    "$$(\\nabla u_N, \\nabla v_N)= \n",
    "(f, v_N),$$\n",
    "用 $\\boldsymbol\\phi\\boldsymbol u$ 替换 $u_N$， 基函数向量 $\\boldsymbol \\phi$ 替换任意的 $v_N$，可得\n",
    "$$\\int_\\Omega \n",
    "(\\nabla \\pmb{\\phi})^{\\rm T}\n",
    " \\nabla\\pmb{\\phi}\n",
    "\\,\\mathrm d\\pmb{x}\\pmb{u} = \n",
    "\\int_\\Omega \n",
    "f\\pmb{\\phi}^{\\rm T}\n",
    "\\,\\mathrm d\\pmb{x} $$\n",
    "可得：$$\\boldsymbol A \\boldsymbol u = \\boldsymbol b,$$\n",
    "其中\n",
    "$\\begin{aligned}\n",
    " &\\pmb{A} = \\int_\\Omega\n",
    " (\\nabla \\pmb\\phi)^{\\rm T} \\nabla\\pmb\\phi\n",
    "\\,\\mathrm d\\pmb{x},\n",
    " &\\pmb{b} = \\int_\\Omega \n",
    "f\\pmb\\phi^{\\rm T}\n",
    "\\,\\mathrm d\\pmb{x}\n",
    "\\end{aligned}$ "
   ]
  },
  {
   "cell_type": "code",
   "execution_count": 7,
   "id": "0ebc2901-03f3-4b23-bf2e-129e375ac508",
   "metadata": {},
   "outputs": [],
   "source": [
    "from fealpy.fem.diffusion_integrator import DiffusionIntegrator\n",
    "from fealpy.fem.bilinear_form import BilinearForm\n",
    "    \n",
    "bform = BilinearForm(space)\n",
    "bform.add_domain_integrator(DiffusionIntegrator(q=p+2))\n",
    "A = bform.assembly()"
   ]
  },
  {
   "cell_type": "markdown",
   "id": "a5f17a95-e05f-4185-b81d-1f9c22bf1e02",
   "metadata": {},
   "source": [
    "### 5. 导入标量函数形式的源项积分子 "
   ]
  },
  {
   "cell_type": "code",
   "execution_count": 8,
   "id": "092ad7da-1d89-42fe-8853-1189df5ca4dd",
   "metadata": {},
   "outputs": [],
   "source": [
    "from fealpy.fem.scalar_source_integrator import ScalarSourceIntegrator\n",
    "from fealpy.fem.linear_form import LinearForm\n",
    "\n",
    "lform = LinearForm(space)\n",
    "lform.add_domain_integrator(ScalarSourceIntegrator(f=pde.source, q=p+2))\n",
    "F = lform.assembly()"
   ]
  },
  {
   "cell_type": "markdown",
   "id": "19ea4130-fb6d-42fc-9a4e-a046762c53a3",
   "metadata": {},
   "source": [
    "### 6. 建立 Dirichlet 边界条件处理对象"
   ]
  },
  {
   "cell_type": "code",
   "execution_count": 9,
   "id": "2dbf4f28-37da-490b-b53f-df53ce3e9f90",
   "metadata": {},
   "outputs": [],
   "source": [
    "# 导入 Dirichlet 边界处理\n",
    "from fealpy.fem.dirichlet_bc import DirichletBC\n",
    "bc = DirichletBC(space = space, gD = pde.dirichlet) # 创建 Dirichlet 边界条件处理对象"
   ]
  },
  {
   "cell_type": "markdown",
   "id": "a9df1116-1405-4f67-b0a8-8d0f67a45fd9",
   "metadata": {},
   "source": [
    "### 7. 创建离散代数系统, 处理边界条件"
   ]
  },
  {
   "cell_type": "code",
   "execution_count": 10,
   "id": "e5d98795-51b4-4706-9d6a-88903169dcc8",
   "metadata": {},
   "outputs": [],
   "source": [
    "uh = space.function() # 创建有限元函数对象\n",
    "\n",
    "A, F = bc.apply(A, F, uh) # 应用 Dirichlet 边界条件"
   ]
  },
  {
   "cell_type": "markdown",
   "id": "3b54000a-90c0-4ce0-abcd-9769da963455",
   "metadata": {},
   "source": [
    "### 8. 求解离散代数系统"
   ]
  },
  {
   "cell_type": "code",
   "execution_count": 11,
   "id": "c728fb42-f2e3-423f-b216-da47a806df12",
   "metadata": {},
   "outputs": [],
   "source": [
    "# 导入稀疏线性代数系统求解函数\n",
    "from scipy.sparse.linalg import spsolve\n",
    "uh[:] = spsolve(A, F)"
   ]
  },
  {
   "cell_type": "markdown",
   "id": "1d921153-64c8-4017-bf07-14673f0ccf65",
   "metadata": {},
   "source": [
    "### 9. 计算 L2 和 H1 误差"
   ]
  },
  {
   "cell_type": "code",
   "execution_count": 12,
   "id": "b55ede43-dbbe-4b2c-a373-a55bb41071de",
   "metadata": {},
   "outputs": [],
   "source": [
    "L2Error = mesh.error(pde.solution, uh)\n",
    "H1Error = mesh.error(pde.gradient, uh.grad_value)"
   ]
  },
  {
   "cell_type": "markdown",
   "id": "a0505cd8-5a2a-4443-8838-4769feb75111",
   "metadata": {},
   "source": [
    "### 10. 画出网格与解函数图像"
   ]
  },
  {
   "cell_type": "code",
   "execution_count": 14,
   "id": "6dff3679-96c0-4ec6-b65f-e718c724ac1c",
   "metadata": {},
   "outputs": [
    {
     "data": {
      "image/png": "[encoded data removed]",
      "text/plain": [
       "<Figure size 640x480 with 3 Axes>"
      ]
     },
     "metadata": {},
     "output_type": "display_data"
    }
   ],
   "source": [
    "import matplotlib.pyplot as plt\n",
    "from mpl_toolkits.mplot3d import Axes3D\n",
    "\n",
    "fig = plt.figure()\n",
    "axes = fig.add_subplot(1, 2, 1)\n",
    "mesh.add_plot(axes)\n",
    "axes = fig.add_subplot(1, 2, 2, projection='3d')\n",
    "mesh.show_function(axes, uh, cmap='rainbow')\n",
    "plt.show()"
   ]
  },
  {
   "cell_type": "markdown",
   "id": "1319efd1",
   "metadata": {},
   "source": [
    "## （2）任意次有限元求解圆柱绕流问题"
   ]
  },
  {
   "cell_type": "code",
   "execution_count": null,
   "id": "93fbb309",
   "metadata": {},
   "outputs": [],
   "source": []
  },
  {
   "cell_type": "markdown",
   "id": "102ef916-3659-4b38-948a-c93ad645d6c3",
   "metadata": {},
   "source": [
    "# 四、常见问题"
   ]
  },
  {
   "cell_type": "markdown",
   "id": "f88c8145-5ce9-4615-a122-651978a80dd9",
   "metadata": {
    "jp-MarkdownHeadingCollapsed": true
   },
   "source": [
    "## 依赖包没有安装\n",
    "\n",
    "在你的虚拟环境中用 `pip` 安装即可\n",
    "\n",
    "```bash\n",
    "pip install -U <name>\n",
    "```"
   ]
  },
  {
   "cell_type": "markdown",
   "id": "9abbd9f3",
   "metadata": {},
   "source": [
    "# 五、结语和后续学习资源"
   ]
  },
  {
   "cell_type": "code",
   "execution_count": null,
   "id": "b9b83aa4",
   "metadata": {},
   "outputs": [],
   "source": []
  }
 ],
 "metadata": {
  "kernelspec": {
   "display_name": "Python 3 (ipykernel)",
   "language": "python",
   "name": "python3"
  },
  "language_info": {
   "codemirror_mode": {
    "name": "ipython",
    "version": 3
   },
   "file_extension": ".py",
   "mimetype": "text/x-python",
   "name": "python",
   "nbconvert_exporter": "python",
   "pygments_lexer": "ipython3",
   "version": "3.10.12"
  }
 },
 "nbformat": 4,
 "nbformat_minor": 5
}
