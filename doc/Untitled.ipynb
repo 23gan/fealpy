{
 "cells": [
  {
   "cell_type": "markdown",
   "metadata": {},
   "source": [
    "$$\n",
    "\\int_\\Omega\\nabla\\cdot R(\\nabla u_h)\\nabla\\cdot R(\\nabla v_h)\\mathrm d x = \\int_\\Omega f v_h \\mathrm d x\n",
    "$$"
   ]
  },
  {
   "cell_type": "markdown",
   "metadata": {},
   "source": [
    "$$\n",
    "u_h = \\sum_{i=1}^N u_i\\phi_i\n",
    "$$\n",
    "\n",
    "$$\n",
    "\\nabla u_h = \\sum_{i=1}^N u_i\\nabla\\phi_i\n",
    "$$\n",
    "\n",
    "$$\n",
    "R(\\nabla u_h) =(\\phi_1, \\phi_2, \\cdots, \\phi_N) D^{-1}A[\\operatorname{diag}(C_1U)\\nabla\\lambda_1^T+\\operatorname{diag}(C_2U)\\nabla\\lambda_2^T+ \\operatorname{diag}(C_3U)\\nabla\\lambda_3^T]\n",
    "$$\n",
    "\n",
    "$$\n",
    "R(\\nabla \\phi_i) =(\\phi_1, \\phi_2, \\cdots, \\phi_N) D^{-1}A[\\operatorname{diag}(C_1e_i)\\nabla\\lambda_1^T+\\operatorname{diag}(C_2e_i)\\nabla\\lambda_2^T+ \\operatorname{diag}(C_3e_i)\\nabla\\lambda_3^T]\n",
    "$$"
   ]
  },
  {
   "cell_type": "markdown",
   "metadata": {},
   "source": [
    "$$\n",
    "\\nabla\\cdot R(\\nabla u_h) =\\frac{\\partial }{\\partial x}(\\phi_1, \\phi_2, \\cdots, \\phi_N)E(:, 1) +  \\frac{\\partial }{\\partial y}(\\phi_1, \\phi_2, \\cdots, \\phi_N)E(:,2)\n",
    "$$\n",
    "\n",
    "$$\n",
    "\\nabla\\cdot R(\\nabla \\phi_i) =\\frac{\\partial }{\\partial x}(\\phi_1, \\phi_2, \\cdots, \\phi_N)F(:, 1) +  \\frac{\\partial }{\\partial y}(\\phi_1, \\phi_2, \\cdots, \\phi_N)F(:,2)\n",
    "$$"
   ]
  },
  {
   "cell_type": "markdown",
   "metadata": {
    "collapsed": true
   },
   "source": [
    "$$\n",
    "\\begin{align}\n",
    "\\int_\\Omega\\nabla\\cdot R(\\nabla u_h)\\nabla\\cdot R(\\nabla v_h)\\mathrm d x \\\\\n",
    "E(:,1)^T M_{11} F(:,1) + E(:, 1)^TM_{12}F(:,2) + E(:, 2)^TM_{21}F(:,1) + E(:,2)^TM_{22}F(:,2)\n",
    "\\end{align}\n",
    "$$"
   ]
  },
  {
   "cell_type": "markdown",
   "metadata": {},
   "source": [
    "$$\n",
    "C_k(i, j)\n",
    "\\begin{cases}\n",
    "u_i, x_i\\text{ is the } k-\\text{th} \\text{ vertices of } \\tau_j\\\\\n",
    "0, \\text{ others}\n",
    "\\end{cases}\n",
    "$$"
   ]
  },
  {
   "cell_type": "markdown",
   "metadata": {},
   "source": [
    "$$\n",
    "R(\\nabla u_h) =(\\phi_1/D_1, \\phi_2/D_2, \\cdots, \\phi_N/D_N)[C_1L_1 + C_2L_2 + C_3L_3]\n",
    "$$"
   ]
  },
  {
   "cell_type": "code",
   "execution_count": null,
   "metadata": {
    "collapsed": true
   },
   "outputs": [],
   "source": []
  }
 ],
 "metadata": {
  "kernelspec": {
   "display_name": "Python 3",
   "language": "python",
   "name": "python3"
  },
  "language_info": {
   "codemirror_mode": {
    "name": "ipython",
    "version": 3
   },
   "file_extension": ".py",
   "mimetype": "text/x-python",
   "name": "python",
   "nbconvert_exporter": "python",
   "pygments_lexer": "ipython3",
   "version": "3.5.2"
  }
 },
 "nbformat": 4,
 "nbformat_minor": 1
}
