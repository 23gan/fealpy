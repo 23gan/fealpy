{
 "cells": [
  {
   "cell_type": "markdown",
   "metadata": {},
   "source": [
    "$\\newcommand{norm}[1]{||#1||}$\n",
    "$\\newcommand{mbx}{\\mathbf x}$\n",
    "$\\newcommand{mbu}{\\mathbf u}$\n",
    "$\\newcommand{d}{\\text{div}}$\n",
    "$\\newcommand{mbf}{\\mathbf f}$\n",
    "$\\newcommand{t}{\\text{tr }}$\n",
    "$\\newcommand{mcA}{\\mathcal A}$"
   ]
  },
  {
   "cell_type": "markdown",
   "metadata": {},
   "source": [
    "# 线弹性问题"
   ]
  },
  {
   "cell_type": "markdown",
   "metadata": {},
   "source": [
    "## 模型"
   ]
  },
  {
   "cell_type": "markdown",
   "metadata": {},
   "source": [
    "$$\n",
    "-\\mu\\Delta\\mbu - (\\lambda+\\mu)\\nabla\\d\\mbu = \\mbf\n",
    "$$"
   ]
  },
  {
   "cell_type": "markdown",
   "metadata": {},
   "source": [
    "$$\n",
    "A(\\mbu) = \\frac{\\nabla\\mbu + \\nabla\\mbu^T}{2}\n",
    "$$"
   ]
  },
  {
   "cell_type": "markdown",
   "metadata": {},
   "source": [
    "$$\n",
    "\\sigma(\\bu) = 2\\mu A(\\mbu) + \\lambda(\\t A(\\mbu)) I\n",
    "$$"
   ]
  },
  {
   "cell_type": "markdown",
   "metadata": {},
   "source": [
    "$$\n",
    "\\mcA(\\sigma) = \\frac{1}{2\\mu}\\left(\\sigma - \\frac{\\lambda}{n\\lambda + 2\\mu}(\\t\\sigma) I\\right)\n",
    "$$"
   ]
  },
  {
   "cell_type": "markdown",
   "metadata": {},
   "source": [
    "$$\n",
    "-\\d\\sigma(\\bu) = \\f\n",
    "$$"
   ]
  },
  {
   "cell_type": "markdown",
   "metadata": {},
   "source": [
    "## 存在问题"
   ]
  },
  {
   "cell_type": "markdown",
   "metadata": {},
   "source": [
    "* 解法器效率太低\n",
    "* 矩阵组装基本是线性复杂度，但仍有改进空间\n",
    "* 需要更多测试例子"
   ]
  },
  {
   "cell_type": "markdown",
   "metadata": {},
   "source": [
    "## 测试模型数据"
   ]
  },
  {
   "cell_type": "code",
   "execution_count": 6,
   "metadata": {
    "collapsed": false
   },
   "outputs": [],
   "source": [
    "from IPython.display import display\n",
    "from sympy import *\n",
    "import numpy as np\n",
    "init_printing()\n",
    "\n",
    "def linear_elasticity_model(u, v):\n",
    "    n = len(v)\n",
    "    d, e = symbols('lam, mu')\n",
    "    du = u.jacobian(v)\n",
    "    sigma = d*du.trace()*eye(n)+e*(du + du.transpose())\n",
    "    f = -diff(sigma[:, 0], v[0])\n",
    "    for i in range(1, n):\n",
    "        f -= diff(sigma[:, i], v[i])\n",
    "    return f, du, sigma"
   ]
  },
  {
   "cell_type": "markdown",
   "metadata": {},
   "source": [
    "**例 1** 求解区域为 $\\Omega = [0, 1]^3$\n",
    "$$\n",
    "\\mbu = \\begin{pmatrix}\n",
    "2^4 \\\\ 2^5 \\\\ 2^6\n",
    "\\end{pmatrix}\n",
    "x(1-x)y(1-y)z(1-z)\n",
    "$$"
   ]
  },
  {
   "cell_type": "code",
   "execution_count": 3,
   "metadata": {
    "collapsed": false
   },
   "outputs": [
    {
     "name": "stdout",
     "output_type": "stream",
     "text": [
      "(Matrix([\n",
      "[4*a*mu*y*z*(-y + 1)*(-z + 1) - lam*(-2*a*y*z*(-y + 1)*(-z + 1) + b*x*y*z*(-z + 1) - b*x*z*(-y + 1)*(-z + 1) - b*y*z*(-x + 1)*(-z + 1) + b*z*(-x + 1)*(-y + 1)*(-z + 1) + c*x*y*z*(-y + 1) - c*x*y*(-y + 1)*(-z + 1) - c*y*z*(-x + 1)*(-y + 1) + c*y*(-x + 1)*(-y + 1)*(-z + 1)) - mu*(-2*a*x*y*(-x + 1)*(-y + 1) + c*x*y*z*(-y + 1) - c*x*y*(-y + 1)*(-z + 1) - c*y*z*(-x + 1)*(-y + 1) + c*y*(-x + 1)*(-y + 1)*(-z + 1)) - mu*(-2*a*x*z*(-x + 1)*(-z + 1) + b*x*y*z*(-z + 1) - b*x*z*(-y + 1)*(-z + 1) - b*y*z*(-x + 1)*(-z + 1) + b*z*(-x + 1)*(-y + 1)*(-z + 1))],\n",
      "[  4*b*mu*x*z*(-x + 1)*(-z + 1) - lam*(a*x*y*z*(-z + 1) - a*x*z*(-y + 1)*(-z + 1) - a*y*z*(-x + 1)*(-z + 1) + a*z*(-x + 1)*(-y + 1)*(-z + 1) - 2*b*x*z*(-x + 1)*(-z + 1) + c*x*y*z*(-x + 1) - c*x*y*(-x + 1)*(-z + 1) - c*x*z*(-x + 1)*(-y + 1) + c*x*(-x + 1)*(-y + 1)*(-z + 1)) - mu*(a*x*y*z*(-z + 1) - a*x*z*(-y + 1)*(-z + 1) - a*y*z*(-x + 1)*(-z + 1) + a*z*(-x + 1)*(-y + 1)*(-z + 1) - 2*b*y*z*(-y + 1)*(-z + 1)) - mu*(-2*b*x*y*(-x + 1)*(-y + 1) + c*x*y*z*(-x + 1) - c*x*y*(-x + 1)*(-z + 1) - c*x*z*(-x + 1)*(-y + 1) + c*x*(-x + 1)*(-y + 1)*(-z + 1))],\n",
      "[   4*c*mu*x*y*(-x + 1)*(-y + 1) - lam*(a*x*y*z*(-y + 1) - a*x*y*(-y + 1)*(-z + 1) - a*y*z*(-x + 1)*(-y + 1) + a*y*(-x + 1)*(-y + 1)*(-z + 1) + b*x*y*z*(-x + 1) - b*x*y*(-x + 1)*(-z + 1) - b*x*z*(-x + 1)*(-y + 1) + b*x*(-x + 1)*(-y + 1)*(-z + 1) - 2*c*x*y*(-x + 1)*(-y + 1)) - mu*(a*x*y*z*(-y + 1) - a*x*y*(-y + 1)*(-z + 1) - a*y*z*(-x + 1)*(-y + 1) + a*y*(-x + 1)*(-y + 1)*(-z + 1) - 2*c*y*z*(-y + 1)*(-z + 1)) - mu*(b*x*y*z*(-x + 1) - b*x*y*(-x + 1)*(-z + 1) - b*x*z*(-x + 1)*(-y + 1) + b*x*(-x + 1)*(-y + 1)*(-z + 1) - 2*c*x*z*(-x + 1)*(-z + 1))]]), Matrix([\n",
      "[-a*x*y*z*(-y + 1)*(-z + 1) + a*y*z*(-x + 1)*(-y + 1)*(-z + 1), -a*x*y*z*(-x + 1)*(-z + 1) + a*x*z*(-x + 1)*(-y + 1)*(-z + 1), -a*x*y*z*(-x + 1)*(-y + 1) + a*x*y*(-x + 1)*(-y + 1)*(-z + 1)],\n",
      "[-b*x*y*z*(-y + 1)*(-z + 1) + b*y*z*(-x + 1)*(-y + 1)*(-z + 1), -b*x*y*z*(-x + 1)*(-z + 1) + b*x*z*(-x + 1)*(-y + 1)*(-z + 1), -b*x*y*z*(-x + 1)*(-y + 1) + b*x*y*(-x + 1)*(-y + 1)*(-z + 1)],\n",
      "[-c*x*y*z*(-y + 1)*(-z + 1) + c*y*z*(-x + 1)*(-y + 1)*(-z + 1), -c*x*y*z*(-x + 1)*(-z + 1) + c*x*z*(-x + 1)*(-y + 1)*(-z + 1), -c*x*y*z*(-x + 1)*(-y + 1) + c*x*y*(-x + 1)*(-y + 1)*(-z + 1)]]), Matrix([\n",
      "[lam*(-a*x*y*z*(-y + 1)*(-z + 1) + a*y*z*(-x + 1)*(-y + 1)*(-z + 1) - b*x*y*z*(-x + 1)*(-z + 1) + b*x*z*(-x + 1)*(-y + 1)*(-z + 1) - c*x*y*z*(-x + 1)*(-y + 1) + c*x*y*(-x + 1)*(-y + 1)*(-z + 1)) + mu*(-2*a*x*y*z*(-y + 1)*(-z + 1) + 2*a*y*z*(-x + 1)*(-y + 1)*(-z + 1)),                                                                                                                                          mu*(-a*x*y*z*(-x + 1)*(-z + 1) + a*x*z*(-x + 1)*(-y + 1)*(-z + 1) - b*x*y*z*(-y + 1)*(-z + 1) + b*y*z*(-x + 1)*(-y + 1)*(-z + 1)),                                                                                                                                          mu*(-a*x*y*z*(-x + 1)*(-y + 1) + a*x*y*(-x + 1)*(-y + 1)*(-z + 1) - c*x*y*z*(-y + 1)*(-z + 1) + c*y*z*(-x + 1)*(-y + 1)*(-z + 1))],\n",
      "[                                                                                                                                         mu*(-a*x*y*z*(-x + 1)*(-z + 1) + a*x*z*(-x + 1)*(-y + 1)*(-z + 1) - b*x*y*z*(-y + 1)*(-z + 1) + b*y*z*(-x + 1)*(-y + 1)*(-z + 1)), lam*(-a*x*y*z*(-y + 1)*(-z + 1) + a*y*z*(-x + 1)*(-y + 1)*(-z + 1) - b*x*y*z*(-x + 1)*(-z + 1) + b*x*z*(-x + 1)*(-y + 1)*(-z + 1) - c*x*y*z*(-x + 1)*(-y + 1) + c*x*y*(-x + 1)*(-y + 1)*(-z + 1)) + mu*(-2*b*x*y*z*(-x + 1)*(-z + 1) + 2*b*x*z*(-x + 1)*(-y + 1)*(-z + 1)),                                                                                                                                          mu*(-b*x*y*z*(-x + 1)*(-y + 1) + b*x*y*(-x + 1)*(-y + 1)*(-z + 1) - c*x*y*z*(-x + 1)*(-z + 1) + c*x*z*(-x + 1)*(-y + 1)*(-z + 1))],\n",
      "[                                                                                                                                         mu*(-a*x*y*z*(-x + 1)*(-y + 1) + a*x*y*(-x + 1)*(-y + 1)*(-z + 1) - c*x*y*z*(-y + 1)*(-z + 1) + c*y*z*(-x + 1)*(-y + 1)*(-z + 1)),                                                                                                                                          mu*(-b*x*y*z*(-x + 1)*(-y + 1) + b*x*y*(-x + 1)*(-y + 1)*(-z + 1) - c*x*y*z*(-x + 1)*(-z + 1) + c*x*z*(-x + 1)*(-y + 1)*(-z + 1)), lam*(-a*x*y*z*(-y + 1)*(-z + 1) + a*y*z*(-x + 1)*(-y + 1)*(-z + 1) - b*x*y*z*(-x + 1)*(-z + 1) + b*x*z*(-x + 1)*(-y + 1)*(-z + 1) - c*x*y*z*(-x + 1)*(-y + 1) + c*x*y*(-x + 1)*(-y + 1)*(-z + 1)) + mu*(-2*c*x*y*z*(-x + 1)*(-y + 1) + 2*c*x*y*(-x + 1)*(-y + 1)*(-z + 1))]]))\n"
     ]
    }
   ],
   "source": [
    "x, y, z, a, b, c= symbols('x, y, z, a, b, c')\n",
    "u0 = x*(1-x)*y*(1-y)*z*(1-z)\n",
    "u = Matrix([a, b, c])*u0\n",
    "f = linear_elasticity_model(u, (x, y, z))\n",
    "print(f)"
   ]
  },
  {
   "cell_type": "markdown",
   "metadata": {},
   "source": [
    "Construct linear system time: 1.659951514000113\n",
    "Solve time: 0.08165926999981821\n",
    "Construct linear system time: 13.403858605000096\n",
    "Solve time: 2.987838785999884\n",
    "Construct linear system time: 108.33645204000004\n",
    "Solve time: 192.936152407\n",
    "Ndof: [  750  4374 29478]\n",
    "error: [[  1.39739596e+00   2.29570086e-01   2.73310407e-02]\n",
    " [  1.46080383e+01   4.92832365e+00   1.25911061e+00]\n",
    " [  9.33096445e-02   8.14716287e-03   5.08085642e-04]]"
   ]
  },
  {
   "cell_type": "markdown",
   "metadata": {
    "collapsed": true
   },
   "source": [
    "**例 2** 求解区域为 $\\Omega = [0, 1]^3$\n",
    "\n",
    "$$\n",
    "u = \\begin{pmatrix}\n",
    "e^{x-y}x(1-x)y(1-y) \\\\\n",
    "\\sin(\\pi x)\\sin(\\pi y)\n",
    "\\end{pmatrix}\n",
    "$$"
   ]
  },
  {
   "cell_type": "code",
   "execution_count": 7,
   "metadata": {
    "collapsed": false
   },
   "outputs": [
    {
     "name": "stdout",
     "output_type": "stream",
     "text": [
      "Matrix([[-lam*(x*y*(-x + 1)*(-y + 1)*exp(x - y) - 2*x*y*(-y + 1)*exp(x - y) + 2*y*(-x + 1)*(-y + 1)*exp(x - y) - 2*y*(-y + 1)*exp(x - y) + pi**2*cos(pi*x)*cos(pi*y)) - mu*(2*x*y*(-x + 1)*(-y + 1)*exp(x - y) - 4*x*y*(-y + 1)*exp(x - y) + 4*y*(-x + 1)*(-y + 1)*exp(x - y) - 4*y*(-y + 1)*exp(x - y)) - mu*(x*y*(-x + 1)*(-y + 1)*exp(x - y) + 2*x*y*(-x + 1)*exp(x - y) - 2*x*(-x + 1)*(-y + 1)*exp(x - y) - 2*x*(-x + 1)*exp(x - y) + pi**2*cos(pi*x)*cos(pi*y))], [-lam*(-x*y*(-x + 1)*(-y + 1)*exp(x - y) - x*y*(-x + 1)*exp(x - y) + x*y*(-y + 1)*exp(x - y) + x*y*exp(x - y) + x*(-x + 1)*(-y + 1)*exp(x - y) - x*(-y + 1)*exp(x - y) - y*(-x + 1)*(-y + 1)*exp(x - y) - y*(-x + 1)*exp(x - y) + (-x + 1)*(-y + 1)*exp(x - y) - pi**2*sin(pi*x)*sin(pi*y)) - mu*(-x*y*(-x + 1)*(-y + 1)*exp(x - y) - x*y*(-x + 1)*exp(x - y) + x*y*(-y + 1)*exp(x - y) + x*y*exp(x - y) + x*(-x + 1)*(-y + 1)*exp(x - y) - x*(-y + 1)*exp(x - y) - y*(-x + 1)*(-y + 1)*exp(x - y) - y*(-x + 1)*exp(x - y) + (-x + 1)*(-y + 1)*exp(x - y) - pi**2*sin(pi*x)*sin(pi*y)) + 2*pi**2*mu*sin(pi*x)*sin(pi*y)]])\n",
      "Matrix([[-lam*(pi**2*cc + e*t0*x*y + 2*e*t0*y - 2*e*x*y*(-y + 1) - 2*e*y*(-y + 1)) - mu*(2*e*t0*x*y + 4*e*t0*y - 4*e*x*y*(-y + 1) - 4*e*y*(-y + 1)) - mu*(pi**2*cc + e*t0*x*y - 2*e*t0*x + 2*e*x*y*(-x + 1) - 2*e*x*(-x + 1))], [-lam*(-e*t0*x*y + e*t0*x - e*t0*y + e*t0 - e*x*y*(-x + 1) + e*x*y*(-y + 1) + e*x*y - e*x*(-y + 1) - e*y*(-x + 1) - pi**2*ss) + 2*pi**2*mu*ss - mu*(-e*t0*x*y + e*t0*x - e*t0*y + e*t0 - e*x*y*(-x + 1) + e*x*y*(-y + 1) + e*x*y - e*x*(-y + 1) - e*y*(-x + 1) - pi**2*ss)]])\n",
      "Matrix([[x*y*(-x + 1)*(-y + 1)*exp(x - y) - x*y*(-y + 1)*exp(x - y) + y*(-x + 1)*(-y + 1)*exp(x - y), -x*y*(-x + 1)*(-y + 1)*exp(x - y) - x*y*(-x + 1)*exp(x - y) + x*(-x + 1)*(-y + 1)*exp(x - y)], [pi*sin(pi*y)*cos(pi*x), pi*sin(pi*x)*cos(pi*y)]])\n"
     ]
    }
   ],
   "source": [
    "x, y = symbols('x, y')\n",
    "u = Matrix([exp(x-y)*x*(1-x)*y*(1-y), sin(pi*x)*sin(pi*y)])\n",
    "f, du, sigma= linear_elasticity_model(u, (x,y))\n",
    "ss, cc, e, t0 = symbols('ss, cc, e, t0')\n",
    "sub = {sin(pi*x)*sin(pi*y):ss, cos(pi*x)*cos(pi*y):cc, exp(x-y):e, (-x+1)*(-y+1):t0}\n",
    "print(f)\n",
    "print(f.subs(sub))\n",
    "print(du)"
   ]
  },
  {
   "cell_type": "code",
   "execution_count": null,
   "metadata": {
    "collapsed": true
   },
   "outputs": [],
   "source": []
  }
 ],
 "metadata": {
  "kernelspec": {
   "display_name": "Python 3",
   "language": "python",
   "name": "python3"
  },
  "language_info": {
   "codemirror_mode": {
    "name": "ipython",
    "version": 3
   },
   "file_extension": ".py",
   "mimetype": "text/x-python",
   "name": "python",
   "nbconvert_exporter": "python",
   "pygments_lexer": "ipython3",
   "version": "3.5.2"
  },
  "latex_envs": {
   "bibliofile": "biblio.bib",
   "cite_by": "apalike",
   "current_citInitial": 1,
   "eqLabelWithNumbers": true,
   "eqNumInitial": 0
  }
 },
 "nbformat": 4,
 "nbformat_minor": 2
}
