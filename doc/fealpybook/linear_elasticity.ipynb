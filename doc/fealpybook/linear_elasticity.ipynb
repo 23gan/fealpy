{
 "cells": [
  {
   "cell_type": "markdown",
   "metadata": {},
   "source": [
    "$\\newcommand{norm}[1]{||#1||}$\n",
    "$\\newcommand{bx}{\\mathbf x}$\n",
    "$\\newcommand{bu}{\\mathbf u}$\n",
    "$\\newcommand{d}{\\text{div }}$\n",
    "$\\newcommand{f}{\\mathbf f}$"
   ]
  },
  {
   "cell_type": "markdown",
   "metadata": {},
   "source": [
    "# 线弹性问题"
   ]
  },
  {
   "cell_type": "markdown",
   "metadata": {},
   "source": [
    "## 模型"
   ]
  },
  {
   "cell_type": "markdown",
   "metadata": {},
   "source": [
    "$$\n",
    "-\\mu\\Delta\\bu - (\\lambda+\\mu)\\nabla\\d\\bu = \\f\n",
    "$$"
   ]
  },
  {
   "cell_type": "markdown",
   "metadata": {},
   "source": [
    "令\n",
    "$$\n",
    "\\sigma(\\bu) = \\lambda\\d\\bu I+\\mu(\\nabla\\bu + \\nabla\\bu^T)\n",
    "$$"
   ]
  },
  {
   "cell_type": "markdown",
   "metadata": {},
   "source": [
    "$$\n",
    "-\\d\\sigma(\\bu) = \\f\n",
    "$$"
   ]
  },
  {
   "cell_type": "code",
   "execution_count": 1,
   "metadata": {
    "collapsed": true
   },
   "outputs": [],
   "source": [
    "from IPython.display import display\n",
    "from sympy import *\n",
    "import numpy as np\n",
    "init_printing()\n",
    "\n",
    "def gradient(scalar_function, variables):\n",
    "    matrix_scalar_function = Matrix([scalar_function])\n",
    "    return matrix_scalar_function.jacobian(variables)"
   ]
  },
  {
   "cell_type": "code",
   "execution_count": 26,
   "metadata": {
    "collapsed": false
   },
   "outputs": [
    {
     "name": "stdout",
     "output_type": "stream",
     "text": [
      "Matrix([[-a*x*y*z*(-y + 1)*(-z + 1) + a*y*z*(-x + 1)*(-y + 1)*(-z + 1), -a*x*y*z*(-x + 1)*(-z + 1) + a*x*z*(-x + 1)*(-y + 1)*(-z + 1), -a*x*y*z*(-x + 1)*(-y + 1) + a*x*y*(-x + 1)*(-y + 1)*(-z + 1)], [-b*x*y*z*(-y + 1)*(-z + 1) + b*y*z*(-x + 1)*(-y + 1)*(-z + 1), -b*x*y*z*(-x + 1)*(-z + 1) + b*x*z*(-x + 1)*(-y + 1)*(-z + 1), -b*x*y*z*(-x + 1)*(-y + 1) + b*x*y*(-x + 1)*(-y + 1)*(-z + 1)], [-c*x*y*z*(-y + 1)*(-z + 1) + c*y*z*(-x + 1)*(-y + 1)*(-z + 1), -c*x*y*z*(-x + 1)*(-z + 1) + c*x*z*(-x + 1)*(-y + 1)*(-z + 1), -c*x*y*z*(-x + 1)*(-y + 1) + c*x*y*(-x + 1)*(-y + 1)*(-z + 1)]])\n",
      "Matrix([[4*a*mu*t1*y*z - lam*(-2*a*t1*y*z + b*t0*z - b*t1*x*z - b*t2*y*z + b*x*y*z*(-z + 1) + c*t0*y - c*t1*x*y - c*t3*y*z + c*x*y*z*(-y + 1)) - mu*(-2*a*t2*x*z + b*t0*z - b*t1*x*z - b*t2*y*z + b*x*y*z*(-z + 1)) - mu*(-2*a*t3*x*y + c*t0*y - c*t1*x*y - c*t3*y*z + c*x*y*z*(-y + 1))], [4*b*mu*t2*x*z - lam*(a*t0*z - a*t1*x*z - a*t2*y*z + a*x*y*z*(-z + 1) - 2*b*t2*x*z + c*t0*x - c*t2*x*y - c*t3*x*z + c*x*y*z*(-x + 1)) - mu*(a*t0*z - a*t1*x*z - a*t2*y*z + a*x*y*z*(-z + 1) - 2*b*t1*y*z) - mu*(-2*b*t3*x*y + c*t0*x - c*t2*x*y - c*t3*x*z + c*x*y*z*(-x + 1))], [4*c*mu*t3*x*y - lam*(a*t0*y - a*t1*x*y - a*t3*y*z + a*x*y*z*(-y + 1) + b*t0*x - b*t2*x*y - b*t3*x*z + b*x*y*z*(-x + 1) - 2*c*t3*x*y) - mu*(a*t0*y - a*t1*x*y - a*t3*y*z + a*x*y*z*(-y + 1) - 2*c*t1*y*z) - mu*(b*t0*x - b*t2*x*y - b*t3*x*z + b*x*y*z*(-x + 1) - 2*c*t2*x*z)]])\n"
     ]
    }
   ],
   "source": [
    "x, y, z, a, b, c, d, e = symbols('x, y, z, a, b, c, lam, mu')\n",
    "u = x*(1-x)*y*(1-y)*z*(1-z)\n",
    "mat = Matrix([a*u, b*u, c*u])\n",
    "du = mat.jacobian((x, y, z))\n",
    "print(du)\n",
    "sigma = d*du.trace()*Matrix([[1, 0, 0],[0, 1, 0],[0, 0, 1]])+ e*(du + du.transpose())\n",
    "f = -(diff(sigma, x)[:, 0] + diff(sigma, y)[:, 1] + diff(sigma, z)[:, 2])\n",
    "t0, t1, t2, t3 = symbols('t0, t1, t2, t3')\n",
    "sub = {(-x+1)*(-y+1)*(-z+1):t0, (-y+1)*(-z+1):t1, (-x+1)*(-z+1):t2, (-x+1)*(-y+1):t3}\n",
    "ff = f.subs(sub)\n",
    "print(ff)"
   ]
  },
  {
   "cell_type": "code",
   "execution_count": 30,
   "metadata": {
    "collapsed": false
   },
   "outputs": [
    {
     "data": {
      "image/png": "[encoded data removed]",
      "text/latex": [
       "$$b lam x y z^{2} - b lam x y z + b \\mu x y z^{2} - b \\mu x y z + c lam x y^{2} z - c lam x y z + c \\mu x y^{2} z - c \\mu x y z + t_{0} \\left(- b lam z - b \\mu z - c lam y - c \\mu y\\right) + t_{1} \\left(2 a lam y z + 4 a \\mu y z + b lam x z + b \\mu x z + c lam x y + c \\mu x y\\right) + t_{2} \\left(2 a \\mu x z + b lam y z + b \\mu y z\\right) + t_{3} \\left(2 a \\mu x y + c lam y z + c \\mu y z\\right)$$"
      ],
      "text/plain": [
       "           2                          2                        2              \n",
       "b⋅lam⋅x⋅y⋅z  - b⋅lam⋅x⋅y⋅z + b⋅μ⋅x⋅y⋅z  - b⋅μ⋅x⋅y⋅z + c⋅lam⋅x⋅y ⋅z - c⋅lam⋅x⋅y\n",
       "\n",
       "            2                                                                 \n",
       "⋅z + c⋅μ⋅x⋅y ⋅z - c⋅μ⋅x⋅y⋅z + t₀⋅(-b⋅lam⋅z - b⋅μ⋅z - c⋅lam⋅y - c⋅μ⋅y) + t₁⋅(2⋅\n",
       "\n",
       "                                                                              \n",
       "a⋅lam⋅y⋅z + 4⋅a⋅μ⋅y⋅z + b⋅lam⋅x⋅z + b⋅μ⋅x⋅z + c⋅lam⋅x⋅y + c⋅μ⋅x⋅y) + t₂⋅(2⋅a⋅μ\n",
       "\n",
       "                                                                  \n",
       "⋅x⋅z + b⋅lam⋅y⋅z + b⋅μ⋅y⋅z) + t₃⋅(2⋅a⋅μ⋅x⋅y + c⋅lam⋅y⋅z + c⋅μ⋅y⋅z)"
      ]
     },
     "execution_count": 30,
     "metadata": {},
     "output_type": "execute_result"
    }
   ],
   "source": [
    "collect(expand(ff[0,0]), (t0, t1, t2, t3))"
   ]
  },
  {
   "cell_type": "code",
   "execution_count": null,
   "metadata": {
    "collapsed": true
   },
   "outputs": [],
   "source": []
  }
 ],
 "metadata": {
  "kernelspec": {
   "display_name": "Python 3",
   "language": "python",
   "name": "python3"
  },
  "language_info": {
   "codemirror_mode": {
    "name": "ipython",
    "version": 3
   },
   "file_extension": ".py",
   "mimetype": "text/x-python",
   "name": "python",
   "nbconvert_exporter": "python",
   "pygments_lexer": "ipython3",
   "version": "3.5.2"
  },
  "latex_envs": {
   "bibliofile": "biblio.bib",
   "cite_by": "apalike",
   "current_citInitial": 1,
   "eqLabelWithNumbers": true,
   "eqNumInitial": 0
  }
 },
 "nbformat": 4,
 "nbformat_minor": 2
}
