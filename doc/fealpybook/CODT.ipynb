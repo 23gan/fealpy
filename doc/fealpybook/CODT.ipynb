{
 "cells": [
  {
   "cell_type": "markdown",
   "metadata": {},
   "source": [
    "$$\n",
    "\\newcommand{norm}[1]{||#1||}\n",
    "\\newcommand{bx}{\\mathbf x}\n",
    "\\newcommand{bc}{\\mathbf c}\n",
    "\\newcommand{bu}{\\mathbf u}\n",
    "\\newcommand{bi}{\\mathbf i}\n",
    "$$"
   ]
  },
  {
   "cell_type": "markdown",
   "metadata": {},
   "source": [
    "|Notation | meaning |\n",
    "|:------|:-------|\n",
    "|$\\bx$ | | \n",
    "|$\\blam$ | |"
   ]
  },
  {
   "cell_type": "markdown",
   "metadata": {
    "collapsed": true
   },
   "source": [
    "The volume of a $d$-dimensional unit and regular simplex is \n",
    "$$\n",
    "|\\bar \\tau_i| = \\frac{\\sqrt{d+1}}{\\sqrt{2^d} d!}=\n",
    "\\begin{cases}\n",
    "1, & d = 1\\\\\n",
    "\\frac{\\sqrt{3}}{4}, & d = 2\\\\\n",
    "\\frac{\\sqrt{2}}{12}, & d = 3\n",
    "\\end{cases}\n",
    "$$"
   ]
  },
  {
   "cell_type": "markdown",
   "metadata": {},
   "source": [
    "ODT energy as potential energy.\n",
    "\n",
    "$$\n",
    "W_{ODT}(J) = \\frac{1}{2(d+2)}\\det(J)||J||_F^2\n",
    "$$"
   ]
  },
  {
   "cell_type": "markdown",
   "metadata": {},
   "source": [
    "$$\n",
    "\\bu = (u_0, u_1, \\cdots, u_d)^t\n",
    "$$\n",
    "\n",
    "$$\n",
    "B_\\bi^n = \\frac{n!}{\\bi!}\\bu^\\bi\n",
    "$$\n",
    "\n",
    "where \n",
    "$$\n",
    "\\bi = (i_0, i_1, \\cdots, i_d) \\\\\n",
    "\\bu^\\bi = \\Pi_{k=0}^d u_k^{i_k}\n",
    "$$"
   ]
  },
  {
   "cell_type": "markdown",
   "metadata": {},
   "source": [
    "Set\n",
    "\n",
    "$$\n",
    "A = \n",
    "\\begin{pmatrix}\n",
    "0 & 1 & \\frac{1}{2}\\\\\n",
    "0 & 0 & \\frac{\\sqrt{3}}{2}\\\\\n",
    "1 & 1 & 1\n",
    "\\end{pmatrix}\n",
    "$$\n",
    "\n",
    "$$\n",
    "A\\bu = \\bar\\bx\n",
    "$$\n",
    "\n",
    "$$\n",
    "\\frac{\\partial \\bu}{\\partial \\bar\\bx} = A^{-1}\n",
    "$$"
   ]
  },
  {
   "cell_type": "markdown",
   "metadata": {
    "collapsed": true
   },
   "source": [
    "$$\n",
    "\\bx = \\varphi(\\bar\\bx) = (\\bc_{i_0}, \\bc_{i_1}, \\cdots, \\bc_{i_N})\n",
    "\\begin{pmatrix}\n",
    "B_{i_0}^n\\\\ B_{i_1}^n\\\\ \\vdots\\\\ B_{i_N}^n \n",
    "\\end{pmatrix}: = CB\n",
    "$$"
   ]
  },
  {
   "cell_type": "markdown",
   "metadata": {},
   "source": [
    "$$\n",
    "J(\\bar\\bx) := \\nabla_{\\bar\\bx} \\varphi(\\bar \\bx) = C\\begin{pmatrix}\n",
    " (\\nabla_\\bu B_{i_0}^n)^t\\\\ (\\nabla_\\bu B_{i_1}^n)^t\\\\ \\vdots\\\\ (\\nabla_\\bu B_{i_N}^n)^t\n",
    "\\end{pmatrix}\\frac{\\partial \\bu}{\\partial \\bar\\bx}\n",
    "$$"
   ]
  },
  {
   "cell_type": "markdown",
   "metadata": {},
   "source": []
  }
 ],
 "metadata": {
  "kernelspec": {
   "display_name": "Python 3",
   "language": "python",
   "name": "python3"
  },
  "language_info": {
   "codemirror_mode": {
    "name": "ipython",
    "version": 3
   },
   "file_extension": ".py",
   "mimetype": "text/x-python",
   "name": "python",
   "nbconvert_exporter": "python",
   "pygments_lexer": "ipython3",
   "version": "3.5.2"
  },
  "latex_envs": {
   "bibliofile": "biblio.bib",
   "cite_by": "apalike",
   "current_citInitial": 1,
   "eqLabelWithNumbers": true,
   "eqNumInitial": 0
  }
 },
 "nbformat": 4,
 "nbformat_minor": 2
}
