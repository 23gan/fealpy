{
 "cells": [
  {
   "cell_type": "markdown",
   "metadata": {},
   "source": [
    "# $H_{div}$ 和 $H_{curl}$ 空间"
   ]
  },
  {
   "cell_type": "markdown",
   "metadata": {},
   "source": [
    "## 1. 基础知识"
   ]
  },
  {
   "cell_type": "markdown",
   "metadata": {},
   "source": [
    "###  1. 1 二维情形"
   ]
  },
  {
   "cell_type": "markdown",
   "metadata": {},
   "source": [
    "给定反对称矩阵：\n",
    "$$\n",
    "W = \\begin{pmatrix}\n",
    "0 & 1\\\\ -1 & 0 \n",
    "\\end{pmatrix}\n",
    "$$"
   ]
  },
  {
   "cell_type": "markdown",
   "metadata": {},
   "source": [
    "$$\n",
    "\\nabla q = (\\frac{\\partial q}{\\partial x}, \\frac{\\partial q}{\\partial y})\n",
    "$$\n",
    "\n",
    "$$\n",
    "\\mathbf{rot}\\, q = (\\frac{\\partial q}{\\partial y}, - \\frac{\\partial q}{\\partial x}) = \\nabla  q W^T\n",
    "$$\n",
    "\n",
    "$$\n",
    "\\mathrm{rot}\\, \\mathbf v = \\frac{\\partial v_2}{\\partial x} - \\frac{\\partial v_1}{\\partial y}\n",
    "$$"
   ]
  },
  {
   "cell_type": "markdown",
   "metadata": {},
   "source": [
    "给定三角形单元 $\\tau = (\\mathbf x_0, \\mathbf x_1, \\mathbf x_2)$, 其三个顶点按逆时针方向排序， 对应重心坐标函数分别为 $\\lambda_0$, $\\lambda_1$, $\\lambda_2$， 其梯度为："
   ]
  },
  {
   "cell_type": "markdown",
   "metadata": {},
   "source": [
    "$$\n",
    "\\begin{aligned}\n",
    "\\nabla\\lambda_0 = \\frac{1}{2|\\tau|}(\\mathbf x_2 - \\mathbf x_1)W\\\\\n",
    "\\nabla\\lambda_1 = \\frac{1}{2|\\tau|}(\\mathbf x_0 - \\mathbf x_2)W\\\\\n",
    "\\nabla\\lambda_2 = \\frac{1}{2|\\tau|}(\\mathbf x_1 - \\mathbf x_0)W\\\\\n",
    "\\end{aligned}\n",
    "$$\n"
   ]
  },
  {
   "cell_type": "markdown",
   "metadata": {},
   "source": [
    "$$\n",
    "\\begin{aligned}\n",
    "\\mathbf{rot}\\, \\lambda_0 =\\nabla\\lambda_0 W^T = \\frac{1}{2|\\tau|}(\\mathbf x_2 - \\mathbf x_1)\\\\\n",
    "\\mathbf{rot}\\, \\lambda_1 =\\nabla\\lambda_1 W^T= \\frac{1}{2|\\tau|}(\\mathbf x_0 - \\mathbf x_2)\\\\\n",
    "\\mathbf{rot}\\, \\lambda_2 =\\nabla\\lambda_2 W^T = \\frac{1}{2|\\tau|}(\\mathbf x_1 - \\mathbf x_0)\\\\\n",
    "\\end{aligned}\n",
    "$$"
   ]
  },
  {
   "cell_type": "markdown",
   "metadata": {},
   "source": [
    "$$\n",
    "\\mathbf \\phi_{i, j}^{(1)} = \\lambda_i \\mathbf{rot}\\,\\lambda_j,\\quad\n",
    "\\mathbf \\phi_{i, j}^{(2)} = \\lambda_i \\nabla \\lambda_j\n",
    "$$"
   ]
  },
  {
   "cell_type": "markdown",
   "metadata": {},
   "source": [
    "### 1. 2 三维情形"
   ]
  },
  {
   "cell_type": "markdown",
   "metadata": {},
   "source": [
    "给定三维空间中的标量函数 $q$ 和向量函数 $\\mathbf v = (v_1, v_2, v_3)$, 常用的算子有\n",
    "\n",
    "\n",
    "$$\n",
    "\\nabla q = (\\frac{\\partial q}{\\partial x}, \\frac{\\partial q}{\\partial y}, \\frac{\\partial q}{\\partial z})\n",
    "$$\n",
    "\n",
    "$$\n",
    "\\nabla\\times \\mathbf v = (\\frac{\\partial v_3}{\\partial y} - \\frac{\\partial v_2}{\\partial z}, \\frac{\\partial v_1}{\\partial z} - \\frac{\\partial v_3}{\\partial x}, \\frac{\\partial v_2}{\\partial x} - \\frac{\\partial v_1}{\\partial y})\n",
    "$$"
   ]
  },
  {
   "cell_type": "markdown",
   "metadata": {},
   "source": [
    "给定四面体单元 $\\tau = (\\mathbf x_0, \\mathbf x_1, \\mathbf x_2， \\mathbf x_3)$, 其四个顶点排列满足右手法则，其四个面分别为：\n",
    "\n",
    "$$\n",
    "f_0 := (\\mathbf x_1, \\mathbf x_2, \\mathbf x_3)\\\\\n",
    "f_1 := (\\mathbf x_0, \\mathbf x_3, \\mathbf x_2)\\\\\n",
    "f_2 := (\\mathbf x_0, \\mathbf x_1, \\mathbf x_3)\\\\\n",
    "f_3 := (\\mathbf x_0, \\mathbf x_2, \\mathbf x_1)\\\\\n",
    "$$"
   ]
  },
  {
   "cell_type": "markdown",
   "metadata": {},
   "source": [
    "六条边为：\n",
    "\n",
    "$$\n",
    "e_0 : = (\\mathbf x_0, \\mathbf x_1)\\\\\n",
    "e_1 : = (\\mathbf x_0, \\mathbf x_2)\\\\\n",
    "e_2 : = (\\mathbf x_0, \\mathbf x_3)\\\\\n",
    "e_3 : = (\\mathbf x_1, \\mathbf x_2)\\\\\n",
    "e_4 : = (\\mathbf x_1, \\mathbf x_3)\\\\\n",
    "e_5 : = (\\mathbf x_2, \\mathbf x_3)\\\\\n",
    "$$"
   ]
  },
  {
   "cell_type": "markdown",
   "metadata": {},
   "source": [
    "对应重心坐标函数分别为 $\\lambda_0$, $\\lambda_1$, $\\lambda_2$ 和 $\\lambda_3$, 其对应梯度为：\n",
    "\n",
    "$$\n",
    "\\nabla \\lambda_0 = \\frac{1}{6|\\tau|}(\\mathbf x_3 - \\mathbf x_1)\\times(\\mathbf x_2 - \\mathbf x_1)\\\\\n",
    "\\nabla \\lambda_1 = \\frac{1}{6|\\tau|}(\\mathbf x_2 - \\mathbf x_0)\\times(\\mathbf x_3 - \\mathbf x_0)\\\\\n",
    "\\nabla \\lambda_2 = \\frac{1}{6|\\tau|}(\\mathbf x_3 - \\mathbf x_0)\\times(\\mathbf x_1 - \\mathbf x_0)\\\\\n",
    "\\nabla \\lambda_3 = \\frac{1}{6|\\tau|}(\\mathbf x_1 - \\mathbf x_0)\\times(\\mathbf x_2 - \\mathbf x_0)\\\\\n",
    "$$"
   ]
  },
  {
   "cell_type": "markdown",
   "metadata": {},
   "source": [
    "## 2. $RT$ 元"
   ]
  },
  {
   "cell_type": "markdown",
   "metadata": {},
   "source": [
    "### 2.1 三角形"
   ]
  },
  {
   "cell_type": "markdown",
   "metadata": {},
   "source": [
    "* $RT_0$ "
   ]
  },
  {
   "cell_type": "markdown",
   "metadata": {},
   "source": [
    "基函数为:\n",
    "\n",
    "$$\n",
    "\\mathbf \\phi_0 = \\lambda_1 \\mathbf{rot}\\,\\lambda_2 - \\lambda_2 \\mathbf{rot}\\,\\lambda_1\\\\\n",
    "\\mathbf \\phi_1 = \\lambda_2 \\mathbf{rot}\\,\\lambda_0 - \\lambda_0 \\mathbf{rot}\\,\\lambda_2\\\\\n",
    "\\mathbf \\phi_2 = \\lambda_0 \\mathbf{rot}\\,\\lambda_1 - \\lambda_1 \\mathbf{rot}\\,\\lambda_0\n",
    "$$"
   ]
  },
  {
   "cell_type": "markdown",
   "metadata": {},
   "source": [
    "对偶基为：\n",
    "\n",
    "$$\n",
    "\\Phi_0(\\mathbf u) = \\int_{e_0}\\mathbf u\\cdot \\mathbf n_0 \\mathrm d s\\\\\n",
    "\\Phi_1(\\mathbf u) = \\int_{e_1}\\mathbf u\\cdot \\mathbf n_1 \\mathrm d s\\\\\n",
    "\\Phi_2(\\mathbf u) = \\int_{e_2}\\mathbf u\\cdot \\mathbf n_2 \\mathrm d s\\\\\n",
    "$$"
   ]
  },
  {
   "cell_type": "markdown",
   "metadata": {},
   "source": [
    "* $BDM_1$"
   ]
  },
  {
   "cell_type": "markdown",
   "metadata": {},
   "source": [
    "在 $RT_0$ 的基础上增加基函数：\n",
    "\n",
    "$$\n",
    "\\mathbf \\psi_0 = \\lambda_1 \\mathbf{rot}\\,\\lambda_2 + \\lambda_2 \\mathbf{rot}\\,\\lambda_1\\\\\n",
    "\\mathbf \\psi_1 = \\lambda_2 \\mathbf{rot}\\,\\lambda_0 + \\lambda_0 \\mathbf{rot}\\,\\lambda_2\\\\\n",
    "\\mathbf \\psi_2 = \\lambda_0 \\mathbf{rot}\\,\\lambda_1 + \\lambda_1 \\mathbf{rot}\\,\\lambda_0\n",
    "$$\n"
   ]
  },
  {
   "cell_type": "markdown",
   "metadata": {},
   "source": [
    "对偶基为：\n",
    "\n",
    "$$\n",
    "\\begin{align}\n",
    "\\Psi_0(\\mathbf u) =& 3\\int_{e_0}\\mathbf u\\cdot \\mathbf n_0(\\lambda_1 - \\lambda_2) \\mathrm d s\\\\\n",
    "\\Psi_1(\\mathbf u) =& 3\\int_{e_1}\\mathbf u\\cdot \\mathbf n_1(\\lambda_2 - \\lambda_0) \\mathrm d s\\\\\n",
    "\\Psi_2(\\mathbf u) =& 3\\int_{e_2}\\mathbf u\\cdot \\mathbf n_2(\\lambda_0 - \\lambda_1) \\mathrm d s\\\\\n",
    "\\end{align}\n",
    "$$"
   ]
  },
  {
   "cell_type": "markdown",
   "metadata": {},
   "source": [
    "* $RT_1$"
   ]
  },
  {
   "cell_type": "markdown",
   "metadata": {},
   "source": [
    "$$\n",
    "\\mathbf \\phi_0 = \\lambda_1(\\lambda_1 \\mathbf{rot}\\,\\lambda_2 - \\lambda_2 \\mathbf{rot}\\,\\lambda_1)\\\\\n",
    "\\mathbf \\phi_1 = \\lambda_2(\\lambda_1 \\mathbf{rot}\\,\\lambda_2 - \\lambda_2 \\mathbf{rot}\\,\\lambda_1)\\\\\n",
    "\\mathbf \\phi_2 = \\lambda_2(\\lambda_2 \\mathbf{rot}\\,\\lambda_0 - \\lambda_0 \\mathbf{rot}\\,\\lambda_2)\\\\\n",
    "\\mathbf \\phi_3 = \\lambda_0(\\lambda_2 \\mathbf{rot}\\,\\lambda_0 - \\lambda_0 \\mathbf{rot}\\,\\lambda_2)\\\\\n",
    "\\mathbf \\phi_4 = \\lambda_0(\\lambda_0 \\mathbf{rot}\\,\\lambda_1 - \\lambda_1 \\mathbf{rot}\\,\\lambda_0)\\\\\n",
    "\\mathbf \\phi_5 = \\lambda_1(\\lambda_0 \\mathbf{rot}\\,\\lambda_1 - \\lambda_1 \\mathbf{rot}\\,\\lambda_0)\\\\\n",
    "\\mathbf \\phi_6 = \\lambda_0(\\lambda_1 \\mathbf{rot}\\,\\lambda_2 - \\lambda_2 \\mathbf{rot}\\,\\lambda_1)\\\\\n",
    "\\mathbf \\phi_7 = \\lambda_1(\\lambda_2 \\mathbf{rot}\\,\\lambda_0 - \\lambda_0 \\mathbf{rot}\\,\\lambda_2)\\\\\n",
    "\\mathbf \\phi_8 = \\lambda_2(\\lambda_0 \\mathbf{rot}\\,\\lambda_1 - \\lambda_1 \\mathbf{rot}\\,\\lambda_0)\\\\\n",
    "$$"
   ]
  },
  {
   "cell_type": "markdown",
   "metadata": {},
   "source": [
    "### 2.2 四面体单元"
   ]
  },
  {
   "cell_type": "markdown",
   "metadata": {},
   "source": [
    "* $RT_0$"
   ]
  },
  {
   "cell_type": "markdown",
   "metadata": {},
   "source": [
    "基函数为：\n",
    "\n",
    "$$\n",
    "\\begin{align}\n",
    "\\mathbf \\phi_0 = 2(\\lambda_1\\nabla\\lambda_2\\times\\nabla\\lambda_3 + \\lambda_2\\nabla\\lambda_3\\times\\nabla\\lambda_1 + \\lambda_3\\nabla\\lambda_1\\times\\nabla\\lambda_2)\\\\\n",
    "\\mathbf \\phi_1 = 2(\\lambda_0\\nabla\\lambda_3\\times\\nabla\\lambda_2 + \\lambda_3\\nabla\\lambda_2\\times\\nabla\\lambda_0 + \\lambda_2\\nabla\\lambda_0\\times\\nabla\\lambda_3)\\\\\n",
    "\\mathbf \\phi_2 = 2(\\lambda_0\\nabla\\lambda_1\\times\\nabla\\lambda_3 + \\lambda_1\\nabla\\lambda_3\\times\\nabla\\lambda_0 + \\lambda_3\\nabla\\lambda_0\\times\\nabla\\lambda_1)\\\\\n",
    "\\mathbf \\phi_3 = 2(\\lambda_0\\nabla\\lambda_2\\times\\nabla\\lambda_1 + \\lambda_2\\nabla\\lambda_1\\times\\nabla\\lambda_0 + \\lambda_1\\nabla\\lambda_0\\times\\nabla\\lambda_2)\\\\\n",
    "\\end{align}\n",
    "$$\n",
    "\n",
    "对偶基为：\n",
    "\n",
    "$$\n",
    "\\begin{align}\n",
    "\\Phi_0(\\mathbf u) = \\int_{f_0} \\mathbf u\\cdot\\mathbf n_0\\, \\mathrm d s\\\\\n",
    "\\Phi_1(\\mathbf u) = \\int_{f_1} \\mathbf u\\cdot\\mathbf n_1\\, \\mathrm d s\\\\\n",
    "\\Phi_2(\\mathbf u) = \\int_{f_2} \\mathbf u\\cdot\\mathbf n_2\\, \\mathrm d s\\\\\n",
    "\\Phi_3(\\mathbf u) = \\int_{f_3} \\mathbf u\\cdot\\mathbf n_3\\, \\mathrm d s\\\\\n",
    "\\end{align}\n",
    "$$"
   ]
  },
  {
   "cell_type": "markdown",
   "metadata": {},
   "source": [
    "* $BDM_1$"
   ]
  },
  {
   "cell_type": "markdown",
   "metadata": {},
   "source": [
    "$$\n",
    "\\begin{align}\n",
    "\\mathbf \\phi_0 = \\lambda_1\\nabla\\lambda_2\\times\\nabla\\lambda_3 \\\\\n",
    "\\mathbf \\phi_1 = \\lambda_2\\nabla\\lambda_3\\times\\nabla\\lambda_1 \\\\\n",
    "\\mathbf \\phi_2 = \\lambda_3\\nabla\\lambda_1\\times\\nabla\\lambda_2\\\\\n",
    "\\mathbf \\phi_3 = \\lambda_0\\nabla\\lambda_3\\times\\nabla\\lambda_2 \\\\\n",
    "\\mathbf \\phi_4 = \\lambda_3\\nabla\\lambda_2\\times\\nabla\\lambda_0\\\\\n",
    "\\mathbf \\phi_5 =  \\lambda_2\\nabla\\lambda_0\\times\\nabla\\lambda_3\\\\\n",
    "\\mathbf \\phi_6 = \\lambda_0\\nabla\\lambda_1\\times\\nabla\\lambda_3\\\\\n",
    "\\mathbf \\phi_7 = \\lambda_1\\nabla\\lambda_3\\times\\nabla\\lambda_0\\\\\n",
    "\\mathbf \\phi_8 = \\lambda_3\\nabla\\lambda_0\\times\\nabla\\lambda_1\\\\\n",
    "\\mathbf \\phi_9 = \\lambda_0\\nabla\\lambda_2\\times\\nabla\\lambda_1\\\\\n",
    "\\mathbf \\phi_{10} = \\lambda_2\\nabla\\lambda_1\\times\\nabla\\lambda_0 \\\\\n",
    "\\mathbf \\phi_{11} = \\lambda_1\\nabla\\lambda_0\\times\\nabla\\lambda_2\\\\\n",
    "\\end{align}\n",
    "$$\n",
    "\n",
    "对偶基为："
   ]
  },
  {
   "cell_type": "markdown",
   "metadata": {},
   "source": [
    "* $RT_1$"
   ]
  },
  {
   "cell_type": "markdown",
   "metadata": {},
   "source": [
    "## 3. 棱元"
   ]
  },
  {
   "cell_type": "markdown",
   "metadata": {},
   "source": [
    "$$\n",
    "\\mathcal S_k = \\{\\mathbf p \\in [\\tilde P_k]^d : \\mathbf x\\cdot\\mathbf p = 0\\}\n",
    "$$\n",
    "\n",
    "其中 $d$ 是空间维数; $\\tilde P_k$ 为 $k$ 次齐次多项式空间。"
   ]
  },
  {
   "cell_type": "markdown",
   "metadata": {},
   "source": [
    "$$\n",
    "\\mathcal R_k = [P_{k-1}]^d \\oplus \\mathcal S_k\n",
    "$$"
   ]
  },
  {
   "cell_type": "markdown",
   "metadata": {},
   "source": [
    "### 3.1 三角形单元"
   ]
  },
  {
   "cell_type": "markdown",
   "metadata": {},
   "source": [
    "* 第一类 1 次棱元："
   ]
  },
  {
   "cell_type": "markdown",
   "metadata": {},
   "source": [
    "基函数为： \n",
    "\n",
    "$$\n",
    "\\mathbf \\phi_0 = \\lambda_1 \\nabla \\lambda_2 - \\lambda_2 \\nabla \\lambda_1\\\\\n",
    "\\mathbf \\phi_1 = \\lambda_2 \\nabla \\lambda_0 - \\lambda_0 \\nabla \\lambda_2\\\\\n",
    "\\mathbf \\phi_2 = \\lambda_0 \\nabla \\lambda_1 - \\lambda_1 \\nabla \\lambda_0\n",
    "$$\n",
    "对偶基为：\n",
    "\n",
    "$$\n",
    "\\Phi_0(\\mathbf u) = \\int_{e_0}\\mathbf u\\cdot \\mathbf \\tau_0 \\mathrm d s\\\\\n",
    "\\Phi_1(\\mathbf u) = \\int_{e_1}\\mathbf u\\cdot \\mathbf \\tau_1 \\mathrm d s\\\\\n",
    "\\Phi_2(\\mathbf u) = \\int_{e_2}\\mathbf u\\cdot \\mathbf \\tau_2 \\mathrm d s\\\\\n",
    "$$"
   ]
  },
  {
   "cell_type": "markdown",
   "metadata": {},
   "source": [
    "* 第二类 1 次棱元："
   ]
  },
  {
   "cell_type": "markdown",
   "metadata": {},
   "source": [
    "在第一类的基础上增加：\n",
    "\n",
    "$$\n",
    "\\mathbf \\psi_0 = \\lambda_1 \\nabla \\lambda_2 + \\lambda_2 \\nabla \\lambda_1\\\\\n",
    "\\mathbf \\psi_1 = \\lambda_2 \\nabla \\lambda_0 + \\lambda_0 \\nabla \\lambda_2\\\\\n",
    "\\mathbf \\psi_2 = \\lambda_0 \\nabla \\lambda_1 + \\lambda_1 \\nabla \\lambda_0\n",
    "$$\n",
    "\n",
    "对偶基为：\n",
    "\n",
    "$$\n",
    "\\begin{align}\n",
    "\\Psi_0(\\mathbf u) =& 3\\int_{e_0}\\mathbf u\\cdot \\mathbf \\tau_0(\\lambda_1 - \\lambda_2) \\mathrm d s\\\\\n",
    "\\Psi_1(\\mathbf u) =& 3\\int_{e_1}\\mathbf u\\cdot \\mathbf \\tau_1(\\lambda_2 - \\lambda_0) \\mathrm d s\\\\\n",
    "\\Psi_2(\\mathbf u) =& 3\\int_{e_2}\\mathbf u\\cdot \\mathbf \\tau_2(\\lambda_0 - \\lambda_1) \\mathrm d s\\\\\n",
    "\\end{align}\n",
    "$$"
   ]
  },
  {
   "cell_type": "markdown",
   "metadata": {
    "collapsed": true
   },
   "source": [
    "### 3. 2 四面体单元"
   ]
  },
  {
   "cell_type": "markdown",
   "metadata": {},
   "source": [
    "* 第一类 1 次棱元："
   ]
  },
  {
   "cell_type": "markdown",
   "metadata": {},
   "source": [
    "$$\n",
    "\\begin{align}\n",
    "\\mathbf \\phi _0 = \\lambda_0\\nabla \\lambda_1 - \\lambda_1 \\nabla \\lambda_0 \\\\\n",
    "\\mathbf \\phi _1 = \\lambda_0\\nabla \\lambda_2 - \\lambda_2 \\nabla \\lambda_0 \\\\\n",
    "\\mathbf \\phi _2 = \\lambda_0\\nabla \\lambda_3 - \\lambda_3 \\nabla \\lambda_0 \\\\\n",
    "\\mathbf \\phi _3 = \\lambda_1\\nabla \\lambda_2 - \\lambda_2 \\nabla \\lambda_1 \\\\\n",
    "\\mathbf \\phi _4 = \\lambda_1\\nabla \\lambda_3 - \\lambda_3 \\nabla \\lambda_1 \\\\\n",
    "\\mathbf \\phi _5 = \\lambda_2\\nabla \\lambda_3 - \\lambda_3 \\nabla \\lambda_2 \\\\\n",
    "\\end{align}\n",
    "$$"
   ]
  },
  {
   "cell_type": "markdown",
   "metadata": {},
   "source": [
    "* 第二类 1 次棱元："
   ]
  },
  {
   "cell_type": "markdown",
   "metadata": {},
   "source": [
    "在第一类 1 次棱元的基础上， 加下面一组基："
   ]
  },
  {
   "cell_type": "markdown",
   "metadata": {},
   "source": [
    "$$\n",
    "\\begin{align}\n",
    "\\mathbf \\psi _0 = \\lambda_0\\nabla \\lambda_1 + \\lambda_1 \\nabla \\lambda_0 \\\\\n",
    "\\mathbf \\psi _1 = \\lambda_0\\nabla \\lambda_2 + \\lambda_2 \\nabla \\lambda_0 \\\\\n",
    "\\mathbf \\psi _2 = \\lambda_0\\nabla \\lambda_3 + \\lambda_3 \\nabla \\lambda_0 \\\\\n",
    "\\mathbf \\psi _3 = \\lambda_1\\nabla \\lambda_2 + \\lambda_2 \\nabla \\lambda_1 \\\\\n",
    "\\mathbf \\psi _4 = \\lambda_1\\nabla \\lambda_3 + \\lambda_3 \\nabla \\lambda_1 \\\\\n",
    "\\mathbf \\psi _5 = \\lambda_2\\nabla \\lambda_3 + \\lambda_3 \\nabla \\lambda_2 \\\\\n",
    "\\end{align}\n",
    "$$"
   ]
  },
  {
   "cell_type": "code",
   "execution_count": null,
   "metadata": {
    "collapsed": true
   },
   "outputs": [],
   "source": []
  }
 ],
 "metadata": {
  "kernelspec": {
   "display_name": "Python 3",
   "language": "python",
   "name": "python3"
  },
  "language_info": {
   "codemirror_mode": {
    "name": "ipython",
    "version": 3
   },
   "file_extension": ".py",
   "mimetype": "text/x-python",
   "name": "python",
   "nbconvert_exporter": "python",
   "pygments_lexer": "ipython3",
   "version": "3.5.2"
  },
  "latex_envs": {
   "bibliofile": "biblio.bib",
   "cite_by": "apalike",
   "current_citInitial": 1,
   "eqLabelWithNumbers": true,
   "eqNumInitial": 0
  }
 },
 "nbformat": 4,
 "nbformat_minor": 1
}
