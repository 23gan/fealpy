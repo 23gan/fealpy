{
 "cells": [
  {
   "cell_type": "markdown",
   "metadata": {},
   "source": [
    "$$\n",
    "AU\\\\\n",
    "BU\n",
    "$$\n",
    "\n",
    "$$\n",
    "(\\frac{\\partial \\lambda_{0}}{\\partial x} A[i,:] + \\frac{\\partial \\lambda_{1}}{\\partial x} A[j,:] + \\frac{\\partial \\lambda_{2}}{\\partial x}A[k,:] + \\frac{\\partial \\lambda_{0}}{\\partial y}B[i, :] +\\frac{\\partial \\lambda_{1}}{\\partial y}B[j, :] + \\frac{\\partial \\lambda_{2}}{\\partial y}B[k, :])U\\\\\n",
    "$$\n",
    "\n",
    "$$\n",
    "GU\n",
    "$$\n",
    "\n",
    "在每个边界单元上， "
   ]
  },
  {
   "cell_type": "code",
   "execution_count": null,
   "metadata": {
    "collapsed": true
   },
   "outputs": [],
   "source": []
  },
  {
   "cell_type": "code",
   "execution_count": null,
   "metadata": {
    "collapsed": true
   },
   "outputs": [],
   "source": []
  }
 ],
 "metadata": {
  "kernelspec": {
   "display_name": "Python 3",
   "language": "python",
   "name": "python3"
  },
  "language_info": {
   "codemirror_mode": {
    "name": "ipython",
    "version": 3
   },
   "file_extension": ".py",
   "mimetype": "text/x-python",
   "name": "python",
   "nbconvert_exporter": "python",
   "pygments_lexer": "ipython3",
   "version": "3.5.2"
  }
 },
 "nbformat": 4,
 "nbformat_minor": 1
}
