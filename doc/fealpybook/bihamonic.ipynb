{
 "cells": [
  {
   "cell_type": "markdown",
   "metadata": {},
   "source": [
    "$$\n",
    "AU\\\\\n",
    "BU\n",
    "$$\n",
    "\n",
    "$$\n",
    "(\\frac{\\partial \\lambda_{0}}{\\partial x} A[i,:] + \\frac{\\partial \\lambda_{1}}{\\partial x} A[j,:] + \\frac{\\partial \\lambda_{2}}{\\partial x}A[k,:] + \\frac{\\partial \\lambda_{0}}{\\partial y}B[i, :] +\\frac{\\partial \\lambda_{1}}{\\partial y}B[j, :] + \\frac{\\partial \\lambda_{2}}{\\partial y}B[k, :])U\\\\\n",
    "$$\n",
    "\n",
    "$$\n",
    "GU\n",
    "$$\n",
    "\n",
    "在每个边界单元上， "
   ]
  },
  {
   "cell_type": "code",
   "execution_count": null,
   "metadata": {
    "collapsed": true
   },
   "outputs": [],
   "source": [
    "from IPython.display import display\n",
    "from sympy import *\n",
    "import numpy as np\n",
    "init_printing()"
   ]
  },
  {
   "cell_type": "code",
   "execution_count": 25,
   "metadata": {
    "collapsed": false
   },
   "outputs": [
    {
     "data": {
      "image/png": "[encoded data removed]",
      "text/latex": [
       "$$1.0 x e^{x} \\sin{\\left (x \\right )}$$"
      ],
      "text/plain": [
       "       x       \n",
       "1.0⋅x⋅ℯ ⋅sin(x)"
      ]
     },
     "execution_count": 25,
     "metadata": {},
     "output_type": "execute_result"
    }
   ],
   "source": [
    "u = 1/4*(sin(x)-x*cos(x))*x*exp(x)\n",
    "(diff(u, x, 2) - 2*diff(u,x)+2*u).simplify()"
   ]
  },
  {
   "cell_type": "code",
   "execution_count": 23,
   "metadata": {
    "collapsed": false
   },
   "outputs": [],
   "source": [
    "x, y, z, w, s, c, r, zw= symbols('x, y, z, w, s, c, r, zw')\n",
    "a = atan2(y, x)\n",
    "b =sqrt(x**2+y**2)"
   ]
  },
  {
   "cell_type": "code",
   "execution_count": 18,
   "metadata": {
    "collapsed": false
   },
   "outputs": [],
   "source": [
    "g1 = (1/(z-1)*sin((z-1)*w) - 1/(z+1)*sin((z+1)*w))*(cos((z-1)*a) - cos((z+1)*a))\n",
    "g2 = (1/(z-1)*sin((z-1)*a) - 1/(z+1)*sin((z+1)*a))*(cos((z-1)*w) - cos((z+1)*w))"
   ]
  },
  {
   "cell_type": "code",
   "execution_count": 20,
   "metadata": {
    "collapsed": false
   },
   "outputs": [
    {
     "data": {
      "image/png": "[encoded data removed]",
      "text/latex": [
       "$$r^{z + 1} \\left(\\left(- \\frac{1}{z + 1} \\sin{\\left (w \\left(z + 1\\right) \\right )} + \\frac{1}{z - 1} \\sin{\\left (w \\left(z - 1\\right) \\right )}\\right) \\left(\\cos{\\left (\\left(z - 1\\right) \\operatorname{atan_{2}}{\\left (y,x \\right )} \\right )} - \\cos{\\left (\\left(z + 1\\right) \\operatorname{atan_{2}}{\\left (y,x \\right )} \\right )}\\right) - \\left(- \\frac{1}{z + 1} \\sin{\\left (\\left(z + 1\\right) \\operatorname{atan_{2}}{\\left (y,x \\right )} \\right )} + \\frac{1}{z - 1} \\sin{\\left (\\left(z - 1\\right) \\operatorname{atan_{2}}{\\left (y,x \\right )} \\right )}\\right) \\left(\\cos{\\left (w \\left(z - 1\\right) \\right )} - \\cos{\\left (w \\left(z + 1\\right) \\right )}\\right)\\right) \\left(\\frac{r^{2} x^{2}}{x^{2} + y^{2}} - 1\\right)^{2} \\left(\\frac{r^{2} y^{2}}{x^{2} + y^{2}} - 1\\right)^{2}$$"
      ],
      "text/plain": [
       "                                                                              \n",
       "                                                                              \n",
       " z + 1 ⎛⎛  sin(w⋅(z + 1))   sin(w⋅(z - 1))⎞                                   \n",
       "r     ⋅⎜⎜- ────────────── + ──────────────⎟⋅(cos((z - 1)⋅atan2(y, x)) - cos((z\n",
       "       ⎝⎝      z + 1            z - 1     ⎠                                   \n",
       "                                                                              \n",
       "\n",
       "                                                                              \n",
       "                                                                              \n",
       "                      ⎛  sin((z + 1)⋅atan2(y, x))   sin((z - 1)⋅atan2(y, x))⎞ \n",
       " + 1)⋅atan2(y, x))) - ⎜- ──────────────────────── + ────────────────────────⎟⋅\n",
       "                      ⎝           z + 1                      z - 1          ⎠ \n",
       "                                                                              \n",
       "\n",
       "                                                2              2\n",
       "                                   ⎛  2  2     ⎞  ⎛  2  2     ⎞ \n",
       "                                 ⎞ ⎜ r ⋅x      ⎟  ⎜ r ⋅y      ⎟ \n",
       "(cos(w⋅(z - 1)) - cos(w⋅(z + 1)))⎟⋅⎜─────── - 1⎟ ⋅⎜─────── - 1⎟ \n",
       "                                 ⎠ ⎜ 2    2    ⎟  ⎜ 2    2    ⎟ \n",
       "                                   ⎝x  + y     ⎠  ⎝x  + y     ⎠ "
      ]
     },
     "metadata": {},
     "output_type": "display_data"
    }
   ],
   "source": [
    "g = g1 - g2\n",
    "u = (r**2*cos(theta)**2 - 1)**2*(r**2*sin(theta)**2 - 1)**2*r**(1+z)*g\n",
    "display(u)"
   ]
  },
  {
   "cell_type": "code",
   "execution_count": 21,
   "metadata": {
    "collapsed": true
   },
   "outputs": [],
   "source": [
    "uxx = diff(u, x, 2)\n",
    "uyy = diff(u, y, 2)\n",
    "uxy = diff(diff(u, x), y)"
   ]
  },
  {
   "cell_type": "code",
   "execution_count": 13,
   "metadata": {
    "collapsed": false
   },
   "outputs": [
    {
     "data": {
      "image/png": "[encoded data removed]",
      "text/latex": [
       "$$\\frac{\\left(x^{2} + y^{2}\\right)^{\\frac{z}{2} - \\frac{3}{2}} \\left(y^{2} - 1\\right)^{2}}{\\left(z - 1\\right) \\left(z + 1\\right)} \\left(- 8 x y \\left(x^{2} - 1\\right) \\left(x^{2} + y^{2}\\right) \\left(- \\frac{4 y \\sin{\\left (w \\right )}}{\\sqrt{x^{2} + y^{2}}} \\left(z - 1\\right) \\left(z + 1\\right) \\sin{\\left (w z \\right )} \\sin{\\left (z \\operatorname{atan_{2}}{\\left (y,x \\right )} \\right )} + \\left(\\left(z - 1\\right) \\sin{\\left (w \\left(z + 1\\right) \\right )} - \\left(z + 1\\right) \\sin{\\left (w \\left(z - 1\\right) \\right )}\\right) \\left(\\left(z - 1\\right) \\sin{\\left (\\left(z - 1\\right) \\operatorname{atan_{2}}{\\left (y,x \\right )} \\right )} - \\left(z + 1\\right) \\sin{\\left (\\left(z + 1\\right) \\operatorname{atan_{2}}{\\left (y,x \\right )} \\right )}\\right)\\right) - 2 x \\left(x^{2} - 1\\right)^{2} \\left(z + 1\\right) \\left(x \\left(z + 1\\right) \\left(\\frac{y}{\\sqrt{x^{2} + y^{2}}} \\left(\\left(z - 1\\right) \\sin{\\left (w \\left(z + 1\\right) \\right )} - \\left(z + 1\\right) \\sin{\\left (w \\left(z - 1\\right) \\right )}\\right) \\sin{\\left (z \\operatorname{atan_{2}}{\\left (y,x \\right )} \\right )} - \\left(\\left(z - 1\\right) \\sin{\\left (\\left(z + 1\\right) \\operatorname{atan_{2}}{\\left (y,x \\right )} \\right )} - \\left(z + 1\\right) \\sin{\\left (\\left(z - 1\\right) \\operatorname{atan_{2}}{\\left (y,x \\right )} \\right )}\\right) \\sin{\\left (w \\right )} \\sin{\\left (w z \\right )}\\right) + 2 x \\left(- \\frac{y}{\\sqrt{x^{2} + y^{2}}} \\left(\\left(z - 1\\right) \\sin{\\left (w \\left(z + 1\\right) \\right )} - \\left(z + 1\\right) \\sin{\\left (w \\left(z - 1\\right) \\right )}\\right) \\sin{\\left (z \\operatorname{atan_{2}}{\\left (y,x \\right )} \\right )} + \\left(\\left(z - 1\\right) \\sin{\\left (\\left(z + 1\\right) \\operatorname{atan_{2}}{\\left (y,x \\right )} \\right )} - \\left(z + 1\\right) \\sin{\\left (\\left(z - 1\\right) \\operatorname{atan_{2}}{\\left (y,x \\right )} \\right )}\\right) \\sin{\\left (w \\right )} \\sin{\\left (w z \\right )}\\right) + y \\left(- \\frac{4 y \\sin{\\left (w \\right )}}{\\sqrt{x^{2} + y^{2}}} \\left(z - 1\\right) \\left(z + 1\\right) \\sin{\\left (w z \\right )} \\sin{\\left (z \\operatorname{atan_{2}}{\\left (y,x \\right )} \\right )} + \\left(\\left(z - 1\\right) \\sin{\\left (w \\left(z + 1\\right) \\right )} - \\left(z + 1\\right) \\sin{\\left (w \\left(z - 1\\right) \\right )}\\right) \\left(\\left(z - 1\\right) \\sin{\\left (\\left(z - 1\\right) \\operatorname{atan_{2}}{\\left (y,x \\right )} \\right )} - \\left(z + 1\\right) \\sin{\\left (\\left(z + 1\\right) \\operatorname{atan_{2}}{\\left (y,x \\right )} \\right )}\\right)\\right)\\right) + y \\left(x^{2} - 1\\right)^{2} \\left(- \\frac{4 y \\sin{\\left (w \\right )}}{\\sqrt{x^{2} + y^{2}}} \\left(z - 1\\right) \\left(z + 1\\right) \\left(3 x \\sin{\\left (z \\operatorname{atan_{2}}{\\left (y,x \\right )} \\right )} + y z \\cos{\\left (z \\operatorname{atan_{2}}{\\left (y,x \\right )} \\right )}\\right) \\sin{\\left (w z \\right )} + \\left(\\left(z - 1\\right) \\sin{\\left (w \\left(z + 1\\right) \\right )} - \\left(z + 1\\right) \\sin{\\left (w \\left(z - 1\\right) \\right )}\\right) \\left(2 x \\left(z - 1\\right) \\sin{\\left (\\left(z - 1\\right) \\operatorname{atan_{2}}{\\left (y,x \\right )} \\right )} - 2 x \\left(z + 1\\right) \\sin{\\left (\\left(z + 1\\right) \\operatorname{atan_{2}}{\\left (y,x \\right )} \\right )} + y \\left(z - 1\\right)^{2} \\cos{\\left (\\left(z - 1\\right) \\operatorname{atan_{2}}{\\left (y,x \\right )} \\right )} - y \\left(z + 1\\right)^{2} \\cos{\\left (\\left(z + 1\\right) \\operatorname{atan_{2}}{\\left (y,x \\right )} \\right )}\\right)\\right) - 2 \\left(x^{2} - 1\\right) \\left(x^{2} + y^{2}\\right) \\left(9 x^{2} - 1\\right) \\left(z + 1\\right) \\left(\\frac{y}{\\sqrt{x^{2} + y^{2}}} \\left(\\left(z - 1\\right) \\sin{\\left (w \\left(z + 1\\right) \\right )} - \\left(z + 1\\right) \\sin{\\left (w \\left(z - 1\\right) \\right )}\\right) \\sin{\\left (z \\operatorname{atan_{2}}{\\left (y,x \\right )} \\right )} - \\left(\\left(z - 1\\right) \\sin{\\left (\\left(z + 1\\right) \\operatorname{atan_{2}}{\\left (y,x \\right )} \\right )} - \\left(z + 1\\right) \\sin{\\left (\\left(z - 1\\right) \\operatorname{atan_{2}}{\\left (y,x \\right )} \\right )}\\right) \\sin{\\left (w \\right )} \\sin{\\left (w z \\right )}\\right) - 8 \\left(x^{2} + y^{2}\\right)^{2} \\left(3 x^{2} - 1\\right) \\left(\\frac{y}{\\sqrt{x^{2} + y^{2}}} \\left(\\left(z - 1\\right) \\sin{\\left (w \\left(z + 1\\right) \\right )} - \\left(z + 1\\right) \\sin{\\left (w \\left(z - 1\\right) \\right )}\\right) \\sin{\\left (z \\operatorname{atan_{2}}{\\left (y,x \\right )} \\right )} - \\left(\\left(z - 1\\right) \\sin{\\left (\\left(z + 1\\right) \\operatorname{atan_{2}}{\\left (y,x \\right )} \\right )} - \\left(z + 1\\right) \\sin{\\left (\\left(z - 1\\right) \\operatorname{atan_{2}}{\\left (y,x \\right )} \\right )}\\right) \\sin{\\left (w \\right )} \\sin{\\left (w z \\right )}\\right)\\right)$$"
      ],
      "text/plain": [
       "         z   3                                                                \n",
       "         ─ - ─                                                                \n",
       "         2   2         2 ⎛                                                    \n",
       "⎛ 2    2⎞      ⎛ 2    ⎞  ⎜        ⎛ 2    ⎞ ⎛ 2    2⎞ ⎛  4⋅y⋅(z - 1)⋅(z + 1)⋅si\n",
       "⎝x  + y ⎠     ⋅⎝y  - 1⎠ ⋅⎜- 8⋅x⋅y⋅⎝x  - 1⎠⋅⎝x  + y ⎠⋅⎜- ──────────────────────\n",
       "                         ⎜                           ⎜                        \n",
       "                         ⎜                           ⎜                        \n",
       "                         ⎝                           ⎝                       ╲\n",
       "──────────────────────────────────────────────────────────────────────────────\n",
       "                                                                              \n",
       "\n",
       "                                                                              \n",
       "                                                                              \n",
       "                                                                              \n",
       "n(w)⋅sin(w⋅z)⋅sin(z⋅atan2(y, x))                                              \n",
       "──────────────────────────────── + ((z - 1)⋅sin(w⋅(z + 1)) - (z + 1)⋅sin(w⋅(z \n",
       "  _________                                                                   \n",
       " ╱  2    2                                                                    \n",
       "╱  x  + y                                                                     \n",
       "──────────────────────────────────────────────────────────────────────────────\n",
       "                                                                              \n",
       "\n",
       "                                                                              \n",
       "                                                                              \n",
       "                                                                              \n",
       "                                                                            ⎞ \n",
       "- 1)))⋅((z - 1)⋅sin((z - 1)⋅atan2(y, x)) - (z + 1)⋅sin((z + 1)⋅atan2(y, x)))⎟ \n",
       "                                                                            ⎟ \n",
       "                                                                            ⎟ \n",
       "                                                                            ⎠ \n",
       "──────────────────────────────────────────────────────────────────────────────\n",
       "                                                                              \n",
       "\n",
       "                                                                              \n",
       "                                                                              \n",
       "              2                                                               \n",
       "      ⎛ 2    ⎞          ⎛          ⎛y⋅((z - 1)⋅sin(w⋅(z + 1)) - (z + 1)⋅sin(w⋅\n",
       "- 2⋅x⋅⎝x  - 1⎠ ⋅(z + 1)⋅⎜x⋅(z + 1)⋅⎜──────────────────────────────────────────\n",
       "                        ⎜          ⎜                                _________ \n",
       "                        ⎜          ⎜                               ╱  2    2  \n",
       "                        ⎝          ⎝                             ╲╱  x  + y   \n",
       "──────────────────────────────────────────────────────────────────────────────\n",
       "                                                                              \n",
       "\n",
       "                                                                              \n",
       "                                                                              \n",
       "                                                                              \n",
       "(z - 1)))⋅sin(z⋅atan2(y, x))                                                  \n",
       "──────────────────────────── - ((z - 1)⋅sin((z + 1)⋅atan2(y, x)) - (z + 1)⋅sin\n",
       "                                                                              \n",
       "                                                                              \n",
       "                                                                              \n",
       "──────────────────────────────────────────────────────────────────────────────\n",
       "                                                                              \n",
       "\n",
       "                                                                              \n",
       "                                                                              \n",
       "                                                                              \n",
       "                                      ⎞       ⎛  y⋅((z - 1)⋅sin(w⋅(z + 1)) - (\n",
       "((z - 1)⋅atan2(y, x)))⋅sin(w)⋅sin(w⋅z)⎟ + 2⋅x⋅⎜- ─────────────────────────────\n",
       "                                      ⎟       ⎜                               \n",
       "                                      ⎟       ⎜                               \n",
       "                                      ⎠       ⎝                               \n",
       "──────────────────────────────────────────────────────────────────────────────\n",
       "                                                                              \n",
       "\n",
       "                                                                              \n",
       "                                                                              \n",
       "                                                                              \n",
       "z + 1)⋅sin(w⋅(z - 1)))⋅sin(z⋅atan2(y, x))                                     \n",
       "───────────────────────────────────────── + ((z - 1)⋅sin((z + 1)⋅atan2(y, x)) \n",
       "   _________                                                                  \n",
       "  ╱  2    2                                                                   \n",
       "╲╱  x  + y                                                                    \n",
       "──────────────────────────────────────────────────────────────────────────────\n",
       "                                                                              \n",
       "\n",
       "                                                                              \n",
       "                                                                              \n",
       "                                                                              \n",
       "                                                   ⎞     ⎛  4⋅y⋅(z - 1)⋅(z + 1\n",
       "- (z + 1)⋅sin((z - 1)⋅atan2(y, x)))⋅sin(w)⋅sin(w⋅z)⎟ + y⋅⎜- ──────────────────\n",
       "                                                   ⎟     ⎜                    \n",
       "                                                   ⎟     ⎜                    \n",
       "                                                   ⎠     ⎝                    \n",
       "──────────────────────────────────────────────────────────────────────────────\n",
       "                                                                              \n",
       "\n",
       "                                                                              \n",
       "                                                                              \n",
       "                                                                              \n",
       ")⋅sin(w)⋅sin(w⋅z)⋅sin(z⋅atan2(y, x))                                          \n",
       "──────────────────────────────────── + ((z - 1)⋅sin(w⋅(z + 1)) - (z + 1)⋅sin(w\n",
       "      _________                                                               \n",
       "     ╱  2    2                                                                \n",
       "   ╲╱  x  + y                                                                 \n",
       "──────────────────────────────────────────────────────────────────────────────\n",
       "                                                                              \n",
       "\n",
       "                                                                              \n",
       "                                                                              \n",
       "                                                                              \n",
       "                                                                              \n",
       "⋅(z - 1)))⋅((z - 1)⋅sin((z - 1)⋅atan2(y, x)) - (z + 1)⋅sin((z + 1)⋅atan2(y, x)\n",
       "                                                                              \n",
       "                                                                              \n",
       "                                                                              \n",
       "──────────────────────────────────────────────────────────────────────────────\n",
       "                                 (z - 1)⋅(z + 1)                              \n",
       "\n",
       "                                                                              \n",
       "                                                                              \n",
       "                 2                                                            \n",
       "  ⎞⎞     ⎛ 2    ⎞  ⎛  4⋅y⋅(z - 1)⋅(z + 1)⋅(3⋅x⋅sin(z⋅atan2(y, x)) + y⋅z⋅cos(z⋅\n",
       "))⎟⎟ + y⋅⎝x  - 1⎠ ⋅⎜- ────────────────────────────────────────────────────────\n",
       "  ⎟⎟               ⎜                                          _________       \n",
       "  ⎟⎟               ⎜                                         ╱  2    2        \n",
       "  ⎠⎠               ⎝                                       ╲╱  x  + y         \n",
       "──────────────────────────────────────────────────────────────────────────────\n",
       "                                                                              \n",
       "\n",
       "                                                                              \n",
       "                                                                              \n",
       "                                                                              \n",
       "atan2(y, x)))⋅sin(w)⋅sin(w⋅z)                                                 \n",
       "───────────────────────────── + ((z - 1)⋅sin(w⋅(z + 1)) - (z + 1)⋅sin(w⋅(z - 1\n",
       "                                                                              \n",
       "                                                                              \n",
       "                                                                              \n",
       "──────────────────────────────────────────────────────────────────────────────\n",
       "                                                                              \n",
       "\n",
       "                                                                              \n",
       "                                                                              \n",
       "                                                                              \n",
       "    ⎛                                                                         \n",
       ")))⋅⎝2⋅x⋅(z - 1)⋅sin((z - 1)⋅atan2(y, x)) - 2⋅x⋅(z + 1)⋅sin((z + 1)⋅atan2(y, x\n",
       "                                                                              \n",
       "                                                                              \n",
       "                                                                              \n",
       "──────────────────────────────────────────────────────────────────────────────\n",
       "                                                                              \n",
       "\n",
       "                                                                              \n",
       "                                                                              \n",
       "                                                                              \n",
       "              2                                     2                         \n",
       ")) + y⋅(z - 1) ⋅cos((z - 1)⋅atan2(y, x)) - y⋅(z + 1) ⋅cos((z + 1)⋅atan2(y, x))\n",
       "                                                                              \n",
       "                                                                              \n",
       "                                                                              \n",
       "──────────────────────────────────────────────────────────────────────────────\n",
       "                                                                              \n",
       "\n",
       "                                                                              \n",
       "                                                                              \n",
       "                                                                              \n",
       "⎞⎞     ⎛ 2    ⎞ ⎛ 2    2⎞ ⎛   2    ⎞         ⎛y⋅((z - 1)⋅sin(w⋅(z + 1)) - (z +\n",
       "⎠⎟ - 2⋅⎝x  - 1⎠⋅⎝x  + y ⎠⋅⎝9⋅x  - 1⎠⋅(z + 1)⋅⎜────────────────────────────────\n",
       " ⎟                                           ⎜                                \n",
       " ⎟                                           ⎜                               ╱\n",
       " ⎠                                           ⎝                             ╲╱ \n",
       "──────────────────────────────────────────────────────────────────────────────\n",
       "                                                                              \n",
       "\n",
       "                                                                              \n",
       "                                                                              \n",
       "                                                                              \n",
       " 1)⋅sin(w⋅(z - 1)))⋅sin(z⋅atan2(y, x))                                        \n",
       "────────────────────────────────────── - ((z - 1)⋅sin((z + 1)⋅atan2(y, x)) - (\n",
       "_________                                                                     \n",
       "  2    2                                                                      \n",
       " x  + y                                                                       \n",
       "──────────────────────────────────────────────────────────────────────────────\n",
       "                                                                              \n",
       "\n",
       "                                                                              \n",
       "                                                                              \n",
       "                                                               2              \n",
       "                                                ⎞     ⎛ 2    2⎞  ⎛   2    ⎞ ⎛y\n",
       "z + 1)⋅sin((z - 1)⋅atan2(y, x)))⋅sin(w)⋅sin(w⋅z)⎟ - 8⋅⎝x  + y ⎠ ⋅⎝3⋅x  - 1⎠⋅⎜─\n",
       "                                                ⎟                           ⎜ \n",
       "                                                ⎟                           ⎜ \n",
       "                                                ⎠                           ⎝ \n",
       "──────────────────────────────────────────────────────────────────────────────\n",
       "                                                                              \n",
       "\n",
       "                                                                              \n",
       "                                                                              \n",
       "                                                                              \n",
       "⋅((z - 1)⋅sin(w⋅(z + 1)) - (z + 1)⋅sin(w⋅(z - 1)))⋅sin(z⋅atan2(y, x))         \n",
       "───────────────────────────────────────────────────────────────────── - ((z - \n",
       "                               _________                                      \n",
       "                              ╱  2    2                                       \n",
       "                            ╲╱  x  + y                                        \n",
       "──────────────────────────────────────────────────────────────────────────────\n",
       "                                                                              \n",
       "\n",
       "                                                                              \n",
       "                                                                              \n",
       "                                                                              \n",
       "                                                                              \n",
       "1)⋅sin((z + 1)⋅atan2(y, x)) - (z + 1)⋅sin((z - 1)⋅atan2(y, x)))⋅sin(w)⋅sin(w⋅z\n",
       "                                                                              \n",
       "                                                                              \n",
       "                                                                              \n",
       "──────────────────────────────────────────────────────────────────────────────\n",
       "                                                                              \n",
       "\n",
       "   \n",
       "   \n",
       "  ⎞\n",
       " ⎞⎟\n",
       ")⎟⎟\n",
       " ⎟⎟\n",
       " ⎟⎟\n",
       " ⎠⎠\n",
       "───\n",
       "   "
      ]
     },
     "execution_count": 13,
     "metadata": {},
     "output_type": "execute_result"
    }
   ],
   "source": [
    "uxx.subs({sin(z*a):s, cos(z*a):c, sqrt(x**2+y**2):r})"
   ]
  },
  {
   "cell_type": "code",
   "execution_count": null,
   "metadata": {
    "collapsed": true
   },
   "outputs": [],
   "source": []
  }
 ],
 "metadata": {
  "kernelspec": {
   "display_name": "Python 3",
   "language": "python",
   "name": "python3"
  },
  "language_info": {
   "codemirror_mode": {
    "name": "ipython",
    "version": 3
   },
   "file_extension": ".py",
   "mimetype": "text/x-python",
   "name": "python",
   "nbconvert_exporter": "python",
   "pygments_lexer": "ipython3",
   "version": "3.5.2"
  },
  "latex_envs": {
   "bibliofile": "biblio.bib",
   "cite_by": "apalike",
   "current_citInitial": 1,
   "eqLabelWithNumbers": true,
   "eqNumInitial": 0
  }
 },
 "nbformat": 4,
 "nbformat_minor": 1
}
