{
 "cells": [
  {
   "cell_type": "markdown",
   "metadata": {},
   "source": [
    "## 1. 单纯形上的基函数"
   ]
  },
  {
   "cell_type": "markdown",
   "metadata": {},
   "source": [
    "### 区间 $[x_0, x_1]$ 上 $p$ 次拉格朗日基函数的构造"
   ]
  },
  {
   "cell_type": "markdown",
   "metadata": {},
   "source": [
    "#### 重心坐标 "
   ]
  },
  {
   "cell_type": "markdown",
   "metadata": {},
   "source": [
    "给定区间单元上的一个重心坐标 $(\\lambda_0, \\lambda_1)$, 存在 $x \\in [x_0, x_1]$,  使得：\n",
    "\n",
    "$$\n",
    "\\lambda_0 := \\frac{x_1 - x}{x_1 - x_0}, \\quad\n",
    "\\lambda_1 := \\frac{x  - x_0}{x_1 - x_0}\n",
    "$$\n",
    "\n",
    "显然 \n",
    "$$ \n",
    "\\lambda_0 + \\lambda_1 = 1\n",
    "$$\n",
    "\n",
    "重心坐标关于  $x$ 的导数为：\n",
    "\n",
    "$$\n",
    "\\frac{\\mathrm d \\lambda_0}{\\mathrm d x} = -\\frac{1}{x_1 - x_0},\\quad \n",
    "\\frac{\\mathrm d \\lambda_1}{\\mathrm d x} = \\frac{1}{x_1 - x_0}\n",
    "$$"
   ]
  },
  {
   "cell_type": "markdown",
   "metadata": {},
   "source": [
    "区间 $[x_0, x_1]$ 上的个 $p\\geq 1$ 次基函数共有 \n",
    "$$\n",
    "n_{dof} = p+1, \n",
    "$$ \n",
    "\n",
    "其计算公式如下:\n",
    "\n",
    "$$\n",
    "\\phi_{m,n} = \\frac{p^p}{m!n!}\\prod_{l_0 = 0}^{m - 1}\n",
    "(\\lambda_0 - \\frac{l_0}{p}) \\prod_{l_1 = 0}^{n-1}(\\lambda_1 -\n",
    "\\frac{l_1}{p}).\n",
    "$$\n",
    "\n",
    "其中 $ m\\geq 0$, $n\\geq 0$, 且 $m+n=p$, 这里规定:\n",
    "\n",
    "$$\n",
    " \\prod_{l_i=0}^{-1}(\\lambda_i - \\frac{l_i}{p}) := 1,\\quad i=0, 1\n",
    "$$"
   ]
  },
  {
   "cell_type": "markdown",
   "metadata": {},
   "source": [
    "#### $p$ 次基函数的面向数组的计算"
   ]
  },
  {
   "cell_type": "markdown",
   "metadata": {},
   "source": [
    "构造向量：\n",
    "$$\n",
    "P = ( \\frac{1}{0!},  \\frac{1}{1!}, \\frac{1}{2!}, \\cdots, \\frac{1}{p!})\n",
    "$$\n",
    "\n",
    "构造矩阵：\n",
    "$$\n",
    "A :=                                                                            \n",
    "\\begin{pmatrix}  \n",
    "1  &  1  \\\\\n",
    "\\lambda_0 & \\lambda_1\\\\                                             \n",
    "\\lambda_0 - \\frac{1}{p} & \\lambda_1 - \\frac{1}{p}\\\\   \n",
    "\\vdots & \\vdots \\\\                                                     \n",
    "\\lambda_0 - \\frac{p - 1}{p} & \\lambda_1 - \\frac{p - 1}{p}\n",
    "\\end{pmatrix}                                                                   \n",
    "$$ \n",
    "\n",
    "对 $A$ 的每一列做累乘运算, 并左乘由 $P$ 形成的对角矩阵, 得矩阵:\n",
    "\n",
    "$$\n",
    "B = \\mathrm{diag}(P)\n",
    "\\begin{pmatrix}\n",
    "1 & 1\\\\\n",
    "\\lambda_0 & \\lambda_1\\\\\n",
    "\\prod_{l=0}^{1}(\\lambda_0 - \\frac{l}{p}) & \\prod_{l=0}^{1}(\\lambda_1 - \\frac{l}{p})\\\\\n",
    "\\vdots & \\vdots \\\\\n",
    "\\prod_{l=0}^{p-1}(\\lambda_0 - \\frac{l}{p}) & \\prod_{l=0}^{p-1}(\\lambda_1 - \\frac{l}{p}) \n",
    "\\end{pmatrix}\n",
    "$$\n",
    "\n",
    "易知, 只需从 $B$ 的每一列中各选择一项相乘(要求二项次数之和为 $p$), 再乘以 $p^p$ 即可得到相应的基函数, 其中取法共有 \n",
    "\n",
    "$$\n",
    "n_{dof} = {p+1}\n",
    "$$\n",
    "\n",
    "构造指标矩阵：\n",
    "\n",
    "$$\n",
    "I = \\begin{pmatrix}\n",
    "p  & 0 \\\\ p-1 & 1 \\\\ \\vdots & \\vdots \\\\ 0 & p \n",
    "\\end{pmatrix}\n",
    "$$\n",
    "\n",
    "则 $p+1$ 个 $p$ 次基函数可写成如下形式 \n",
    "\n",
    "$$\n",
    "\\phi_i = p^pB_{I_{i,0}, 0}B_{I_{i, 1},1}, \\quad i = 0, 1, \\cdots, n_{dof}\n",
    "$$\n",
    "\n",
    "对应 `Python` 的代码如下:\n",
    "\n",
    "```Python\n",
    "phi = p**p*np.prod(B[I, [0, 1]], axis=1)\n",
    "```"
   ]
  },
  {
   "cell_type": "markdown",
   "metadata": {},
   "source": [
    "构造矩阵:\n",
    "$$\n",
    "F^i = \n",
    "\\begin{pmatrix}\n",
    "1 & \\lambda_i & \\cdots & \\lambda_i \\\\\n",
    "\\lambda_i - \\frac{1}{p} & 1 & \\cdots & \\lambda_i - \\frac{1}{p} \\\\\n",
    "\\vdots & \\vdots & \\ddots & \\vdots \\\\\n",
    "\\lambda_i - \\frac{p-1}{p} & \\lambda_i - \\frac{p-1}{p} & \\cdots & 1\n",
    "\\end{pmatrix}_{p\\times p}\n",
    ", \\quad i = 0, 1\n",
    "$$"
   ]
  },
  {
   "cell_type": "markdown",
   "metadata": {},
   "source": [
    "记\n",
    "$$\n",
    "f_{i,j} = \\sum_{m=0}^j\\prod_{k=0}^j F^i_{k, m},\\quad i = 0, 1, 0 \\leq j \\leq p-1.\n",
    "$$"
   ]
  },
  {
   "cell_type": "markdown",
   "metadata": {},
   "source": [
    "$$\n",
    "\\begin{aligned}\n",
    "\\nabla B = &  \n",
    "\\mathrm{diag}(P)\n",
    "\\begin{pmatrix}\n",
    "0 & 0 \\\\\n",
    "\\nabla \\lambda_1 & \\nabla \\lambda_2 \\\\\n",
    "\\nabla \\prod_{l=0}^{1}(\\lambda_1 - \\frac{l}{p}) & \n",
    "\\nabla \\prod_{l=0}^{1}(\\lambda_2 - \\frac{l}{p})  \\\\\n",
    "\\vdots & \\vdots \\\\\n",
    "\\nabla \\prod_{l=0}^{p-1}(\\lambda_1 - \\frac{l}{p}) &\n",
    "\\nabla \\prod_{l=0}^{p-1}(\\lambda_2 - \\frac{l}{p}) \n",
    "\\end{pmatrix}\\\\\n",
    "= & \\mathrm{diag}(P)\n",
    "\\begin{pmatrix}\n",
    "0 & 0 \\\\\n",
    "\\nabla \\lambda_1 & \\nabla \\lambda_2\\\\\n",
    "f_{0,0} \\nabla \\lambda_1 & \n",
    "f_{1,0} \\nabla \\lambda_2  \\\\\n",
    "\\vdots & \\vdots \\\\\n",
    "f_{0, p-1} \\nabla \\lambda_1 &\n",
    "f_{1, p-1} \\nabla \\lambda_2 \n",
    "\\end{pmatrix}\\\\\n",
    "= & \\mathrm{diag}(P)\n",
    "\\begin{pmatrix}\n",
    "0 & 0\\\\\n",
    "1 & 1\\\\\n",
    "f_{0,0} & \n",
    "f_{1,0} \\\\\n",
    "\\vdots & \\vdots  \\\\\n",
    "f_{0, p-1} &\n",
    "f_{1, p-1}   \n",
    "\\end{pmatrix}\n",
    "\\begin{pmatrix}\n",
    "\\nabla \\lambda_0 & 0 \\\\\n",
    "0 & \\nabla \\lambda_1 \n",
    "\\end{pmatrix}\n",
    "\\end{aligned}\n",
    "$$"
   ]
  },
  {
   "cell_type": "markdown",
   "metadata": {},
   "source": [
    "### 三角形单元"
   ]
  },
  {
   "cell_type": "markdown",
   "metadata": {},
   "source": [
    "#### 重心坐标"
   ]
  },
  {
   "cell_type": "markdown",
   "metadata": {},
   "source": [
    "给定三角形单元 $\\tau$, 其三个顶点 $\\mathbf x_0 :=(x_0,y_0)$, $\\mathbf x_1 :=(x_1,y_1)$ 和 $\\mathbf x_2 :=(x_2,y_2)$ 逆时针排列, 且不在同一条直线上, 那么向量 $\\vec{\\mathbf x_0\\mathbf x_1}$ 和 $\\vec{\\mathbf x_0\\mathbf x_2}$ 是线性无关的. 这等价于矩阵\n",
    "\n",
    "$$\n",
    "A = \n",
    "\\begin{pmatrix}\n",
    "x_0 & x_1 & x_2 \\\\\n",
    "y_0 & y_1 & y_2 \\\\\n",
    "1   & 1   & 1 \n",
    "\\end{pmatrix}\n",
    "$$\n",
    "\n",
    "非奇异. "
   ]
  },
  {
   "cell_type": "markdown",
   "metadata": {},
   "source": [
    "任给一点 $\\mathbf{x}:=(x,y)\\in\\tau$, 求解下面的线性方程组\n",
    "\n",
    "$$\n",
    "A \n",
    "\\begin{pmatrix}\n",
    "\\lambda_0 \\\\\n",
    "\\lambda_1\\\\\n",
    "\\lambda_2  \n",
    "\\end{pmatrix}\n",
    "=\\begin{pmatrix}\n",
    "x \\\\\n",
    "y\\\\\n",
    "1  \n",
    "\\end{pmatrix}\n",
    "$$\n",
    "\n",
    "可得唯一的一组解$\\lambda_0,\\lambda_1,\\lambda_2$. "
   ]
  },
  {
   "cell_type": "markdown",
   "metadata": {},
   "source": [
    "因此对任意二维点 $\\mathbf{x}\\in\\tau$, 有\n",
    "\n",
    "$$\n",
    "\\mathbf{x}=\\lambda_0(\\mathbf{x})\\mathbf{x}_0 + \\lambda_1(\\mathbf{x})\\mathbf{x}_1 + \\lambda_2(\\mathbf{x})\\mathbf{x}_2 \n",
    "\\text{ 且 } \\lambda_0(\\mathbf{x}) + \\lambda_1(\\mathbf{x}) + \\lambda_2(\\mathbf{x}) = 1. \n",
    "$$\n",
    "\n",
    "$\\lambda_0,\\lambda_1,\\lambda_2$ 称为点 $\\mathbf{x}$ 关于点 $\\mathbf{x}_0,\\mathbf{x}_1$ 和$\\mathbf{x}_2$ 的**重心坐标**. "
   ]
  },
  {
   "cell_type": "markdown",
   "metadata": {},
   "source": [
    "易知, $\\lambda_0, \\lambda_1, \\lambda_2$ 都是关于 $\\mathbf x$ 的线性函数, 且有\n",
    "\n",
    "\\begin{eqnarray*}\n",
    "\\lambda_0(\\mathbf x_0) = 1,\\quad & \\lambda_0(\\mathbf x_1) = 0,\\quad& \\lambda_0(\\mathbf x_2) = 0\\\\\n",
    "\\lambda_1(\\mathbf x_0) = 0,\\quad & \\lambda_1(\\mathbf x_1) = 1,\\quad& \\lambda_1(\\mathbf x_2) = 0\\\\\n",
    "\\lambda_2(\\mathbf x_0) = 0,\\quad & \\lambda_2(\\mathbf x_1) = 0,\\quad & \\lambda_2(\\mathbf x_2) = 1\\\\\n",
    "\\end{eqnarray*}"
   ]
  },
  {
   "cell_type": "markdown",
   "metadata": {},
   "source": [
    "$\\lambda_0, \\lambda_1, \\lambda_2$ 关于 $\\mathbf x$ 的梯度分别为:\n",
    "\n",
    "$$\n",
    "\\begin{aligned}\n",
    "\\nabla\\lambda_0 = \\frac{1}{2|\\tau|}(\\mathbf x_2 - \\mathbf x_1)W\\\\\n",
    "\\nabla\\lambda_1 = \\frac{1}{2|\\tau|}(\\mathbf x_0 - \\mathbf x_2)W\\\\\n",
    "\\nabla\\lambda_2 = \\frac{1}{2|\\tau|}(\\mathbf x_1 - \\mathbf x_0)W\\\\\n",
    "\\end{aligned}\n",
    "$$\n",
    "\n",
    "其中 \n",
    "\n",
    "$$\n",
    "W = \\begin{pmatrix}\n",
    "0 & 1\\\\ -1 & 0 \n",
    "\\end{pmatrix}\n",
    "$$"
   ]
  },
  {
   "cell_type": "markdown",
   "metadata": {},
   "source": [
    "####  三角形单元上的 $p$ 次基函数公式"
   ]
  },
  {
   "cell_type": "markdown",
   "metadata": {},
   "source": [
    "给定三角形单元上的一个重心坐标 $(\\lambda_0, \\lambda_1, \\lambda_2)$, 所有 $p\\geq 1$ 次基函数的计算公式如下:\n",
    "\n",
    "$$\n",
    "\\phi_{m,n,k} = \\frac{p^p}{m!n!k!}\\prod_{l_0 = 0}^{m - 1}\n",
    "(\\lambda_0 - \\frac{l_0}{p}) \\prod_{l_1 = 0}^{n-1}(\\lambda_1 -\n",
    "\\frac{l_1}{p}) \\prod_{l_2=0}^{k-1}(\\lambda_2 - \\frac{l_2}{p}).\n",
    "$$\n",
    "\n",
    "其中 $ m\\geq 0$, $n\\geq 0$, $ k \\geq 0$, 且 $m+n+k=p$, 这里规定:\n",
    "\n",
    "$$\n",
    " \\prod_{l_i=0}^{-1}(\\lambda_i - \\frac{l_i}{p}) := 1,\\quad i=0, 1, 2\n",
    "$$"
   ]
  },
  {
   "cell_type": "markdown",
   "metadata": {},
   "source": [
    "#### 三角形单元上的 $p$ 次基函数面向矩阵计算"
   ]
  },
  {
   "cell_type": "markdown",
   "metadata": {},
   "source": [
    "构造向量：\n",
    "$$\n",
    "P = ( \\frac{1}{0!},  \\frac{1}{1!}, \\frac{1}{2!}, \\cdots, \\frac{1}{p!})\n",
    "$$\n",
    "\n",
    "构造矩阵：\n",
    "$$\n",
    "A :=                                                                            \n",
    "\\begin{pmatrix}  \n",
    "1  &  1  & 1 \\\\\n",
    "\\lambda_0 & \\lambda_1 & \\lambda_2\\\\                                             \n",
    "\\lambda_0 - \\frac{1}{p} & \\lambda_1 - \\frac{1}{p} & \\lambda_2 - \\frac{1}{p}\\\\   \n",
    "\\vdots & \\vdots & \\vdots \\\\                                                     \n",
    "\\lambda_0 - \\frac{p - 1}{p} & \\lambda_1 - \\frac{p - 1}{p} & \\lambda_2 - \\frac{p - 1}{p}\n",
    "\\end{pmatrix}                                                                   \n",
    "$$ "
   ]
  },
  {
   "cell_type": "markdown",
   "metadata": {},
   "source": [
    "对 $A$ 的每一列做累乘运算, 并左乘由 $P$ 形成的对角矩阵, 得矩阵:\n",
    "\n",
    "$$\n",
    "B = \\mathrm{diag}(P)\n",
    "\\begin{pmatrix}\n",
    "1 & 1 & 1 \\\\\n",
    "\\lambda_0 & \\lambda_1 & \\lambda_2\\\\\n",
    "\\prod_{l=0}^{1}(\\lambda_0 - \\frac{l}{p}) & \\prod_{l=0}^{1}(\\lambda_1 - \\frac{l}{p})\n",
    "& \\prod_{l=0}^{1}(\\lambda_2 - \\frac{l}{p}) \\\\\n",
    "\\vdots & \\vdots & \\vdots \\\\\n",
    "\\prod_{l=0}^{p-1}(\\lambda_0 - \\frac{l}{p}) & \\prod_{l=0}^{p-1}(\\lambda_1 - \\frac{l}{p})\n",
    "& \\prod_{l=0}^{p-1}(\\lambda_2 - \\frac{l}{p}) \n",
    "\\end{pmatrix}\n",
    "$$"
   ]
  },
  {
   "cell_type": "markdown",
   "metadata": {},
   "source": [
    "易知, 只需从 $B$ 的每一列中各选择一项相乘(要求三项次数之和为 $p$), 再乘以 $p^p$ 即可得到相应的基函数, 其中取法共有 \n",
    "\n",
    "$$\n",
    "n_{dof} = {(p+1)(p+2)\\over 2}\n",
    "$$"
   ]
  },
  {
   "cell_type": "markdown",
   "metadata": {},
   "source": [
    "即需要构造 $n_{dof}\\times 3$ 的指标矩阵 $I$, \n",
    "\n",
    "$$\n",
    "I = \\begin{pmatrix}\n",
    "p & 0 & 0 \\\\\n",
    "p-1 & 1 & 0 \\\\\n",
    "p-1 & 0 & 1 \\\\\n",
    "p-2 & 2 & 0 \\\\\n",
    "p-2 & 1 & 1 \\\\\n",
    "p-2 & 0 & 2 \\\\\n",
    "\\vdots & \\vdots & \\vdots \\\\\n",
    "0   & p & 0 \\\\\n",
    "0   & p-1 & 1\\\\\n",
    "\\vdots & \\vdots & \\vdots \\\\\n",
    "0   & 0  & p\n",
    "\\end{pmatrix}\n",
    "$$"
   ]
  },
  {
   "cell_type": "markdown",
   "metadata": {},
   "source": [
    "则基函数可写成如下形式 \n",
    "\n",
    "$$\n",
    "\\phi_i = p^pB_{I_{i,0}, 0}B_{I_{i, 1},1}B_{I_{i, 2}, 2}, \\quad i = 0, 1, \\cdots, n_{dof}\n",
    "$$\n",
    "\n",
    "对应 `Python` 的代码如下:\n",
    "\n",
    "```Python\n",
    "phi = p**p*np.prod(B[I, [0, 1, 2]], axis=1)\n",
    "```"
   ]
  },
  {
   "cell_type": "markdown",
   "metadata": {},
   "source": [
    "#### 三角形单元上的 $p$ 次基函数梯度面向数组的计算"
   ]
  },
  {
   "cell_type": "markdown",
   "metadata": {},
   "source": [
    "**分析:**\n",
    "\n",
    "根据求导法则, 关键是计算出矩阵\n",
    "\n",
    "$$\n",
    "B = \\mathrm{diag}(P)\n",
    "\\begin{pmatrix}\n",
    "1 & 1 & 1 \\\\\n",
    "\\lambda_0 & \\lambda_1 & \\lambda_2\\\\\n",
    "\\prod_{l=0}^{1}(\\lambda_0 - \\frac{l}{p}) & \\prod_{l=0}^{1}(\\lambda_1 - \\frac{l}{p})\n",
    "& \\prod_{l=0}^{1}(\\lambda_2 - \\frac{l}{p}) \\\\\n",
    "\\vdots & \\vdots & \\vdots \\\\\n",
    "\\prod_{l=0}^{p-1}(\\lambda_0 - \\frac{l}{p}) & \\prod_{l=0}^{p-1}(\\lambda_1 - \\frac{l}{p})\n",
    "& \\prod_{l=0}^{p-1}(\\lambda_2 - \\frac{l}{p}) \n",
    "\\end{pmatrix}\n",
    "$$\n",
    "\n",
    "中每个元素的梯度. "
   ]
  },
  {
   "cell_type": "markdown",
   "metadata": {},
   "source": [
    "构造矩阵:\n",
    "$$\n",
    "F^i = \n",
    "\\begin{pmatrix}\n",
    "1 & \\lambda_i & \\cdots & \\lambda_i \\\\\n",
    "\\lambda_i - \\frac{1}{p} & 1 & \\cdots & \\lambda_i - \\frac{1}{p} \\\\\n",
    "\\vdots & \\vdots & \\ddots & \\vdots \\\\\n",
    "\\lambda_i - \\frac{p-1}{p} & \\lambda_i - \\frac{p-1}{p} & \\cdots & 1\n",
    "\\end{pmatrix}_{p\\times p}\n",
    ", \\quad i = 0, 1, 2\n",
    "$$"
   ]
  },
  {
   "cell_type": "markdown",
   "metadata": {},
   "source": [
    "记\n",
    "$$\n",
    "f_{i,j} = \\sum_{m=0}^j\\prod_{k=0}^j F^i_{k, m},\\quad i = 0, 1, 2, 0 \\leq j \\leq p-1.\n",
    "$$"
   ]
  },
  {
   "cell_type": "markdown",
   "metadata": {},
   "source": [
    "$$\n",
    "\\begin{aligned}\n",
    "\\nabla B = &  \n",
    "\\mathrm{diag}(P)\n",
    "\\begin{pmatrix}\n",
    "0 & 0 & 0\\\\\n",
    "\\nabla \\lambda_0 & \\nabla \\lambda_1 & \\nabla \\lambda_2\\\\\n",
    "\\nabla \\prod_{l=0}^{1}(\\lambda_0 - \\frac{l}{p}) & \n",
    "\\nabla \\prod_{l=0}^{1}(\\lambda_1 - \\frac{l}{p}) &\n",
    "\\nabla \\prod_{l=0}^{1}(\\lambda_2 - \\frac{l}{p}) \\\\\n",
    "\\vdots & \\vdots & \\vdots \\\\\n",
    "\\nabla \\prod_{l=0}^{p-1}(\\lambda_0 - \\frac{l}{p}) &\n",
    "\\nabla \\prod_{l=0}^{p-1}(\\lambda_1 - \\frac{l}{p}) &\n",
    "\\nabla \\prod_{l=0}^{p-1}(\\lambda_2 - \\frac{l}{p}) \n",
    "\\end{pmatrix}\\\\\n",
    "= & \\mathrm{diag}(P)\n",
    "\\begin{pmatrix}\n",
    "0 & 0 & 0 \\\\\n",
    "\\nabla \\lambda_0 & \\nabla \\lambda_1 & \\nabla \\lambda_2\\\\\n",
    "f_{0,0} \\nabla \\lambda_0 & \n",
    "f_{1,0} \\nabla \\lambda_1 &\n",
    "f_{2,0} \\nabla \\lambda_2 \\\\\n",
    "\\vdots & \\vdots & \\vdots \\\\\n",
    "f_{0, p-1} \\nabla \\lambda_0 &\n",
    "f_{1, p-1} \\nabla \\lambda_1 &\n",
    "f_{2, p-1} \\nabla \\lambda_2 \n",
    "\\end{pmatrix}\\\\\n",
    "= & \\mathrm{diag}(P)\n",
    "\\begin{pmatrix}\n",
    "0 & 0 & 0\\\\\n",
    "1 & 1 & 1\\\\\n",
    "f_{0,0} & \n",
    "f_{1,0} &\n",
    "f_{2,0} \\\\\n",
    "\\vdots & \\vdots & \\vdots \\\\\n",
    "f_{0, p-1} &\n",
    "f_{1, p-1} &\n",
    "f_{2, p-1}  \n",
    "\\end{pmatrix}\n",
    "\\begin{pmatrix}\n",
    "\\nabla \\lambda_0 & 0 & 0\\\\\n",
    "0 & \\nabla \\lambda_1 & 0 \\\\\n",
    "0 & 0 & \\nabla \\lambda_2\n",
    "\\end{pmatrix}\n",
    "\\end{aligned}\n",
    "$$"
   ]
  },
  {
   "cell_type": "markdown",
   "metadata": {},
   "source": [
    "记 \n",
    "$$\n",
    "F =\n",
    "\\mathrm{diag}(P)\n",
    "\\begin{pmatrix}\n",
    "0 & 0 & 0\\\\\n",
    "1 & 1 & 1\\\\\n",
    "f_{0,0} & \n",
    "f_{1,0} &\n",
    "f_{2,0} \\\\\n",
    "\\vdots & \\vdots & \\vdots \\\\\n",
    "f_{0, p-1} &\n",
    "f_{1, p-1} &\n",
    "f_{2, p-1}  \n",
    "\\end{pmatrix}\n",
    "$$"
   ]
  },
  {
   "cell_type": "markdown",
   "metadata": {},
   "source": [
    "利用前面的矩阵 $B$, $I$, $Dlambda$, 如下代码即可计算所有单元上的 $p$ 次元基函数的导数:\n",
    "\n",
    "```Python\n",
    "pp = p**p\n",
    "ldof = (p+1)*(p+2)/2\n",
    "Q = B[I,[0,1,2]]\n",
    "M = F[I,[0,1,2]]\n",
    "R = np.zeros((ldof,3), dtype=np.float)\n",
    "R[:,0] = M[:,0]*Q[:,1]*Q[:,2]\n",
    "R[:,1] = Q[:,0]*M[:,1]*Q[:,2]\n",
    "R[:,2] = Q[:,0]*Q[:,1]*M[:,2]\n",
    "gradphi = np.einsum('ij, kj...->ki...', pp*R, Dlambda) # 爱因斯坦求和\n",
    "```"
   ]
  },
  {
   "cell_type": "markdown",
   "metadata": {},
   "source": [
    "### 四面体单元"
   ]
  },
  {
   "cell_type": "markdown",
   "metadata": {},
   "source": [
    "#### 重心坐标"
   ]
  },
  {
   "cell_type": "markdown",
   "metadata": {},
   "source": [
    "给定四面体单元 $\\tau$, 其三个顶点 $\\mathbf x_0 :=(x_0, y_0，z_0)$, $\\mathbf x_1 :=(x_1,y_1,z_1)$, $\\mathbf x_2 :=(x_2,y_2,z_2)$ 和 $\\mathbf x_3 :=(x_3, y_3, z_3)$ 排列满足右手法则, 体积不为零. 这等价于矩阵\n",
    "\n",
    "$$\n",
    "A = \n",
    "\\begin{pmatrix}\n",
    "x_0 & x_1 & x_2 & x_3\\\\\n",
    "y_0 & y_1 & y_2 & y_3\\\\\n",
    "z_0 & x_1 & x_2 & x_3\\\\\n",
    "1   & 1   & 1 & 1\n",
    "\\end{pmatrix}\n",
    "$$\n",
    "\n",
    "非奇异. "
   ]
  },
  {
   "cell_type": "markdown",
   "metadata": {},
   "source": [
    "任给一点 $\\mathbf{x}:=(x,y)\\in\\tau$, 求解下面的线性方程组\n",
    "\n",
    "$$\n",
    "A \n",
    "\\begin{pmatrix}\n",
    "\\lambda_0 \\\\\n",
    "\\lambda_1\\\\\n",
    "\\lambda_2 \\\\\n",
    "\\lambda_3\n",
    "\\end{pmatrix}\n",
    "=\\begin{pmatrix}\n",
    "x \\\\\n",
    "y\\\\\n",
    "z \\\\\n",
    "1  \n",
    "\\end{pmatrix}\n",
    "$$\n",
    "\n",
    "可得唯一的一组解$\\lambda_0,\\lambda_1,\\lambda_2, \\lambda_3$. "
   ]
  },
  {
   "cell_type": "markdown",
   "metadata": {},
   "source": [
    "因此对任意三维点 $\\mathbf{x}\\in\\tau$, 有\n",
    "\n",
    "$$\n",
    "\\mathbf{x}=\\lambda_0(\\mathbf{x})\\mathbf{x}_0 + \\lambda_1(\\mathbf{x})\\mathbf{x}_1 + \\lambda_2(\\mathbf{x})\\mathbf{x}_2 + \\lambda_3(\\mathbf{x})\\mathbf{x}_3 \n",
    "\\text{ 且 } \\lambda_0(\\mathbf{x}) + \\lambda_1(\\mathbf{x}) + \\lambda_2(\\mathbf{x}) + \\lambda_3(\\mathbf{x}) = 1. \n",
    "$$\n",
    "\n",
    "$\\lambda_0,\\lambda_1,\\lambda_2, \\lambda_3$ 称为点 $\\mathbf{x}$ 关于点 $\\mathbf{x}_0,\\mathbf{x}_1$, $\\mathbf{x}_2$ 和 $\\mathbf x_3$ 的**重心坐标**. "
   ]
  },
  {
   "cell_type": "markdown",
   "metadata": {},
   "source": [
    "易知, $\\lambda_0, \\lambda_1, \\lambda_2， \\lambda_3$ 都是关于 $\\mathbf x$ 的线性函数, 且有\n",
    "\n",
    "\\begin{eqnarray*}\n",
    "\\lambda_0(\\mathbf x_0) = 1,\\quad & \\lambda_0(\\mathbf x_1) = 0,\\quad& \\lambda_0(\\mathbf x_2) = 0,\\quad & \\lambda_0(\\mathbf x_3) = 0\\\\\n",
    "\\lambda_1(\\mathbf x_0) = 0,\\quad & \\lambda_1(\\mathbf x_1) = 1,\\quad& \\lambda_1(\\mathbf x_2) = 0,\\quad & \\lambda_0(\\mathbf x_3) = 0\\\\\n",
    "\\lambda_2(\\mathbf x_0) = 0,\\quad & \\lambda_2(\\mathbf x_1) = 0,\\quad & \\lambda_2(\\mathbf x_2) = 1,\\quad & \\lambda_0(\\mathbf x_3) = 0\\\\\n",
    "\\lambda_3(\\mathbf x_0) = 0,\\quad & \\lambda_3(\\mathbf x_1) = 0,\\quad & \\lambda_3(\\mathbf x_2) = 0,\\quad & \\lambda_0(\\mathbf x_3) = 1\\\\\n",
    "\\end{eqnarray*}"
   ]
  },
  {
   "cell_type": "markdown",
   "metadata": {},
   "source": [
    "三维情形的基函数表示如下:\n",
    "$$\n",
    "\\phi_{m,n,k,v} = \\frac{p^p}{m!n!k!v!}\\prod_{l_0 = 0}^{m - 1}\n",
    "(\\lambda_0 - \\frac{l_0}{p}) \\prod_{l_1 = 0}^{n-1}(\\lambda_1 -\n",
    "\\frac{l_1}{p}) \\prod_{l_2=0}^{k-1}(\\lambda_2 - \\frac{l_2}{p})\\prod_{l_3=0}^{v-1}(\\lambda_3 - \\frac{l_3}{p}).\n",
    "$$\n",
    "\n",
    "其中 $ m\\geq 0$, $n\\geq 0$, $ k \\geq 0$, $v\\geq 0$,  且 $m+n+k+v=p$, 这里规定:\n",
    "\n",
    "$$\n",
    " \\prod_{l_i=0}^{-1}(\\lambda_i - \\frac{l_i}{p}) := 1,\\quad i=0, 1, 2, 3\n",
    "$$"
   ]
  },
  {
   "cell_type": "markdown",
   "metadata": {},
   "source": [
    "构造向量：\n",
    "$$\n",
    "P = ( \\frac{1}{0!},  \\frac{1}{1!}, \\frac{1}{2!}, \\cdots, \\frac{1}{p!})\n",
    "$$\n",
    "\n",
    "构造矩阵：\n",
    "$$\n",
    "A :=                                                                            \n",
    "\\begin{pmatrix}  \n",
    "1  &  1  & 1 & 1\\\\\n",
    "\\lambda_0 & \\lambda_1 & \\lambda_2 & \\lambda_3\\\\                                             \n",
    "\\lambda_0 - \\frac{1}{p} & \\lambda_1 - \\frac{1}{p} & \\lambda_2 - \\frac{1}{p} & \\lambda_3 - \\frac{1}{p}\\\\   \n",
    "\\vdots & \\vdots & \\vdots & \\vdots \\\\                                                     \n",
    "\\lambda_0 - \\frac{p - 1}{p} & \\lambda_1 - \\frac{p - 1}{p} & \\lambda_2 - \\frac{p - 1}{p}& \\lambda_3 - \\frac{p - 1}{p}\n",
    "\\end{pmatrix}                                                                   \n",
    "$$ "
   ]
  },
  {
   "cell_type": "markdown",
   "metadata": {},
   "source": [
    "对 $A$ 的每一列做累乘运算, 并左乘由 $P$ 形成的对角矩阵, 得矩阵:\n",
    "\n",
    "$$\n",
    "B = \\mathrm{diag}(P)\n",
    "\\begin{pmatrix}\n",
    "1 & 1 & 1 & 1\\\\\n",
    "\\lambda_0 & \\lambda_1 & \\lambda_2 & \\lambda_3\\\\\n",
    "\\prod_{l=0}^{1}(\\lambda_0 - \\frac{l}{p}) & \\prod_{l=0}^{1}(\\lambda_1 - \\frac{l}{p})\n",
    "& \\prod_{l=0}^{1}(\\lambda_2 - \\frac{l}{p}) & \\prod_{l=0}^{1}(\\lambda_3 - \\frac{l}{p}) \\\\\n",
    "\\vdots & \\vdots & \\vdots & \\vdots \\\\\n",
    "\\prod_{l=0}^{p-1}(\\lambda_0 - \\frac{l}{p}) & \\prod_{l=0}^{p-1}(\\lambda_1 - \\frac{l}{p})\n",
    "& \\prod_{l=0}^{p-1}(\\lambda_2 - \\frac{l}{p}) & \\prod_{l=0}^{p-1}(\\lambda_3 - \\frac{l}{p}) \n",
    "\\end{pmatrix}\n",
    "$$"
   ]
  },
  {
   "cell_type": "markdown",
   "metadata": {},
   "source": [
    "易知, 只需从 $B$ 的每一列中各选择一项相乘(要求四项次数之和为 $p$), 再乘以 $p^p$ 即可得到相应的基函数, 其中取法共有 \n",
    "\n",
    "$$\n",
    "n_{dof} = {(p+1)(p+2)(p+3)\\over 6}\n",
    "$$"
   ]
  },
  {
   "cell_type": "markdown",
   "metadata": {},
   "source": [
    "即需要构造 $n_{dof}\\times 3$ 的指标矩阵 $I$, \n",
    "\n",
    "$$\n",
    "I = \\begin{pmatrix}\n",
    "p & 0 & 0 & 0\\\\\n",
    "p-1 & 1 & 0 & 0\\\\\n",
    "p-1 & 0 & 1 & 0\\\\\n",
    "p-1 & 0 & 0 & 1\\\\\n",
    "p-2 & 2 & 0 & 0\\\\\n",
    "p-2 & 1 & 1 & 0\\\\\n",
    "p-2 & 1 & 0 & 1\\\\\n",
    "p-2 & 0 & 2 & 0 \\\\\n",
    "p-2 & 0 & 1 & 1 \\\\\n",
    "p-2 & 0 & 0 & 2\\\\\n",
    "\\vdots & \\vdots & \\vdots & \\vdots \\\\\n",
    "0   & p & 0 & 0 \\\\\n",
    "0   & p-1 & 1 & 0\\\\\n",
    "\\vdots & \\vdots & \\vdots & \\vdots \\\\\n",
    "0   & 0  & 0 & p \n",
    "\\end{pmatrix}\n",
    "$$"
   ]
  },
  {
   "cell_type": "markdown",
   "metadata": {},
   "source": [
    "则基函数可写成如下形式 \n",
    "\n",
    "$$\n",
    "\\phi_i = p^pB_{I_{i,0}, 0}B_{I_{i, 1},1}B_{I_{i, 2}, 2}B_{I_{i, 3}, 3}, \\quad i = 0, 1, \\cdots, n_{dof}\n",
    "$$\n",
    "\n",
    "对应 `Python` 的代码如下:\n",
    "\n",
    "```Python\n",
    "phi = p**p*np.prod(B[I, [0, 1, 2, 3]], axis=1)\n",
    "```"
   ]
  },
  {
   "cell_type": "markdown",
   "metadata": {},
   "source": [
    "#### 四面体单元上的 $p$ 次基函数梯度面向数组的计算"
   ]
  },
  {
   "cell_type": "markdown",
   "metadata": {},
   "source": [
    "**分析:**\n",
    "\n",
    "根据求导法则, 关键是计算出矩阵\n",
    "\n",
    "$$\n",
    "B = \\mathrm{diag}(P)\n",
    "\\begin{pmatrix}\n",
    "1 & 1 & 1 & 1\\\\\n",
    "\\lambda_0 & \\lambda_1 & \\lambda_2& \\lambda_3\\\\\n",
    "\\prod_{l=0}^{1}(\\lambda_0 - \\frac{l}{p}) & \\prod_{l=0}^{1}(\\lambda_1 - \\frac{l}{p})\n",
    "& \\prod_{l=0}^{1}(\\lambda_2 - \\frac{l}{p})& \\prod_{l=0}^{1}(\\lambda_3 - \\frac{l}{p}) \\\\\n",
    "\\vdots & \\vdots & \\vdots \\\\\n",
    "\\prod_{l=0}^{p-1}(\\lambda_0 - \\frac{l}{p}) & \\prod_{l=0}^{p-1}(\\lambda_1 - \\frac{l}{p})\n",
    "& \\prod_{l=0}^{p-1}(\\lambda_2 - \\frac{l}{p})& \\prod_{l=0}^{p-1}(\\lambda_3 - \\frac{l}{p}) \n",
    "\\end{pmatrix}\n",
    "$$\n",
    "\n",
    "中每个元素的梯度. "
   ]
  },
  {
   "cell_type": "markdown",
   "metadata": {},
   "source": [
    "构造矩阵:\n",
    "$$\n",
    "F^i = \n",
    "\\begin{pmatrix}\n",
    "1 & \\lambda_i & \\cdots & \\lambda_i \\\\\n",
    "\\lambda_i - \\frac{1}{p} & 1 & \\cdots & \\lambda_i - \\frac{1}{p} \\\\\n",
    "\\vdots & \\vdots & \\ddots & \\vdots \\\\\n",
    "\\lambda_i - \\frac{p-1}{p} & \\lambda_i - \\frac{p-1}{p} & \\cdots & 1\n",
    "\\end{pmatrix}_{p\\times p}\n",
    ", \\quad i = 0, 1, 2, 3\n",
    "$$"
   ]
  },
  {
   "cell_type": "markdown",
   "metadata": {},
   "source": [
    "记\n",
    "$$\n",
    "f_{i,j} = \\sum_{m=0}^j\\prod_{k=0}^j F^i_{k, m},\\quad i = 0, 1, 2,3\\quad 0 \\leq j \\leq p-1.\n",
    "$$"
   ]
  },
  {
   "cell_type": "markdown",
   "metadata": {},
   "source": [
    "$$\n",
    "\\begin{aligned}\n",
    "\\nabla B = &  \n",
    "\\mathrm{diag}(P)\n",
    "\\begin{pmatrix}\n",
    "0 &0 & 0 & 0\\\\\n",
    "\\nabla \\lambda_0 &\\nabla \\lambda_1 & \\nabla \\lambda_2 & \\nabla \\lambda_3\\\\\n",
    "\\nabla \\prod_{l=0}^{1}(\\lambda_0 - \\frac{l}{p}) & \n",
    "\\nabla \\prod_{l=0}^{1}(\\lambda_1 - \\frac{l}{p}) & \n",
    "\\nabla \\prod_{l=0}^{1}(\\lambda_2 - \\frac{l}{p}) &\n",
    "\\nabla \\prod_{l=0}^{1}(\\lambda_3 - \\frac{l}{p}) \\\\\n",
    "\\vdots &\\vdots & \\vdots & \\vdots \\\\\n",
    "\\nabla \\prod_{l=0}^{p-1}(\\lambda_0 - \\frac{l}{p}) &\n",
    "\\nabla \\prod_{l=0}^{p-1}(\\lambda_1 - \\frac{l}{p}) &\n",
    "\\nabla \\prod_{l=0}^{p-1}(\\lambda_2 - \\frac{l}{p}) &\n",
    "\\nabla \\prod_{l=0}^{p-1}(\\lambda_3 - \\frac{l}{p}) \n",
    "\\end{pmatrix}\\\\\n",
    "= & \\mathrm{diag}(P)\n",
    "\\begin{pmatrix}\n",
    "0 &0 & 0 & 0 \\\\\n",
    "\\nabla \\lambda_0 &\\nabla \\lambda_1 & \\nabla \\lambda_2 & \\nabla \\lambda_3\\\\\n",
    "f_{0,0} \\nabla \\lambda_0 & \n",
    "f_{1,0} \\nabla \\lambda_1 &\n",
    "f_{2,0} \\nabla \\lambda_2 &\n",
    "f_{3,0} \\nabla \\lambda_3 \\\\\n",
    "\\vdots &\\vdots & \\vdots & \\vdots \\\\\n",
    "f_{0, p-1} \\nabla \\lambda_0 &\n",
    "f_{1, p-1} \\nabla \\lambda_1 &\n",
    "f_{2, p-1} \\nabla \\lambda_2 &\n",
    "f_{3, p-1} \\nabla \\lambda_3 \n",
    "\\end{pmatrix}\\\\\n",
    "= & \\mathrm{diag}(P)\n",
    "\\begin{pmatrix}\n",
    "0 &0 & 0 & 0\\\\\n",
    "1 &1 & 1 & 1\\\\\n",
    "f_{0,0} & \n",
    "f_{1,0} &\n",
    "f_{2,0} &\n",
    "f_{3,0} \\\\\n",
    "\\vdots &\\vdots & \\vdots & \\vdots \\\\\n",
    "f_{0, p-1} &\n",
    "f_{1, p-1} &\n",
    "f_{2, p-1} &\n",
    "f_{3, p-1}\n",
    "\\end{pmatrix}\n",
    "\\begin{pmatrix}\n",
    "\\nabla \\lambda_0 & 0 & 0& 0\\\\\n",
    "0 & \\nabla \\lambda_1 & 0 & 0\\\\\n",
    "0 & 0 & \\nabla \\lambda_2 & 0\\\\\n",
    "0 & 0 & 0 & \\nabla \\lambda_3 \n",
    "\\end{pmatrix}\n",
    "\\end{aligned}\n",
    "$$"
   ]
  },
  {
   "cell_type": "markdown",
   "metadata": {},
   "source": [
    "记 \n",
    "$$\n",
    "F =\n",
    "\\mathrm{diag}(P)\n",
    "\\begin{pmatrix}\n",
    "0 & 0 & 0& 0\\\\\n",
    "1 & 1 & 1 & 1\\\\\n",
    "f_{0,0} & \n",
    "f_{1,0} &\n",
    "f_{2,0} &\n",
    "f_{3,0} \\\\\n",
    "\\vdots &\\vdots & \\vdots & \\vdots \\\\\n",
    "f_{0, p-1} &\n",
    "f_{1, p-1} &\n",
    "f_{2, p-1} &\n",
    "f_{3, p-1}  \n",
    "\\end{pmatrix}\n",
    "$$"
   ]
  },
  {
   "cell_type": "markdown",
   "metadata": {},
   "source": [
    "利用前面的矩阵 $B$, $I$, $Dlambda$, 如下代码即可计算所有单元上的 $p$ 次元基函数的导数:\n",
    "\n",
    "```Python\n",
    "pp = p**p\n",
    "ldof = p(p+1)*(p+2)/6\n",
    "Q = B[I,[0,1,2,3]]\n",
    "M = F[I,[0,1,2,3]]\n",
    "R = np.zeros((ldof,4), dtype=np.float)\n",
    "R[:,0] = M[:,0]*Q[:,1]*Q[:,2]*Q[:,3]\n",
    "R[:,1] = Q[:,0]*M[:,1]*Q[:,2]*Q[:,3]\n",
    "R[:,2] = Q[:,0]*Q[:,1]*M[:,2]*Q[:,3]\n",
    "R[:,3] = Q[:,0]*Q[:,1]*Q[:,2]*M[:,3]\n",
    "gradphi = np.einsum('ij, kj...->ki...', pp*R, Dlambda) # 爱因斯坦求和\n",
    "```"
   ]
  },
  {
   "cell_type": "markdown",
   "metadata": {},
   "source": [
    "## 四边形单元"
   ]
  },
  {
   "cell_type": "markdown",
   "metadata": {},
   "source": [
    "给定一个四边形单元 $\\tau := (\\mathbf x_0, \\mathbf x_1, \\mathbf x_2, \\mathbf x_3)$, 可以建立它与参考单元之间的映射关系\n",
    "\n",
    "$$\n",
    "A :=\n",
    "\\begin{pmatrix}\n",
    "1 - \\xi \\\\\n",
    "\\xi\n",
    "\\end{pmatrix}\n",
    "\\begin{pmatrix}\n",
    "1 - \\eta & \\eta\n",
    "\\end{pmatrix}\n",
    "= \n",
    "\\begin{pmatrix}\n",
    "(1-\\xi)(1-\\eta) & (1-\\xi)\\eta\\\\\n",
    "\\xi(1-\\eta) & \\xi\\eta\n",
    "\\end{pmatrix}\n",
    "$$"
   ]
  },
  {
   "cell_type": "markdown",
   "metadata": {},
   "source": [
    "$$\n",
    "\\mathbf x(\\xi, \\eta) =\n",
    "\\begin{pmatrix}\n",
    "(1-\\xi)(1-\\eta) & (1-\\xi)\\eta & \\xi(1-\\eta) & \n",
    "\\xi\\eta\n",
    "\\end{pmatrix}\n",
    "\\begin{pmatrix}\n",
    "x_0 \\\\ x_1 \\\\ x_2 \\\\ x_3\n",
    "\\end{pmatrix}\n",
    "$$\n",
    "\n",
    "\n",
    "$$\n",
    "\\begin{pmatrix}\n",
    "\\frac{\\mathrm d x}{\\mathrm d \\xi} & \\frac{\\mathrm d x}{\\mathrm d\\eta}\\\\\n",
    "\\frac{\\mathrm d y}{\\mathrm d \\xi} & \\frac{\\mathrm d y}{\\mathrm d\\eta}\n",
    "\\end{pmatrix}\n",
    "=\n",
    "\\begin{pmatrix}\n",
    "(\\eta - 1)x_0 -\\eta x_1 + (1 - \\eta) x_2 + \\eta x_3 & (\\xi - 1)x_0 + (1 - \\xi) x_1  - \\xi x_2 + \\xi x_3\\\\\n",
    "(\\eta - 1)y_0 -\\eta y_1 + (1 - \\eta) y_2 + \\eta y_3 & (\\xi - 1)y_0 + (1 - \\xi) y_1  - \\xi y_2 + \\xi y_3\n",
    "\\end{pmatrix}\n",
    "$$"
   ]
  },
  {
   "cell_type": "markdown",
   "metadata": {},
   "source": [
    "$$\n",
    "\\begin{pmatrix}\n",
    "\\frac{\\mathrm d x}{\\mathrm d \\xi} & \\frac{\\mathrm d x}{\\mathrm d\\eta}\\\\\n",
    "\\frac{\\mathrm d y}{\\mathrm d \\xi} & \\frac{\\mathrm d y}{\\mathrm d\\eta}\n",
    "\\end{pmatrix}\n",
    "=\n",
    "\\begin{pmatrix}\n",
    "x_2 - x_0 & x_1 - x_0\\\\\n",
    "y_2 - y_0 & y_1 - y_0\n",
    "\\end{pmatrix}\n",
    "+\n",
    "\\begin{pmatrix}\n",
    "x_0 - x_1 - x_2 + x_3\\\\\n",
    "y_0 - y_1 - y_2 + y_3\n",
    "\\end{pmatrix}\n",
    "\\begin{pmatrix}\n",
    "\\eta & \\xi\n",
    "\\end{pmatrix}\n",
    "$$"
   ]
  },
  {
   "cell_type": "markdown",
   "metadata": {},
   "source": [
    "记 $\\lambda_0 = 1-x$, $\\lambda_1 = x$, 利用上面的方法可以构造 $[0, 1]$ 区间上的一元 $p$ 次元基函数\n",
    "\n",
    "\n",
    "对应 `Python` 的代码如下:\n",
    "\n",
    "```Python\n",
    "phi = p**p*np.prod(B[I, [0, 1]], axis=1)\n",
    "```\n",
    "\n",
    "每个基函数关于 $x$ 的导数的计算代码如下：\n",
    "\n",
    "\n",
    "```Python\n",
    "pp = p**p\n",
    "ldof = p+1\n",
    "Q = B[I,[0,1]]\n",
    "M = F[I,[0,1]]\n",
    "gradphi = -M[:,0]*Q[:,1] + Q[:,0]*M[:,1]\n",
    "```"
   ]
  },
  {
   "cell_type": "markdown",
   "metadata": {},
   "source": [
    "\n",
    "$$\n",
    "\\Phi(x) = (\\phi_0(x), \\phi_1(x), \\cdots, \\phi_{p}(x))\n",
    "$$\n",
    "\n",
    "参考单元上的双 $p$ 次元基函数为 \n",
    "\n",
    "$$\n",
    "\\Phi^T(\\xi)\\Phi(\\eta) =\n",
    "\\begin{pmatrix}\n",
    "\\phi_0(\\xi)\\phi_0(\\eta) & \\phi_0(\\xi)\\phi_1(\\eta) & \\cdots & \\phi_0(\\xi)\\phi_p(\\eta)\\\\\n",
    "\\phi_1(\\xi)\\phi_0(\\eta) & \\phi_1(\\xi)\\phi_1(\\eta) & \\cdots & \\phi_1(\\xi)\\phi_p(\\eta)\\\\\n",
    "\\vdots & \\vdots & \\ddots & \\vdots \\\\\n",
    "\\phi_p(\\xi)\\phi_0(\\eta) & \\phi_p(\\xi)\\phi_1(\\eta) & \\cdots & \\phi_p(\\xi)\\phi_p(\\eta)\n",
    "\\end{pmatrix}\n",
    "$$\n",
    "\n",
    "梯度的计算公式为\n",
    "\n",
    "$$\n",
    "\\left(\\frac{\\mathrm d \\Phi^T(\\xi)}{\\mathrm d \\xi}\\Phi(\\eta), \\Phi^T(\\xi)\\frac{\\mathrm d \\Phi^T(\\eta)}{\\mathrm d\\eta}\\right)\n",
    "$$"
   ]
  },
  {
   "cell_type": "markdown",
   "metadata": {},
   "source": [
    "## 六面体单元"
   ]
  },
  {
   "cell_type": "markdown",
   "metadata": {},
   "source": [
    "给定一个六面体单元 $\\tau := (x_0, x_1, x_2, x_3, x_4, x_5, x_6, x_7)$, 建立它与参考单元的映射关系："
   ]
  },
  {
   "cell_type": "code",
   "execution_count": 43,
   "metadata": {
    "collapsed": false
   },
   "outputs": [
    {
     "data": {
      "image/png": "[encoded data removed]",
      "text/plain": [
       "<matplotlib.figure.Figure at 0x7fef41f411d0>"
      ]
     },
     "metadata": {},
     "output_type": "display_data"
    }
   ],
   "source": [
    "from mpl_toolkits.mplot3d import Axes3D\n",
    "import matplotlib.pyplot as plt\n",
    "import numpy as np\n",
    "from itertools import product, combinations\n",
    "\n",
    "\n",
    "fig = plt.figure()\n",
    "ax = fig.gca(projection='3d')\n",
    "ax.set_aspect(\"equal\")\n",
    "\n",
    "# draw cube\n",
    "r = [0, 1]\n",
    "Y, X, Z = np.meshgrid(r, r, r)\n",
    "x = X.reshape(-1)\n",
    "y = Y.reshape(-1)\n",
    "z = Z.reshape(-1)\n",
    "\n",
    "X, Y = np.meshgrid(r, r)\n",
    "ax.plot_surface(X,Y,1, alpha=0.2, color='grey')\n",
    "ax.plot_surface(X,Y,0, alpha=0.2, color='grey')\n",
    "ax.plot_surface(X,0,Y, alpha=0.2, color='grey')\n",
    "ax.plot_surface(X,1,Y, alpha=0.2, color='grey')\n",
    "ax.plot_surface(1,X,Y, alpha=0.2, color='grey')\n",
    "ax.plot_surface(0,X,Y, alpha=0.2, color='grey')\n",
    "\n",
    "#for s, e in combinations(np.array(list(product(r, r, r))), 2):\n",
    "#    if np.sum(np.abs(s-e)) == r[1]-r[0]:\n",
    "#        ax.plot3D(*zip(s, e), color=\"b\")\n",
    "#ax.scatter3D(X, Y, Z)\n",
    "\n",
    "s = ['$x_0$', '$x_1$', '$x_2$', '$x_3$', '$x_4$', '$x_5$', '$x_6$', '$x_7$']\n",
    "for i in range(8):\n",
    "    ax.text3D(x[i], y[i], z[i], s[i], fontsize=24)\n",
    "ax.axis('off')\n",
    "plt.show()"
   ]
  },
  {
   "cell_type": "code",
   "execution_count": 30,
   "metadata": {
    "collapsed": false
   },
   "outputs": [
    {
     "data": {
      "text/plain": [
       "array([[2, 3],\n",
       "       [6, 7]])"
      ]
     },
     "execution_count": 30,
     "metadata": {},
     "output_type": "execute_result"
    }
   ],
   "source": [
    "np.arange(2, 4) + np.arange(0, 8, 4).reshape(-1, 1)"
   ]
  },
  {
   "cell_type": "code",
   "execution_count": 2,
   "metadata": {
    "collapsed": false
   },
   "outputs": [],
   "source": [
    "from sympy import *\n",
    "\n",
    "x, y, z = symbols('x y z')\n",
    "p0, p1, p2, p3, p4, p5, p6, p7 = symbols('p_0, p_1, p_2, p_3, p_4, p_5, p_6, p_7')\n",
    "init_printing()"
   ]
  },
  {
   "cell_type": "code",
   "execution_count": 6,
   "metadata": {
    "collapsed": false
   },
   "outputs": [
    {
     "data": {
      "image/png": "[encoded data removed]",
      "text/latex": [
       "$$- p_{0} y z + p_{0} y + p_{0} z - p_{0} + p_{1} y z - p_{1} z + p_{2} y z - p_{2} y - p_{3} y z + p_{4} y z - p_{4} y - p_{4} z + p_{4} - p_{5} y z + p_{5} z - p_{6} y z + p_{6} y + p_{7} y z$$"
      ],
      "text/plain": [
       "-p₀⋅y⋅z + p₀⋅y + p₀⋅z - p₀ + p₁⋅y⋅z - p₁⋅z + p₂⋅y⋅z - p₂⋅y - p₃⋅y⋅z + p₄⋅y⋅z -\n",
       " p₄⋅y - p₄⋅z + p₄ - p₅⋅y⋅z + p₅⋅z - p₆⋅y⋅z + p₆⋅y + p₇⋅y⋅z"
      ]
     },
     "execution_count": 6,
     "metadata": {},
     "output_type": "execute_result"
    }
   ],
   "source": [
    "phix = [1-x, x]\n",
    "phiy = [1-y, y]\n",
    "phiz = [1-z, z]\n",
    "phi = []\n",
    "for i in range(2):\n",
    "    for j in range(2):\n",
    "        for k in range(2):\n",
    "            phi.append([phix[i]*phiy[j]*phiz[k]])\n",
    "phi = Matrix(phi)\n",
    "X = Matrix([p0, p1, p2, p3, p4, p5, p6, p7])\n",
    "ref = (Transpose(X)*phi)[0, 0]\n",
    "dx = expand(diff(ref, x))\n",
    "dy = expand(diff(ref, y))\n",
    "dz = expand(diff(ref, z))\n",
    "dx"
   ]
  },
  {
   "cell_type": "code",
   "execution_count": 7,
   "metadata": {
    "collapsed": false
   },
   "outputs": [
    {
     "data": {
      "image/png": "[encoded data removed]",
      "text/latex": [
       "$$- p_{0} x z + p_{0} x + p_{0} z - p_{0} + p_{1} x z - p_{1} z + p_{2} x z - p_{2} x - p_{2} z + p_{2} - p_{3} x z + p_{3} z + p_{4} x z - p_{4} x - p_{5} x z - p_{6} x z + p_{6} x + p_{7} x z$$"
      ],
      "text/plain": [
       "-p₀⋅x⋅z + p₀⋅x + p₀⋅z - p₀ + p₁⋅x⋅z - p₁⋅z + p₂⋅x⋅z - p₂⋅x - p₂⋅z + p₂ - p₃⋅x⋅\n",
       "z + p₃⋅z + p₄⋅x⋅z - p₄⋅x - p₅⋅x⋅z - p₆⋅x⋅z + p₆⋅x + p₇⋅x⋅z"
      ]
     },
     "execution_count": 7,
     "metadata": {},
     "output_type": "execute_result"
    }
   ],
   "source": [
    "dy"
   ]
  },
  {
   "cell_type": "code",
   "execution_count": 8,
   "metadata": {
    "collapsed": false
   },
   "outputs": [
    {
     "data": {
      "image/png": "[encoded data removed]",
      "text/latex": [
       "$$- p_{0} x y + p_{0} x + p_{0} y - p_{0} + p_{1} x y - p_{1} x - p_{1} y + p_{1} + p_{2} x y - p_{2} y - p_{3} x y + p_{3} y + p_{4} x y - p_{4} x - p_{5} x y + p_{5} x - p_{6} x y + p_{7} x y$$"
      ],
      "text/plain": [
       "-p₀⋅x⋅y + p₀⋅x + p₀⋅y - p₀ + p₁⋅x⋅y - p₁⋅x - p₁⋅y + p₁ + p₂⋅x⋅y - p₂⋅y - p₃⋅x⋅\n",
       "y + p₃⋅y + p₄⋅x⋅y - p₄⋅x - p₅⋅x⋅y + p₅⋅x - p₆⋅x⋅y + p₇⋅x⋅y"
      ]
     },
     "execution_count": 8,
     "metadata": {},
     "output_type": "execute_result"
    }
   ],
   "source": [
    "dz"
   ]
  },
  {
   "cell_type": "markdown",
   "metadata": {},
   "source": [
    "$$\n",
    "(x_1 - x_0 + x_2 - x_3 + x_4 - x_5 + x_7 - x_6)\\eta\\beta + (x_0 - x_2 + x_6 - x_4)\\eta + (x_0 - x_1 + x_5 - x_4)\\beta + (x_4 - x_0)\\\\\n",
    "(x_1 - x_0 + x_2 - x_3 + x_4 - x_5 + x_7 - x_6)\\beta\\xi + (x_0 - x_1 + x_3 - x_2)\\beta + (x_0 - x_2 + x_6 - x_4)\\xi  + (x_2 - x_0)\\\\\n",
    "(x_1 - x_0 + x_2 - x_3 + x_4 - x_5 + x_7 - x_6)\\xi\\eta + (x_0 - x_1 + x_5 - x_4)\\xi + (x_0 - x_1 + x_3 - x_2)\\eta + (x_1 - x_0)  \n",
    "$$\n",
    "\n",
    "$$\n",
    "\\begin{pmatrix}\n",
    "\\frac{\\mathrm d x}{\\mathrm d \\xi} & \\frac{\\mathrm d x}{\\mathrm d\\eta} & \\frac{\\mathrm d x}{\\mathrm d\\beta}\\\\\n",
    "\\frac{\\mathrm d y}{\\mathrm d \\xi} & \\frac{\\mathrm d y}{\\mathrm d\\eta} & \\frac{\\mathrm d y}{\\mathrm d\\beta}\\\\\n",
    "\\frac{\\mathrm d z}{\\mathrm d \\xi} & \\frac{\\mathrm d z}{\\mathrm d\\eta} & \\frac{\\mathrm d z}{\\mathrm d\\beta}\\\\\n",
    "\\end{pmatrix}\n",
    "$$"
   ]
  },
  {
   "cell_type": "code",
   "execution_count": 25,
   "metadata": {
    "collapsed": false
   },
   "outputs": [
    {
     "name": "stdout",
     "output_type": "stream",
     "text": [
      "[[[0 1 2]\n",
      "  [3 4 5]\n",
      "  [6 7 8]]\n",
      "\n",
      " [[2 5 8]\n",
      "  [1 4 7]\n",
      "  [0 3 6]]\n",
      "\n",
      " [[8 7 6]\n",
      "  [5 4 3]\n",
      "  [2 1 0]]\n",
      "\n",
      " [[6 3 0]\n",
      "  [7 4 1]\n",
      "  [8 5 2]]\n",
      "\n",
      " [[0 3 6]\n",
      "  [1 4 7]\n",
      "  [2 5 8]]\n",
      "\n",
      " [[6 7 8]\n",
      "  [3 4 5]\n",
      "  [0 1 2]]\n",
      "\n",
      " [[8 5 2]\n",
      "  [7 4 1]\n",
      "  [6 3 0]]\n",
      "\n",
      " [[2 1 0]\n",
      "  [5 4 3]\n",
      "  [8 7 6]]]\n"
     ]
    }
   ],
   "source": [
    "import numpy as np\n",
    "\n",
    "idx = np.array([\n",
    "        [0, 1, 2, 3],\n",
    "        [1, 2, 3, 0],\n",
    "        [2, 3, 0, 1],\n",
    "        [3, 0, 1, 2],\n",
    "        [0, 3, 2, 1],\n",
    "        [1, 0, 3, 2],\n",
    "        [2, 1, 0, 3],\n",
    "        [3, 2, 1, 0],   \n",
    "    ])\n",
    "\n",
    "idx0 = np.array([\n",
    "        [0, 1, 2, 3, 4, 5, 6, 7, 8],\n",
    "        [2, 5, 8, 1, 4, 7, 0, 3, 6],\n",
    "        [8, 7, 6, 5, 4, 3, 2, 1, 0],\n",
    "        [6, 3, 0, 7, 4, 1, 8, 5, 2],\n",
    "        [0, 3, 6, 1, 4, 7, 2, 5, 8],\n",
    "        [6, 7, 8, 3, 4, 5, 0, 1, 2],\n",
    "        [8, 5, 2, 7, 4, 1, 6, 3, 0],\n",
    "        [2, 1, 0, 5, 4, 3, 8, 7, 6],\n",
    "    ])\n",
    "print(idx0.reshape(8, 3, 3))"
   ]
  },
  {
   "cell_type": "code",
   "execution_count": 32,
   "metadata": {
    "collapsed": false
   },
   "outputs": [
    {
     "name": "stdout",
     "output_type": "stream",
     "text": [
      "[[[ 0.  1.  2.]\n",
      "  [ 3.  4.  5.]\n",
      "  [ 6.  7.  8.]]\n",
      "\n",
      " [[ 8.  7.  6.]\n",
      "  [ 5.  4.  3.]\n",
      "  [ 2.  1.  0.]]\n",
      "\n",
      " [[ 6.  3.  0.]\n",
      "  [ 7.  4.  1.]\n",
      "  [ 8.  5.  2.]]\n",
      "\n",
      " [[ 2.  5.  8.]\n",
      "  [ 1.  4.  7.]\n",
      "  [ 0.  3.  6.]]\n",
      "\n",
      " [[ 0.  1.  2.]\n",
      "  [ 3.  4.  5.]\n",
      "  [ 6.  7.  8.]]\n",
      "\n",
      " [[ 8.  7.  6.]\n",
      "  [ 5.  4.  3.]\n",
      "  [ 2.  1.  0.]]\n",
      "\n",
      " [[ 0.  1.  2.]\n",
      "  [ 3.  4.  5.]\n",
      "  [ 6.  7.  8.]]\n",
      "\n",
      " [[ 2.  5.  8.]\n",
      "  [ 1.  4.  7.]\n",
      "  [ 0.  3.  6.]]]\n"
     ]
    }
   ],
   "source": [
    "a = np.array([\n",
    "        [0, 1, 2],\n",
    "        [3, 4, 5],\n",
    "        [6, 7, 8]])\n",
    "\n",
    "I = np.array([0, 2, 3, 1, 0, 2, 0, 1])\n",
    "b = np.zeros((len(I), 3, 3))\n",
    "for i, k in enumerate(I):\n",
    "    b[i] = np.rot90(a, k=k)"
   ]
  },
  {
   "cell_type": "code",
   "execution_count": 35,
   "metadata": {
    "collapsed": false
   },
   "outputs": [
    {
     "data": {
      "text/plain": [
       "array([ 0. ,  0.5,  1. ])"
      ]
     },
     "execution_count": 35,
     "metadata": {},
     "output_type": "execute_result"
    }
   ],
   "source": [
    "np.linspace(0, 1, 3)"
   ]
  },
  {
   "cell_type": "markdown",
   "metadata": {
    "collapsed": true
   },
   "source": [
    "Hamiltontian "
   ]
  }
 ],
 "metadata": {
  "kernelspec": {
   "display_name": "Python 3",
   "language": "python",
   "name": "python3"
  },
  "language_info": {
   "codemirror_mode": {
    "name": "ipython",
    "version": 3
   },
   "file_extension": ".py",
   "mimetype": "text/x-python",
   "name": "python",
   "nbconvert_exporter": "python",
   "pygments_lexer": "ipython3",
   "version": "3.5.2"
  },
  "latex_envs": {
   "bibliofile": "biblio.bib",
   "cite_by": "apalike",
   "current_citInitial": 1,
   "eqLabelWithNumbers": true,
   "eqNumInitial": 0
  }
 },
 "nbformat": 4,
 "nbformat_minor": 1
}
