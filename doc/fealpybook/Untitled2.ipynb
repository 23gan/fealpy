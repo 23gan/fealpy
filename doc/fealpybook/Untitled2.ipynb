{
 "cells": [
  {
   "cell_type": "code",
   "execution_count": 17,
   "metadata": {
    "collapsed": false
   },
   "outputs": [
    {
     "name": "stdout",
     "output_type": "stream",
     "text": [
      "[-1. -1.  1.]\n",
      "[-2. -1.  1.]\n",
      "[-2. -1.  1.]\n",
      "2 0.0\n"
     ]
    }
   ],
   "source": [
    "import numpy as np\n",
    "\n",
    "def gs(A, b, x0, tol=1e-8, maxit=1000):\n",
    "    L = np.tril(A)\n",
    "    Linv = np.linalg.inv(L)\n",
    "    U = np.triu(A, 1)\n",
    "    for i in range(maxit):\n",
    "        x1 = - Linv@U@x0 + Linv@b\n",
    "        error = np.linalg.norm(x1 - x0)\n",
    "        print(x1)\n",
    "        if error < tol:\n",
    "            print(i, error)\n",
    "            break\n",
    "        else:\n",
    "            x0 = x1\n",
    "            \n",
    "            \n",
    "A = np.array([(1, -1, 0), (-1, 2, -1), (0, -1, 1)])\n",
    "epsilon = 0\n",
    "I = np.eye(3)\n",
    "b = np.array([-1, -1, 2])\n",
    "x0 = np.zeros(3, dtype=np.float)\n",
    "\n",
    "gs(A+epsilon*I, b, x0)"
   ]
  },
  {
   "cell_type": "code",
   "execution_count": 6,
   "metadata": {
    "collapsed": false
   },
   "outputs": [
    {
     "data": {
      "text/plain": [
       "array([[ 1.        ,  0.14285714,  0.14285714],\n",
       "       [ 0.        ,  0.14285714,  0.14285714],\n",
       "       [ 0.        ,  0.        ,  1.        ]])"
      ]
     },
     "execution_count": 6,
     "metadata": {},
     "output_type": "execute_result"
    }
   ],
   "source": [
    "A = np.array([(1, -1, 0), (-1, 2, -1), (0, -1, 1)])\n",
    "np.triu(A, 1)\n",
    "np.linalg.inv(np.triu(A))"
   ]
  },
  {
   "cell_type": "code",
   "execution_count": null,
   "metadata": {
    "collapsed": true
   },
   "outputs": [],
   "source": []
  }
 ],
 "metadata": {
  "kernelspec": {
   "display_name": "Python 3",
   "language": "python",
   "name": "python3"
  },
  "language_info": {
   "codemirror_mode": {
    "name": "ipython",
    "version": 3
   },
   "file_extension": ".py",
   "mimetype": "text/x-python",
   "name": "python",
   "nbconvert_exporter": "python",
   "pygments_lexer": "ipython3",
   "version": "3.5.2"
  }
 },
 "nbformat": 4,
 "nbformat_minor": 1
}
