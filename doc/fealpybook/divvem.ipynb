{
 "cells": [
  {
   "cell_type": "markdown",
   "metadata": {},
   "source": [
    "# div0vem\n"
   ]
  },
  {
   "cell_type": "markdown",
   "metadata": {},
   "source": [
    "#### 1. 符号标记"
   ]
  },
  {
   "cell_type": "markdown",
   "metadata": {},
   "source": [
    "|符号|意思|\n",
    "|-----|----|\n",
    "|$\\Omega$| 区域|\n",
    "|$T_h$| polyhedral triangulation |\n",
    "|$E$ | element|\n",
    "|$f$| face |\n",
    "|$P_k$| polynomial space of order k \\geq 0|\n",
    "|$\\boldsymbol{p}_k$| vector polynomial space|\n",
    "|$V_E$| local space|\n",
    "|$V_h^E$| the golbal H(div) conforming vritual element space|\n",
    "|$RM(f)$| the space of rigid motion |\n",
    "|$S_{d-1}$| the space of anti-symmeteric $(d-1) \\times (d-1)$ matrices|\n",
    "|$V_h^t$| the element boundary space|\n",
    "|$\\tau_i$| orthogonal unit tangential vectors on the face|\n",
    "|$V_h$| virtual element space|\n",
    "|$\\mathbb{P}_{k-1}^s$| the space of symmetric matrics|\n",
    "|$\\tilde{J}_{\\partial E}^{\\tau_i}$| the difference of $v^t$ and $ v^{div}$ on the tangential $\\tau_i$ difference|"
   ]
  },
  {
   "cell_type": "markdown",
   "metadata": {},
   "source": [
    " #### 2. the steady-state incompressibleStokes roblem "
   ]
  },
  {
   "cell_type": "markdown",
   "metadata": {
    "collapsed": true
   },
   "source": [
    "$$\n",
    "\\begin{cases}\n",
    "-div(2 \\nu \\epsilon(u)) + \\nabla p = f \\quad in \\Omega\\\\\n",
    "\\nabla \\cdot u=0 \\quad in \\Omega\\\\\n",
    "u = 0 \\quad on \\partial \\Omega\n",
    "\\end{cases}\n",
    "$$\n",
    "\n",
    "其中 $\\epsilon(u) = \\frac{1}{2} (\\nabla u+ \\nabla u^T)$"
   ]
  },
  {
   "cell_type": "markdown",
   "metadata": {
    "collapsed": true
   },
   "source": [
    "在斯托克斯方程流动中, 雷诺数非常低, N-S方程中的核对流项加速度$(u_t+u\\cdot \\nabla u=0)$ 被忽略, 然后, 对于不可压缩流的稳定流量有: $\\nabla p = \\mu \\nabla \\times \\omega 其中[\\omega = \\nabla \\times u]$"
   ]
  },
  {
   "cell_type": "markdown",
   "metadata": {
    "collapsed": true
   },
   "source": [
    "stokes'stress constitutive equation :\n",
    "\n",
    "$$\n",
    "\\tau = 2\\mu \\epsilon\\\\\n",
    "\\nabla \\cdot \\tau = 2\\mu \\nabla \\cdot \\epsilon = \\mu \\nabla^2 u\n",
    "$$"
   ]
  },
  {
   "cell_type": "markdown",
   "metadata": {
    "collapsed": true
   },
   "source": [
    "故根据动量守恒定律有:\n",
    "\n",
    "$$\n",
    "\\rho D_\\tau u = f - \\nabla p + div \\sigma (u) = f+div(-pI+\\sigma(u))\n",
    "$$\n",
    "\n",
    "化简有:\n",
    "\n",
    "$$\n",
    "-div(2 \\nu \\epsilon(u)) + \\nabla p = f\n",
    "$$\n",
    "\n"
   ]
  },
  {
   "cell_type": "markdown",
   "metadata": {
    "collapsed": true
   },
   "source": [
    "此外, 不可压缩流: \n",
    "\n",
    "$$\n",
    "D_\\tau \\rho = 0 \\iff div u =0 \\iff \\nabla \\cdot u =0\n",
    "$$"
   ]
  },
  {
   "cell_type": "markdown",
   "metadata": {
    "collapsed": true
   },
   "source": [
    "#### 3. 自由度"
   ]
  },
  {
   "cell_type": "markdown",
   "metadata": {
    "collapsed": true
   },
   "source": [
    "对于空间$\\mathbb P_k(\\mathbb R^d)$ 的维数用 $\\pi_{k, d}$ 表示:"
   ]
  },
  {
   "cell_type": "markdown",
   "metadata": {
    "collapsed": true
   },
   "source": [
    "$$\n",
    "\\begin{align}\n",
    "\\pi_{k, 1} & = k + 1\\\\\n",
    "\\pi_{k, 2} & = \\frac{(k+1)(k+2)}{2}\\\\\n",
    "\\pi_{k, 3} & = \\frac{(k+1)(k+2)(k+3)}{6}\\\\\n",
    "\\end{align}\n",
    "$$"
   ]
  },
  {
   "cell_type": "markdown",
   "metadata": {
    "collapsed": true
   },
   "source": [
    "$$\n",
    "(\\mathrm{div} (\\mathbb W\\mathbf u), 1) = (\\frac{1}{2}(\\nabla \\mathbf u + \\nabla \\mathbf u^T), \\mathbb W) + (\\mathrm{div} \\mathbb W, \\mathbf u)\n",
    "$$\n",
    "\n",
    "$$\n",
    "(\\mathrm{div} (\\mathbb W\\mathbf u), 1) = <\\mathbb W\\mathbf n, \\mathbf u>_{\\partial E}=\\left<(\\mathbb W\\mathbf n\\cdot \\mathbf n)\\mathbf n + \\sum (\\mathbb W\\mathbf n\\cdot \\mathbf \\tau_i)\\mathbf \\tau_i , (\\mathbf u\\cdot\\mathbf n)\\mathbf n + \\sum (\\mathbf u\\cdot\\mathbf \\tau_i)\\mathbf \\tau_i\\right>_{\\partial E} \n",
    "$$"
   ]
  },
  {
   "cell_type": "markdown",
   "metadata": {},
   "source": [
    "\\nabla"
   ]
  }
 ],
 "metadata": {
  "kernelspec": {
   "display_name": "Python 3",
   "language": "python",
   "name": "python3"
  },
  "language_info": {
   "codemirror_mode": {
    "name": "ipython",
    "version": 3
   },
   "file_extension": ".py",
   "mimetype": "text/x-python",
   "name": "python",
   "nbconvert_exporter": "python",
   "pygments_lexer": "ipython3",
   "version": "3.5.2"
  }
 },
 "nbformat": 4,
 "nbformat_minor": 0
}
