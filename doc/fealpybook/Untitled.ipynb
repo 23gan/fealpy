{
 "cells": [
  {
   "cell_type": "markdown",
   "metadata": {},
   "source": [
    "$$\n",
    "\\begin{align}\n",
    "\\rho\\frac{d \\mathbf v}{d t} =& \\nabla\\cdot \\left(-\n",
    "\\frac{1}{2\\nu_0}\\mathbf B^2 \\mathbf I + \\frac{1}{\\nu_0}\\mathbf B \\mathbf B^T + \\mathbf S - P\\mathbf I\\right)\\\\\n",
    "\\rho\\frac{d e}{d t} = & (\\mathbf S\\nabla)\\cdot\\mathbf v - P(\\nabla\\cdot \\mathbf v) + \\eta \\mathbf j^2\\\\\n",
    "\\frac{d \\mathbf B}{d t} =&  -\\nabla\\times(\\eta\\mathbf j) - \\mathbf B (\\nabla\\cdot\\mathbf v) + (\\mathbf B\\cdot\\nabla)\\mathbf v\n",
    "\\end{align}\n",
    "$$"
   ]
  },
  {
   "cell_type": "markdown",
   "metadata": {},
   "source": [
    "* $\\frac{d}{d t}$: 物质导数\n",
    "* $\\rho$： 物质密度\n",
    "* $\\mathbf v$： 物质速度\n",
    "* $P$： 球形压强\n",
    "* $\\mathbf S$: 应力偏量\n",
    "* $e$： 物质比内能\n",
    "* $\\mathbf B$: 磁场强度\n",
    "* $\\eta$: 材料电阻率\n",
    "* $\\mu_0$: 真空磁导率常数\n",
    "* $\\mathbf j$: 电流密度， $\\mathbf j=\\frac{1}{\\mu_0}\\nabla\\times \\mathbf B$"
   ]
  },
  {
   "cell_type": "code",
   "execution_count": null,
   "metadata": {
    "collapsed": true
   },
   "outputs": [],
   "source": []
  }
 ],
 "metadata": {
  "kernelspec": {
   "display_name": "Python 3",
   "language": "python",
   "name": "python3"
  },
  "language_info": {
   "codemirror_mode": {
    "name": "ipython",
    "version": 3
   },
   "file_extension": ".py",
   "mimetype": "text/x-python",
   "name": "python",
   "nbconvert_exporter": "python",
   "pygments_lexer": "ipython3",
   "version": "3.5.2"
  }
 },
 "nbformat": 4,
 "nbformat_minor": 1
}
