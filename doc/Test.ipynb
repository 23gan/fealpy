{
 "cells": [
  {
   "cell_type": "code",
   "execution_count": 1,
   "metadata": {
    "collapsed": false
   },
   "outputs": [
    {
     "name": "stdout",
     "output_type": "stream",
     "text": [
      "Hello Wrold!\n"
     ]
    }
   ],
   "source": [
    "print(\"Hello Wrold!\") # shift+enter"
   ]
  },
  {
   "cell_type": "code",
   "execution_count": null,
   "metadata": {
    "collapsed": true
   },
   "outputs": [],
   "source": [
    "print(4+5)"
   ]
  },
  {
   "cell_type": "code",
   "execution_count": 8,
   "metadata": {
    "collapsed": false
   },
   "outputs": [
    {
     "name": "stdout",
     "output_type": "stream",
     "text": [
      "(-y_0 + y_1)*(-y_1 + 1)/((y_0 - y_1)**2 + 1)**(3/2)\n",
      "(y_0 - y_1)*(-y_1 + 1)/((y_0 - y_1)**2 + 1)**(3/2) - 1/sqrt((y_0 - y_1)**2 + 1)\n"
     ]
    },
    {
     "data": {
      "text/plain": [
       "[{y_1: 1}]"
      ]
     },
     "execution_count": 8,
     "metadata": {},
     "output_type": "execute_result"
    }
   ],
   "source": [
    "from sympy import *\n",
    "y0, y1 = symbols('y_0, y_1')\n",
    "h = (1 - y1)/sqrt((y0 - y1)**2 + 1)\n",
    "print(diff(h, y0))\n",
    "print(diff(h, y1))\n",
    "solve([diff(h, y0), diff(h, y1)])"
   ]
  },
  {
   "cell_type": "markdown",
   "metadata": {},
   "source": [
    "这是一个 Python 软件包的文档。 \n",
    "\n",
    "1. item1\n",
    "1. item2 \n",
    "1. item3 \n",
    "\n",
    "$$\n",
    "x^2 + y^2 = 1\n",
    "$$\n",
    "\n",
    "给定一个函数  $u(x)$, 满足如下方程\n",
    "\n",
    "$$\n",
    "-\\Delta u(x) = f(x)\n",
    "$$\n",
    "\n",
    "$$\n",
    "\\begin{pmatrix}\n",
    "0 & 1 \\\\\n",
    "1 & 0 \\\\\n",
    "\\end{pmatrix}\n",
    "$$\n",
    "\n",
    "| Notation | Meaning |\n",
    "| :-----| ----: |\n",
    "| $u$ | Solution |\n",
    "| $\\tau$ | Triangle |\n",
    "\n",
    "![test](./sa-crop.png)"
   ]
  },
  {
   "cell_type": "code",
   "execution_count": null,
   "metadata": {
    "collapsed": true
   },
   "outputs": [],
   "source": []
  }
 ],
 "metadata": {
  "kernelspec": {
   "display_name": "Python 3",
   "language": "python",
   "name": "python3"
  },
  "language_info": {
   "codemirror_mode": {
    "name": "ipython",
    "version": 3
   },
   "file_extension": ".py",
   "mimetype": "text/x-python",
   "name": "python",
   "nbconvert_exporter": "python",
   "pygments_lexer": "ipython3",
   "version": "3.5.2"
  },
  "latex_envs": {
   "bibliofile": "biblio.bib",
   "cite_by": "apalike",
   "current_citInitial": 1,
   "eqLabelWithNumbers": true,
   "eqNumInitial": 0
  }
 },
 "nbformat": 4,
 "nbformat_minor": 2
}
