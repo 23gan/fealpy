{
 "cells": [
  {
   "cell_type": "code",
   "execution_count": null,
   "metadata": {
    "collapsed": true
   },
   "outputs": [],
   "source": []
  },
  {
   "cell_type": "markdown",
   "metadata": {},
   "source": [
    "1. 为什么要做方面的研究\n",
    "1. Delaunay 空圆性质的文献\n",
    "1. 图片的调整\n",
    "1. 椭圆界面模型的存在唯一性\n",
    "1. 突出自动化恢复曲面\n",
    "1. 语句结尾重复\n",
    "1. \"感觉\"\n",
    "1. 问题的重要性如何恰当说明?头与身体比例要协调.\n",
    "1. 为什么做数值实验?\n",
    "1. 面向对象是什么? 70% 到 80% 的人了解到 70% 到 80%\n",
    "1. 如何引导听众?\n",
    "1. 彩色标记重点\n",
    "1. 表达不够清晰"
   ]
  }
 ],
 "metadata": {
  "kernelspec": {
   "display_name": "Python 3",
   "language": "python",
   "name": "python3"
  },
  "language_info": {
   "codemirror_mode": {
    "name": "ipython",
    "version": 3
   },
   "file_extension": ".py",
   "mimetype": "text/x-python",
   "name": "python",
   "nbconvert_exporter": "python",
   "pygments_lexer": "ipython3",
   "version": "3.5.2"
  }
 },
 "nbformat": 4,
 "nbformat_minor": 1
}
