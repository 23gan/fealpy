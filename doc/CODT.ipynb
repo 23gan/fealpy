{
 "cells": [
  {
   "cell_type": "markdown",
   "metadata": {},
   "source": [
    "The volume of a $d$-dimensional unit and regular simplex is \n",
    "$$\n",
    "|\\bar \\tau_i| = \\frac{\\sqrt{d+1}}{\\sqrt{2^d} d!}=\n",
    "\\begin{cases}\n",
    "1, & d = 1\\\\\n",
    "\\frac{\\sqrt{3}}{4}, & d = 2\\\\\n",
    "\\frac{\\sqrt{2}}{12}, & d = 3\n",
    "\\end{cases}\n",
    "$$"
   ]
  },
  {
   "cell_type": "markdown",
   "metadata": {},
   "source": [
    "ODT energy as potential energy.\n",
    "\n",
    "$$\n",
    "W_{ODT}(J) = \\frac{1}{2(d+2)}\\det(J)\\norm{J}_F^2\n",
    "$$"
   ]
  },
  {
   "cell_type": "code",
   "execution_count": null,
   "metadata": {
    "collapsed": true
   },
   "outputs": [],
   "source": []
  }
 ],
 "metadata": {
  "kernelspec": {
   "display_name": "Python 3",
   "language": "python",
   "name": "python3"
  },
  "language_info": {
   "codemirror_mode": {
    "name": "ipython",
    "version": 3
   },
   "file_extension": ".py",
   "mimetype": "text/x-python",
   "name": "python",
   "nbconvert_exporter": "python",
   "pygments_lexer": "ipython3",
   "version": "3.5.2"
  },
  "latex_envs": {
   "bibliofile": "biblio.bib",
   "cite_by": "apalike",
   "current_citInitial": 1,
   "eqLabelWithNumbers": true,
   "eqNumInitial": 0
  }
 },
 "nbformat": 4,
 "nbformat_minor": 2
}
