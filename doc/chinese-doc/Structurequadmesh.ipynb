{
 "cells": [
  {
   "cell_type": "markdown",
   "metadata": {},
   "source": [
    "## QuadMesh"
   ]
  },
  {
   "cell_type": "markdown",
   "metadata": {},
   "source": [
    "## 四边形网格的数据结构"
   ]
  },
  {
   "cell_type": "code",
   "execution_count": 2,
   "metadata": {
    "collapsed": true
   },
   "outputs": [],
   "source": [
    "import numpy as np\n",
    "\n",
    "from scipy.sparse import coo_matrix, csr_matrix\n",
    "from scipy.sparse import triu, tril\n",
    "\n",
    "from matplotlib.collections import LineCollection\n",
    "\n",
    "from fealpy.mesh.Mesh2d import Mesh2d\n",
    "from fealpy.mesh.StructureQuadMesh import StructureQuadMesh"
   ]
  },
  {
   "cell_type": "markdown",
   "metadata": {},
   "source": [
    "网格是有限元算法的基础, 最少需要两个二维数组来存储网格的信息:\n",
    "\n",
    "* 网格节点坐标数组 `node`:\n",
    "    + $NN\\times 2$ 的二维数组\n",
    "    + `node[i, 0]` 和 `node[i, 1]` 分别存储第 $i$ 个网格节点的 $x$ 和 $y$ 坐标\n",
    "* 单元顶点编号数组 `cell`:\n",
    "    + $NC\\times 4$ 的二维数组\n",
    "    + `cell[i, 0]`, `cell[i, 1]`, `cell[i, 2]` 和 `cell[i, 3]` 分别存储第 $i$ 个单元四个顶点的全局编号(即 `node` 中的行号)"
   ]
  },
  {
   "cell_type": "code",
   "execution_count": 14,
   "metadata": {},
   "outputs": [
    {
     "data": {
      "image/png": "[encoded data removed]",
      "text/plain": [
       "<matplotlib.figure.Figure at 0x7f75cef194a8>"
      ]
     },
     "metadata": {},
     "output_type": "display_data"
    },
    {
     "name": "stdout",
     "output_type": "stream",
     "text": [
      "[[ 6  2  7  0]\n",
      " [ 7  3  8  1]\n",
      " [ 9  4 10  2]\n",
      " [10  5 11  3]]\n"
     ]
    }
   ],
   "source": [
    "%matplotlib inline\n",
    "import matplotlib.pyplot as plt\n",
    "box = [0, 1, 0, 1]\n",
    "n = 2\n",
    "qmesh = StructureQuadMesh(box, n, n)\n",
    "fig = plt.figure()\n",
    "axes = fig.gca()\n",
    "qmesh.add_plot(axes)\n",
    "qmesh.find_node(axes, showindex=True, markersize=25, fontsize=12)\n",
    "qmesh.find_edge(axes, showindex=True, markersize=25, fontsize=12)\n",
    "qmesh.find_cell(axes, showindex=True, markersize=100, fontsize=12)\n",
    "axes.set_title('mesh')\n",
    "plt.show()\n",
    "print(qmesh.ds.cell_to_edge())"
   ]
  },
  {
   "cell_type": "markdown",
   "metadata": {},
   "source": [
    "除了上述两个基本数组之外, 有限元方法中还需要更多的网格数据, 如:\n",
    "\n",
    "* 边数组 `edge`\n",
    "    + 二维 $NE\\times 2$ 数组 \n",
    "    + `edge[i, 0]` 和 `edge[i, 1]` 分别存储第 $i$ 条边的起点和终点的全局编号(即对应 `node` 数组中的行号)\n",
    "    + 如果第 $i$ 条边是边界边, 则规定从 `edge[i, 0]` 看向 `edge[i, 1]`, 网格离散区域一定在左手边\n",
    "* 边与单元的相邻关系数组 `edge2cell`\n",
    "    + 二维 $NE \\times 4 $ 的数组\n",
    "    + `edge2cell[i, 0]` 和 `edge2cell[i, 1]` 分别存储第 $i$ 条边左右两个单元的全局编号(即对应 `cell` 数组中的行号)\n",
    "    + `edge2cell[i, 2]` 和 `edge2cell[i, 3]` 分别存储第 $i$ 条边在左右两个单元中的局部编号\n",
    "    + 如果是边界边, 则\n",
    "        - `edge2cell[i, 0] = edge2cell[i, 1]` \n",
    "        - `edge2cell[i, 2] = edge2cell[i, 3]`\n",
    "        \n",
    "**注: `edge` 和 `edge2cell` 可以从 `cell` 中构造出来.**"
   ]
  },
  {
   "cell_type": "code",
   "execution_count": 4,
   "metadata": {},
   "outputs": [
    {
     "data": {
      "text/plain": [
       "array([[ 0. ,  0. ],\n",
       "       [ 0. ,  0.5],\n",
       "       [ 0. ,  1. ],\n",
       "       [ 0.5,  0. ],\n",
       "       [ 0.5,  0.5],\n",
       "       [ 0.5,  1. ],\n",
       "       [ 1. ,  0. ],\n",
       "       [ 1. ,  0.5],\n",
       "       [ 1. ,  1. ]])"
      ]
     },
     "execution_count": 4,
     "metadata": {},
     "output_type": "execute_result"
    }
   ],
   "source": [
    "qmesh.node"
   ]
  },
  {
   "cell_type": "code",
   "execution_count": 7,
   "metadata": {},
   "outputs": [
    {
     "data": {
      "text/plain": [
       "array([[0, 3, 4, 1],\n",
       "       [1, 4, 5, 2],\n",
       "       [3, 6, 7, 4],\n",
       "       [4, 7, 8, 5]], dtype=int32)"
      ]
     },
     "execution_count": 7,
     "metadata": {},
     "output_type": "execute_result"
    }
   ],
   "source": [
    "qmesh.entity('cell')"
   ]
  },
  {
   "cell_type": "code",
   "execution_count": 9,
   "metadata": {},
   "outputs": [
    {
     "data": {
      "text/plain": [
       "array([[0, 0, 3, 3],\n",
       "       [1, 1, 3, 3],\n",
       "       [0, 2, 1, 3],\n",
       "       [1, 3, 1, 3],\n",
       "       [2, 2, 1, 1],\n",
       "       [3, 3, 1, 1],\n",
       "       [0, 0, 0, 0],\n",
       "       [1, 0, 0, 2],\n",
       "       [1, 1, 2, 2],\n",
       "       [2, 2, 0, 0],\n",
       "       [3, 2, 0, 2],\n",
       "       [3, 3, 2, 2]], dtype=int32)"
      ]
     },
     "execution_count": 9,
     "metadata": {},
     "output_type": "execute_result"
    }
   ],
   "source": [
    "qmesh.ds.edge_to_cell()"
   ]
  },
  {
   "cell_type": "code",
   "execution_count": 28,
   "metadata": {},
   "outputs": [
    {
     "data": {
      "text/plain": [
       "array([[ 0,  0,  3,  3],\n",
       "       [ 1,  1,  3,  3],\n",
       "       [ 2,  2,  3,  3],\n",
       "       [ 3,  3,  3,  3],\n",
       "       [ 0,  4,  1,  3],\n",
       "       [ 1,  5,  1,  3],\n",
       "       [ 2,  6,  1,  3],\n",
       "       [ 3,  7,  1,  3],\n",
       "       [ 4,  8,  1,  3],\n",
       "       [ 5,  9,  1,  3],\n",
       "       [ 6, 10,  1,  3],\n",
       "       [ 7, 11,  1,  3],\n",
       "       [ 8, 12,  1,  3],\n",
       "       [ 9, 13,  1,  3],\n",
       "       [10, 14,  1,  3],\n",
       "       [11, 15,  1,  3],\n",
       "       [12, 12,  1,  1],\n",
       "       [13, 13,  1,  1],\n",
       "       [14, 14,  1,  1],\n",
       "       [15, 15,  1,  1],\n",
       "       [ 0,  0,  0,  0],\n",
       "       [ 1,  0,  0,  2],\n",
       "       [ 2,  1,  0,  2],\n",
       "       [ 3,  2,  0,  2],\n",
       "       [ 3,  3,  2,  2],\n",
       "       [ 4,  4,  0,  0],\n",
       "       [ 5,  4,  0,  2],\n",
       "       [ 6,  5,  0,  2],\n",
       "       [ 7,  6,  0,  2],\n",
       "       [ 7,  7,  2,  2],\n",
       "       [ 8,  8,  0,  0],\n",
       "       [ 9,  8,  0,  2],\n",
       "       [10,  9,  0,  2],\n",
       "       [11, 10,  0,  2],\n",
       "       [11, 11,  2,  2],\n",
       "       [12, 12,  0,  0],\n",
       "       [13, 12,  0,  2],\n",
       "       [14, 13,  0,  2],\n",
       "       [15, 14,  0,  2],\n",
       "       [15, 15,  2,  2]], dtype=int32)"
      ]
     },
     "execution_count": 28,
     "metadata": {},
     "output_type": "execute_result"
    }
   ],
   "source": [
    "tmesh.edge2cell"
   ]
  },
  {
   "cell_type": "code",
   "execution_count": 31,
   "metadata": {},
   "outputs": [
    {
     "data": {
      "text/plain": [
       "array([[20,  4, 21,  0],\n",
       "       [21,  5, 22,  1],\n",
       "       [22,  6, 23,  2],\n",
       "       [23,  7, 24,  3],\n",
       "       [25,  8, 26,  4],\n",
       "       [26,  9, 27,  5],\n",
       "       [27, 10, 28,  6],\n",
       "       [28, 11, 29,  7],\n",
       "       [30, 12, 31,  8],\n",
       "       [31, 13, 32,  9],\n",
       "       [32, 14, 33, 10],\n",
       "       [33, 15, 34, 11],\n",
       "       [35, 16, 36, 12],\n",
       "       [36, 17, 37, 13],\n",
       "       [37, 18, 38, 14],\n",
       "       [38, 19, 39, 15]], dtype=int32)"
      ]
     },
     "execution_count": 31,
     "metadata": {},
     "output_type": "execute_result"
    }
   ],
   "source": [
    "tmesh.cell_to_edge()"
   ]
  },
  {
   "cell_type": "code",
   "execution_count": 34,
   "metadata": {},
   "outputs": [
    {
     "data": {
      "text/plain": [
       "array([[ 0,  4,  1,  0],\n",
       "       [ 0,  5,  2,  1],\n",
       "       [ 1,  6,  3,  2],\n",
       "       [ 2,  7,  3,  3],\n",
       "       [ 4,  8,  5,  0],\n",
       "       [ 4,  9,  6,  1],\n",
       "       [ 5, 10,  7,  2],\n",
       "       [ 6, 11,  7,  3],\n",
       "       [ 8, 12,  9,  4],\n",
       "       [ 8, 13, 10,  5],\n",
       "       [ 9, 14, 11,  6],\n",
       "       [10, 15, 11,  7],\n",
       "       [12, 12, 13,  8],\n",
       "       [12, 13, 14,  9],\n",
       "       [13, 14, 15, 10],\n",
       "       [14, 15, 15, 11]])"
      ]
     },
     "execution_count": 34,
     "metadata": {},
     "output_type": "execute_result"
    }
   ],
   "source": [
    "tmesh.cell_to_cell()"
   ]
  },
  {
   "cell_type": "code",
   "execution_count": 35,
   "metadata": {},
   "outputs": [
    {
     "data": {
      "text/plain": [
       "array([ 0,  1,  2,  3, 16, 17, 18, 19, 20, 24, 25, 29, 30, 34, 35, 39])"
      ]
     },
     "execution_count": 35,
     "metadata": {},
     "output_type": "execute_result"
    }
   ],
   "source": [
    "tmesh.boundary_edge_index()"
   ]
  },
  {
   "cell_type": "code",
   "execution_count": 21,
   "metadata": {},
   "outputs": [
    {
     "name": "stdout",
     "output_type": "stream",
     "text": [
      "Point:\n",
      " [[0.   0.  ]\n",
      " [0.   0.25]\n",
      " [0.   0.5 ]\n",
      " [0.   0.75]\n",
      " [0.   1.  ]\n",
      " [0.25 0.  ]\n",
      " [0.25 0.25]\n",
      " [0.25 0.5 ]\n",
      " [0.25 0.75]\n",
      " [0.25 1.  ]\n",
      " [0.5  0.  ]\n",
      " [0.5  0.25]\n",
      " [0.5  0.5 ]\n",
      " [0.5  0.75]\n",
      " [0.5  1.  ]\n",
      " [0.75 0.  ]\n",
      " [0.75 0.25]\n",
      " [0.75 0.5 ]\n",
      " [0.75 0.75]\n",
      " [0.75 1.  ]\n",
      " [1.   0.  ]\n",
      " [1.   0.25]\n",
      " [1.   0.5 ]\n",
      " [1.   0.75]\n",
      " [1.   1.  ]]\n",
      "Cell:\n",
      " [[ 0  5  6  1]\n",
      " [ 1  6  7  2]\n",
      " [ 2  7  8  3]\n",
      " [ 3  8  9  4]\n",
      " [ 5 10 11  6]\n",
      " [ 6 11 12  7]\n",
      " [ 7 12 13  8]\n",
      " [ 8 13 14  9]\n",
      " [10 15 16 11]\n",
      " [11 16 17 12]\n",
      " [12 17 18 13]\n",
      " [13 18 19 14]\n",
      " [15 20 21 16]\n",
      " [16 21 22 17]\n",
      " [17 22 23 18]\n",
      " [18 23 24 19]]\n",
      "Edge and Edge2cell:\n",
      " [[ 1  0  0  0  3  3]\n",
      " [ 2  1  1  1  3  3]\n",
      " [ 3  2  2  2  3  3]\n",
      " [ 4  3  3  3  3  3]\n",
      " [ 5  6  0  4  1  3]\n",
      " [ 6  7  1  5  1  3]\n",
      " [ 7  8  2  6  1  3]\n",
      " [ 8  9  3  7  1  3]\n",
      " [10 11  4  8  1  3]\n",
      " [11 12  5  9  1  3]\n",
      " [12 13  6 10  1  3]\n",
      " [13 14  7 11  1  3]\n",
      " [15 16  8 12  1  3]\n",
      " [16 17  9 13  1  3]\n",
      " [17 18 10 14  1  3]\n",
      " [18 19 11 15  1  3]\n",
      " [20 21 12 12  1  1]\n",
      " [21 22 13 13  1  1]\n",
      " [22 23 14 14  1  1]\n",
      " [23 24 15 15  1  1]\n",
      " [ 0  5  0  0  0  0]\n",
      " [ 1  6  1  0  0  2]\n",
      " [ 2  7  2  1  0  2]\n",
      " [ 3  8  3  2  0  2]\n",
      " [ 9  4  3  3  2  2]\n",
      " [ 5 10  4  4  0  0]\n",
      " [ 6 11  5  4  0  2]\n",
      " [ 7 12  6  5  0  2]\n",
      " [ 8 13  7  6  0  2]\n",
      " [14  9  7  7  2  2]\n",
      " [10 15  8  8  0  0]\n",
      " [11 16  9  8  0  2]\n",
      " [12 17 10  9  0  2]\n",
      " [13 18 11 10  0  2]\n",
      " [19 14 11 11  2  2]\n",
      " [15 20 12 12  0  0]\n",
      " [16 21 13 12  0  2]\n",
      " [17 22 14 13  0  2]\n",
      " [18 23 15 14  0  2]\n",
      " [24 19 15 15  2  2]]\n",
      "Cell2edge:\n",
      " [[20  4 21  0]\n",
      " [21  5 22  1]\n",
      " [22  6 23  2]\n",
      " [23  7 24  3]\n",
      " [25  8 26  4]\n",
      " [26  9 27  5]\n",
      " [27 10 28  6]\n",
      " [28 11 29  7]\n",
      " [30 12 31  8]\n",
      " [31 13 32  9]\n",
      " [32 14 33 10]\n",
      " [33 15 34 11]\n",
      " [35 16 36 12]\n",
      " [36 17 37 13]\n",
      " [37 18 38 14]\n",
      " [38 19 39 15]]\n"
     ]
    }
   ],
   "source": [
    "qmesh.print()"
   ]
  },
  {
   "cell_type": "code",
   "execution_count": null,
   "metadata": {
    "collapsed": true
   },
   "outputs": [],
   "source": []
  },
  {
   "cell_type": "code",
   "execution_count": null,
   "metadata": {
    "collapsed": true
   },
   "outputs": [],
   "source": []
  }
 ],
 "metadata": {
  "kernelspec": {
   "display_name": "Python 3",
   "language": "python",
   "name": "python3"
  },
  "language_info": {
   "codemirror_mode": {
    "name": "ipython",
    "version": 3
   },
   "file_extension": ".py",
   "mimetype": "text/x-python",
   "name": "python",
   "nbconvert_exporter": "python",
   "pygments_lexer": "ipython3",
   "version": "3.6.1"
  }
 },
 "nbformat": 4,
 "nbformat_minor": 2
}
