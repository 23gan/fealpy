{
 "cells": [
  {
   "cell_type": "markdown",
   "metadata": {
    "slideshow": {
     "slide_type": "slide"
    }
   },
   "source": [
    "<h1><center>基于 Numpy 的面向数组有限元编程技术</center></h1>\n",
    "$$\\quad$$\n",
    "<h2><center>报告人: 魏华祎</center></h2>\n",
    "$$\\quad$$\n",
    "<h2><center>湘潭大学数学与计算科学学院</center></h2>\n",
    "$$\\quad$$\n",
    "<h2><center>weihuayi@xtu.edu.cn</center></h2>\n",
    "$$\\quad$$\n",
    "<h2><center>2017.04.08</center></h2>"
   ]
  },
  {
   "cell_type": "markdown",
   "metadata": {
    "slideshow": {
     "slide_type": "slide"
    }
   },
   "source": [
    "## 面向数组编程（Array-oriented programming)\n",
    "\n",
    "面向数组编程的核心思想是基于**多维数组及其运算**来实现相关算法。\n",
    "\n",
    "\n",
    "Users of computers and programming languages are often concerned primarily with the efficiency of execution of algorithms, and might, therefore, summarily dismiss many of\n",
    "the algorithms presented here. Such dismissal would be short-sighted, since a clear statement of an algorithm can usually be used as a basis from which one may easily derive more efficient algorithm. --- **Kenneth E. Iverson (Notation as a tool of\n",
    "    thought, 1979 ACM Turing Award Lecture)**\n",
    "\n",
    "**注:**\n",
    "\n",
    "肯尼斯·艾佛森（Kenneth E. Iverson，1920年12月17日-2004年10月19日）是一位计算机科学家，最重要的贡献是开发了APL。1979年他因对数学表达式和编程语言理论的贡献而得到图灵奖。"
   ]
  },
  {
   "cell_type": "markdown",
   "metadata": {
    "slideshow": {
     "slide_type": "slide"
    }
   },
   "source": [
    "## 面向数组编程的优缺点\n",
    "\n",
    "* **优点**:\n",
    "    - 避免写冗长的循环, 编写代码速度更高\n",
    "    - 代码简洁, 可读性更高\n",
    "    - 编程的抽象层次更接近高等数学的运算过程\n",
    "    - 可直接利用高效实现的数值代数软件包, 编写高效的代码\n",
    "* **缺点**: \n",
    "    - 需要改变已有的标量化编程思维方式\n",
    "    - 需要基于数组及其运算重构已有算法"
   ]
  },
  {
   "cell_type": "markdown",
   "metadata": {},
   "source": [
    "### 支持面向数组编程的语言\n",
    "\n",
    "面向数组编程的语言或软件包:\n",
    "* APL\n",
    "* J\n",
    "* Fortran 90\n",
    "* Matlab \n",
    "* Octave\n",
    "* R\n",
    "* Wolfram Language\n",
    "* Python 中的 Numpy 扩展模块\n",
    "* C++ 中基于算子重载的很多数值代数扩展包, 如 Armadillo 和 Blitz++\n",
    "* ......\n",
    "\n",
    "\n",
    "下面分别是以 C 和 Python 语言实现两个矩阵的相加的代码:\n",
    "\n",
    "\n",
    "```C\n",
    "// C 语言实现 两个矩阵相加的代码\n",
    "for (i = 0; i < n; i++)\n",
    "    for (j = 0; j < n; j++)\n",
    "        a[i][j] += b[i][j];\n",
    "```\n",
    "\n",
    "```Python\n",
    "# Python 中两个矩阵相加的代码\n",
    "A += B\n",
    "```"
   ]
  },
  {
   "cell_type": "markdown",
   "metadata": {},
   "source": [
    "##  iFEM\n",
    "\n",
    "加州大学的陈龙教授开发了 Matlab 面向数组的有限元软件包 iFEM (https://bitbucket.org/ifem/ifem/), 利用很少的代码, 可以写出高效有限元代码. 但 iFEM 的主要缺点是**面向过程**编写, 导致代码的重用性和扩展性不高, 使用起来还是比较困难的.\n"
   ]
  },
  {
   "cell_type": "markdown",
   "metadata": {},
   "source": [
    "## FEALPy: Finite  Element Analysis Library in Python\n",
    "\n",
    "为了克服 iFEM 中存在的问题, 我们最近开发了 Python 语言的有限元软件包 FEALPy（https://github.com/weihuayi/fealpy）。"
   ]
  },
  {
   "cell_type": "markdown",
   "metadata": {},
   "source": [
    "选择 Python 的原因如下:\n",
    "\n",
    "* 解释性语言，无需编译，易学易用。\n",
    "* 精心设计的语言, 允许编写结构良好且可读性强的代码(we code what we think)。\n",
    "* 支持面向对象软件开发模式，可用面向对象的方式组织有限元软件包，易重用、维护和扩展。\n",
    "* 有庞大的用户社群，包括 NASA, ANL, Google 等国际知名的科研机构和公司都把 Python 做为高性能计算的主要开发语言之一。Python 的初学者和开发者很容易从社群中获得帮助和开发文档。\n",
    "* 有丰富的科学计算基础软件包， 如：\n",
    "    + NumPy:  http://numpy.scipy.org - Numerical Python，主要提供多维数组及相关运算功能。\n",
    "    + SciPy:  http://www.scipy.org - Scientific Python，提供高效的优化、FFT,、稀疏矩阵等科学计算模块。\n",
    "    + Matplotlib: http://www.matplotlib.org - Graphics library，提供成熟 2D 和 3D 画图软件功能。\n",
    "* 对高性能计算有很好的支持，如MPI、OpenMP和CUDA等， 可直接在大型并行计算机上布署使用。\n",
    "* 很容易用其它编译语言扩展Python，如 C/C++和Fortran。\n",
    "* 开源免费。"
   ]
  },
  {
   "cell_type": "markdown",
   "metadata": {
    "slideshow": {
     "slide_type": "slide"
    }
   },
   "source": [
    "但 Python 也有一些问题, 如:\n",
    "\n",
    "* 开发环境不如 Matlab\n",
    "* 没有实现所有在专业软件包中找到的算法"
   ]
  },
  {
   "cell_type": "markdown",
   "metadata": {
    "slideshow": {
     "slide_type": "slide"
    }
   },
   "source": [
    "## FEALPy 的架构设计\n",
    "\n",
    "![FEALPy 的架构设计](./figures/sa-crop.png)"
   ]
  },
  {
   "cell_type": "markdown",
   "metadata": {},
   "source": [
    "## FEALPy 中已经实现的功能\n",
    "\n",
    "* 基础的网格数据结构、算法和可视化功能，包括二维的三角形、四边形和多边形，三维的四面体、六面体和多面体网格的数据结构；\n",
    "* 简单区域上的三角形网格生成算法，二维的界面拟合网格生成算法，曲面三角形网格生成；\n",
    "* 三角形网格的二分法加密算法。\n",
    "* 基于四叉树和八叉树的数据结构和加密粗化算法，在加密和粗化时，不再要求相邻叶子单元的层数之差最多为一层。\n",
    "* 实现了三角形和四面体网格上的任意次Lagrange有限元空间;\n",
    "* 多边形网格上的最低次虚单元空间;\n",
    "* Laplace 方程的离散、边界条件处理与求解等功能模块"
   ]
  },
  {
   "cell_type": "markdown",
   "metadata": {},
   "source": [
    "## 面向数组的有限元编程技术\n",
    "\n",
    "有限元算法中的基本要素:\n",
    "\n",
    "* 网格\n",
    "* 有限元空间\n",
    "    + 基函数的计算\n",
    "    + 自由度的管理 \n",
    "* 离散系统\n",
    "    + 矩阵和向量的构造\n",
    "    + 求解\n",
    "* 可视化\n",
    "* ......"
   ]
  },
  {
   "cell_type": "markdown",
   "metadata": {},
   "source": [
    "## 网格\n",
    "\n",
    "**目标:** 用 Numpy 中的数组来组织三角形网格中的数组结构.\n",
    "\n",
    "网格是有限元算法的基础, 最少需要两个二维数组来存储网格的信息:\n",
    "\n",
    "* 网格节点坐标数组 `point`:\n",
    "    + $N\\times 2$ 的二维数组\n",
    "    + `point[i, 0]` 和 `point[i, 1]` 分别存储第 $i$ 个网格节点的 $x$ 和 $y$ 坐标\n",
    "* 单元顶点编号数组 `cell`:\n",
    "    + $NC\\times 3$ 的二维数组\n",
    "    + `cell[i, 0]`, `cell[i, 1]` 和 `cell[i, 2]` 分别存储第 $i$ 个单元三个顶点的全局编号(即 `point` 中的行号)"
   ]
  },
  {
   "cell_type": "code",
   "execution_count": 2,
   "metadata": {
    "collapsed": true
   },
   "outputs": [],
   "source": [
    "import numpy as np\n",
    "point = np.array(\n",
    "    [(0.0, 0.0),\n",
    "     (1.0, 0.0),\n",
    "     (1.0, 1.0),\n",
    "     (0.0, 1.0)], dtype=np.float)\n",
    "cell = np.array([\n",
    "        (1, 2, 0), \n",
    "        (3, 0, 2)], dtype=np.int)"
   ]
  },
  {
   "cell_type": "code",
   "execution_count": 9,
   "metadata": {
    "collapsed": false,
    "slideshow": {
     "slide_type": "notes"
    }
   },
   "outputs": [
    {
     "data": {
      "image/png": "[encoded data removed]",
      "text/plain": [
       "<matplotlib.figure.Figure at 0x7febb2508b00>"
      ]
     },
     "metadata": {},
     "output_type": "display_data"
    }
   ],
   "source": [
    "from fealpy.mesh.TriangleMesh import TriangleMesh\n",
    "import matplotlib.pyplot as plt \n",
    "%matplotlib inline\n",
    "tmesh = TriangleMesh(point, cell)\n",
    "fig, axes = plt.subplots(1, 3)\n",
    "tmesh.add_plot(axes[0])\n",
    "tmesh.find_point(axes[0], showindex=True, markersize=25, fontsize=12)\n",
    "tmesh.find_cell(axes[0], showindex=True, markersize=100, fontsize=12)\n",
    "axes[0].set_title('mesh')\n",
    "\n",
    "for ax in axes.reshape(-1)[1:]:\n",
    "    ax.axis('tight')\n",
    "    ax.axis('off')\n",
    "axes[1].table(cellText=point, rowLabels=['0:', '1:', '2:', '3:'], loc='center')\n",
    "axes[1].set_title('point', y=0.3)\n",
    "axes[2].table(cellText=cell, rowLabels=['0:', '1:'], loc='center')\n",
    "axes[2].set_title('cell', y=0.35)\n",
    "plt.tight_layout(pad=1, w_pad=1, h_pad=1.0)\n",
    "plt.savefig('/home/why/ppt/figures/meshdata.pdf')\n",
    "plt.show()\n"
   ]
  },
  {
   "cell_type": "markdown",
   "metadata": {},
   "source": [
    "除了上述两个基本数组之外, 有限元方法中还需要更多的网格数据, 如:\n",
    "\n",
    "* 边数组 `edge`\n",
    "    + 二维 $NE\\times 2$ 数组 \n",
    "    + `edge[i, 0]` 和 `edge[i, 1]` 分别存储第 $i$ 条边的起点和终点的全局编号(即对应 `point` 数组中的行号)\n",
    "    + 如果第 $i$ 条边是边界边, 则规定从 `edge[i, 0]` 看向 `edge[i, 1]`, 网格离散区域一定在左手边\n",
    "* 边与单元的相邻关系数组 `edge2cell`\n",
    "    + 二维 $NE \\times 4 $ 的数组\n",
    "    + `edge2cell[i, 0]` 和 `edge2cell[i, 1]` 分别存储第 $i$ 条边左右两个单元的全局编号(即对应 `cell` 数组中的行号)\n",
    "    + `edge2cell[i, 2]` 和 `edge2cell[i, 3]` 分别存储第 $i$ 条边在左右两个单元中的局部编号\n",
    "    + 如果是边界边, 则\n",
    "        - `edge2cell[i, 0] = edge2cell[i, 1]` \n",
    "        - `edge2cell[i, 2] = edge2cell[i, 3]`\n",
    "        \n",
    "**注: `edge` 和 `edge2cell` 可以从 `cell` 中构造出来.**"
   ]
  },
  {
   "cell_type": "markdown",
   "metadata": {},
   "source": [
    "###  `edge` 和 `edge2cell` 和构造算法"
   ]
  },
  {
   "cell_type": "code",
   "execution_count": 6,
   "metadata": {
    "collapsed": false
   },
   "outputs": [
    {
     "data": {
      "image/png": "[encoded data removed]",
      "text/plain": [
       "<matplotlib.figure.Figure at 0x7fc6ed988c88>"
      ]
     },
     "metadata": {},
     "output_type": "display_data"
    }
   ],
   "source": [
    "import numpy as np\n",
    "from fealpy.mesh.mesh_tools import unique_row\n",
    "\n",
    "point =np.array(\n",
    "    [(0.0, 0.0),\n",
    "     (1.0, 0.0),\n",
    "     (1.0, 1.0),\n",
    "     (0.0, 1.0)], dtype=np.float)\n",
    "\n",
    "cell = np.array([\n",
    "        (1, 2, 0), \n",
    "        (3, 0, 2)], dtype=np.int)\n",
    "localEdge = np.array(\n",
    "    [(1, 2),\n",
    "     (2, 0),\n",
    "     (0, 1)], dtype=np.int)\n",
    "\n",
    "totalEdge = cell[:, localEdge].reshape(-1, 2)\n",
    "stotalEdge = np.sort(totalEdge, axis=1)\n",
    "uedge, i0, j = unique_row(stotalEdge)\n",
    "NE = i0.shape[0]\n",
    "\n",
    "i1 = np.zeros(NE, dtype=np.int) \n",
    "NC = cell.shape[0]\n",
    "i1[j] = np.arange(3*NC)\n",
    "\n",
    "edge2cell = np.zeros((NE, 4), dtype=np.int)\n",
    "t0 = i0//3\n",
    "t1 = i1//3\n",
    "k0 = i0%3\n",
    "k1 = i1%3\n",
    "edge2cell[:, 0] = t0\n",
    "edge2cell[:, 1] = t1\n",
    "edge2cell[:, 2] = k0\n",
    "edge2cell[:, 3] = k1\n",
    "\n",
    "edge = totalEdge[i0]\n",
    "\n",
    "from fealpy.mesh.TriangleMesh import TriangleMesh\n",
    "import matplotlib.pyplot as plt \n",
    "%matplotlib inline\n",
    "tmesh = TriangleMesh(point, cell)\n",
    "fig, axes = plt.subplots(2, 4)\n",
    "tmesh.add_plot(axes[0, 0])\n",
    "tmesh.find_point(axes[0, 0], showindex=True, markersize=25, fontsize=12)\n",
    "tmesh.find_cell(axes[0, 0], showindex=True, markersize=100, fontsize=12)\n",
    "axes[0, 0].set_title('mesh')\n",
    "\n",
    "for ax in axes.reshape(-1)[1:]:\n",
    "    ax.axis('tight')\n",
    "    ax.axis('off')\n",
    "axes[0, 1].table(cellText=cell, rowLabels=['0:', '1:'], loc='center')\n",
    "axes[0, 1].set_title('cell', y=0.6)\n",
    "axes[0, 2].table(cellText=totalEdge, rowLabels=['0:', '1:', '2:', '3:', '4:', '5:'], loc='center')\n",
    "axes[0, 2].set_title('totalEdge', y=0.85)\n",
    "axes[0, 3].table(cellText=np.sort(totalEdge, axis=1), rowLabels=['0:', '1:', '2:', '3:', '4:', '5:'], loc='center')\n",
    "axes[0, 3].set_title('Sorted totalEdge', y=0.85)\n",
    "axes[1, 0].table(cellText=i0.reshape(-1,1),  loc='center')\n",
    "axes[1, 0].set_title('i0', y=0.85)\n",
    "\n",
    "axes[1, 1].table(cellText=edge,  rowLabels=['0:', '1:', '2:', '3:', '4:'], loc='center')\n",
    "axes[1, 1].set_title('edge', y=0.85)\n",
    "\n",
    "#axes[1, 1].table(cellText=i1.reshape(-1,1),  loc='center')\n",
    "#axes[1, 1].set_title('i1', y=0.85)\n",
    "#axes[1, 2].table(cellText=edge2cell,  rowLabels=['0:', '1:', '2:', '3:', '4:'], loc='center')\n",
    "#axes[1, 2].set_title('edge2cell', y=0.85)\n",
    "#axes[1, 3].table(cellText=edge,  rowLabels=['0:', '1:', '2:', '3:', '4:'], loc='center')\n",
    "#axes[1, 3].set_title('edge', y=0.85)\n",
    "plt.tight_layout(pad=1, w_pad=1, h_pad=1.0)\n",
    "plt.savefig('/home/why/ppt/figures/edgedata0.pdf')\n",
    "plt.show()"
   ]
  },
  {
   "cell_type": "markdown",
   "metadata": {
    "collapsed": false
   },
   "source": [
    "下面给出网格的数据结构示意图："
   ]
  },
  {
   "cell_type": "code",
   "execution_count": 2,
   "metadata": {
    "collapsed": false
   },
   "outputs": [
    {
     "data": {
      "image/png": "[encoded data removed]",
      "text/plain": [
       "<matplotlib.figure.Figure at 0x7fc6f2d483c8>"
      ]
     },
     "metadata": {},
     "output_type": "display_data"
    }
   ],
   "source": [
    "from fealpy.mesh.TriangleMesh import TriangleMesh\n",
    "import matplotlib.pyplot as plt \n",
    "%matplotlib inline\n",
    "point = np.array(\n",
    "    [(0.0, 0.0),\n",
    "     (1.0, 0.0),\n",
    "     (1.0, 1.0),\n",
    "     (0.0, 1.0)], dtype=np.float)\n",
    "cell = np.array([\n",
    "        (1, 2, 0), \n",
    "        (3, 0, 2)], dtype=np.int)\n",
    "tmesh = TriangleMesh(point, cell) # 三角形网格实例\n",
    "fig, axes = plt.subplots(2, 3)\n",
    "tmesh.add_plot(axes[0, 0], cellcolor='w')\n",
    "tmesh.find_point(axes[0, 0], showindex=True, markersize=25, fontsize=12)\n",
    "tmesh.find_edge(axes[0, 0], showindex=True, markersize=50, fontsize=12)\n",
    "tmesh.find_cell(axes[0, 0], showindex=True, markersize=100, fontsize=12)\n",
    "axes[0, 0].set_title('mesh')\n",
    "\n",
    "for ax in axes.reshape(-1)[1:]:\n",
    "    ax.axis('tight')\n",
    "    ax.axis('off')\n",
    "axes[0, 1].table(cellText=point, rowLabels=['0:', '1:', '2:', '3:'], loc='center')\n",
    "axes[0, 1].set_title('point')\n",
    "axes[0, 2].table(cellText=cell, rowLabels=['0:', '1:'], loc='center')\n",
    "axes[0, 2].set_title('cell')\n",
    "axes[1, 0].table(cellText=tmesh.ds.edge, rowLabels=['0:', '1:', '2:', '3:', '4:'],  loc='center')\n",
    "axes[1, 0].set_title('edge')\n",
    "axes[1, 1].table(cellText=tmesh.ds.edge2cell, rowLabels=['0:', '1:', '2:', '3:', '4:'],  loc='center')\n",
    "axes[1, 1].set_title('edge2cell')\n",
    "axes[1, 2].table(cellText=tmesh.ds.cell_to_edge(), rowLabels=['0:', '1:'],  loc='center')\n",
    "axes[1, 2].set_title('cell2edge')\n",
    "plt.tight_layout(pad=1, w_pad=1, h_pad=1.0)\n",
    "plt.savefig('/home/why/ppt/figures/edgedata1.pdf')\n",
    "plt.show()"
   ]
  },
  {
   "cell_type": "markdown",
   "metadata": {},
   "source": [
    "## 3、任意 $p$ Lagrange 有限元空间"
   ]
  },
  {
   "cell_type": "markdown",
   "metadata": {},
   "source": [
    "### 3.1 三角形单元上的重心坐标"
   ]
  },
  {
   "cell_type": "code",
   "execution_count": 1,
   "metadata": {
    "collapsed": false
   },
   "outputs": [
    {
     "data": {
      "image/png": "[encoded data removed]",
      "text/plain": [
       "<matplotlib.figure.Figure at 0x7fd6381673c8>"
      ]
     },
     "metadata": {},
     "output_type": "display_data"
    }
   ],
   "source": [
    "import numpy as np\n",
    "import matplotlib.pyplot as plt\n",
    "from fealpy.mesh.TriangleMesh import TriangleMesh\n",
    "\n",
    "#from matplotlib.font_manager import FontProperties\n",
    "#cfont = FontProperties('SimHei')\n",
    "\n",
    "point = np.array([\n",
    "    [0,0],\n",
    "    [1,0],\n",
    "    [0,1]], dtype=np.float)\n",
    "cell = np.array([[0, 1, 2]], dtype=np.int)\n",
    "\n",
    "mesh = TriangleMesh(point, cell)\n",
    "fig = plt.figure()\n",
    "axes = fig.gca()\n",
    "mesh.add_plot(axes, cellcolor='w')\n",
    "mesh.find_point(axes, showindex=True, fontsize=12, color='g', markersize=25)\n",
    "axes.set_title('triangle $\\\\tau$')\n",
    "plt.tight_layout(pad=1, w_pad=1, h_pad=1.0)\n",
    "plt.savefig('/home/why/ppt/figures/triangle.pdf')\n",
    "plt.show()"
   ]
  },
  {
   "cell_type": "markdown",
   "metadata": {},
   "source": [
    "给定三角形单元 $\\tau$, 其三个顶点 $\\mathbf x_0 :=(x_0,y_0)$, $\\mathbf x_1 :=(x_1,y_1)$ 和 $\\mathbf x_2 :=(x_2,y_2)$ 逆时针排列, 且不在同一条直线上, 那么向量 $\\vec{\\mathbf x_0\\mathbf x_1}$ 和 $\\vec{\\mathbf x_0\\mathbf x_2}$ 是线性无关的. 这等价于矩阵\n",
    "\n",
    "$$\n",
    "A = \n",
    "\\begin{pmatrix}\n",
    "x_0 & x_1 & x_2 \\\\\n",
    "y_0 & y_1 & y_2 \\\\\n",
    "1   & 1   & 1 \n",
    "\\end{pmatrix}\n",
    "$$\n",
    "\n",
    "非奇异. "
   ]
  },
  {
   "cell_type": "markdown",
   "metadata": {},
   "source": [
    "任给一点 $\\mathbf{x}:=(x,y)\\in\\tau$, 求解下面的线性方程组\n",
    "\n",
    "$$\n",
    "A \n",
    "\\begin{pmatrix}\n",
    "\\lambda_0 \\\\\n",
    "\\lambda_1\\\\\n",
    "\\lambda_2  \n",
    "\\end{pmatrix}\n",
    "=\\begin{pmatrix}\n",
    "x \\\\\n",
    "y\\\\\n",
    "1  \n",
    "\\end{pmatrix}\n",
    "$$\n",
    "\n",
    "可得唯一的一组解$\\lambda_0,\\lambda_1,\\lambda_2$. "
   ]
  },
  {
   "cell_type": "markdown",
   "metadata": {},
   "source": [
    "因此对任意二维点 $\\mathbf{x}\\in\\tau$, 有\n",
    "\n",
    "$$\n",
    "\\mathbf{x}=\\lambda_0(\\mathbf{x})\\mathbf{x}_0 + \\lambda_1(\\mathbf{x})\\mathbf{x}_1 + \\lambda_2(\\mathbf{x})\\mathbf{x}_2 \n",
    "\\text{ 且 } \\lambda_0(\\mathbf{x}) + \\lambda_1(\\mathbf{x}) + \\lambda_2(\\mathbf{x}) = 1. \n",
    "$$\n",
    "\n",
    "$\\lambda_0,\\lambda_1,\\lambda_2$ 称为点 $\\mathbf{x}$ 关于点 $\\mathbf{x}_0,\\mathbf{x}_1$ 和$\\mathbf{x}_2$ 的**重心坐标**. "
   ]
  },
  {
   "cell_type": "markdown",
   "metadata": {},
   "source": [
    "易知, $\\lambda_0, \\lambda_1, \\lambda_2$ 都是关于 $\\mathbf x$ 的线性函数, 且有\n",
    "\n",
    "\\begin{eqnarray*}\n",
    "\\lambda_0(\\mathbf x_0) = 1,\\quad & \\lambda_0(\\mathbf x_1) = 0,\\quad& \\lambda_0(\\mathbf x_2) = 0\\\\\n",
    "\\lambda_1(\\mathbf x_0) = 0,\\quad & \\lambda_1(\\mathbf x_1) = 1,\\quad& \\lambda_1(\\mathbf x_2) = 0\\\\\n",
    "\\lambda_2(\\mathbf x_0) = 0,\\quad & \\lambda_2(\\mathbf x_1) = 0,\\quad & \\lambda_2(\\mathbf x_2) = 1\\\\\n",
    "\\end{eqnarray*}"
   ]
  },
  {
   "cell_type": "markdown",
   "metadata": {},
   "source": [
    "$\\lambda_0, \\lambda_1, \\lambda_2$ 关于 $\\mathbf x$ 的梯度分别为:\n",
    "\n",
    "$$\n",
    "\\begin{aligned}\n",
    "\\nabla\\lambda_0 = \\frac{1}{2|\\tau|}(\\mathbf x_2 - \\mathbf x_1)W\\\\\n",
    "\\nabla\\lambda_1 = \\frac{1}{2|\\tau|}(\\mathbf x_0 - \\mathbf x_2)W\\\\\n",
    "\\nabla\\lambda_2 = \\frac{1}{2|\\tau|}(\\mathbf x_1 - \\mathbf x_0)W\\\\\n",
    "\\end{aligned}\n",
    "$$\n",
    "\n",
    "其中 \n",
    "\n",
    "$$\n",
    "W = \\begin{pmatrix}\n",
    "0 & 1\\\\ -1 & 0 \n",
    "\\end{pmatrix}\n",
    "$$"
   ]
  },
  {
   "cell_type": "markdown",
   "metadata": {},
   "source": [
    "**目标:** \n",
    "\n",
    "给定有 $NC$ 个三角形单元的网格, 计算所有单元上的 $\\nabla \\lambda_0$, $\\nabla \\lambda_1$ 和 $\\nabla \\lambda_2$."
   ]
  },
  {
   "cell_type": "markdown",
   "metadata": {},
   "source": [
    "这里需要一个三维数组来存储所有单元上的梯度. \n",
    "\n",
    "记三维数组为 $Dlambda$, 则 $Dlambda[i, j, k]$ 存储第 $i$ 个单元上的第 $j$ 个重心坐标的梯度的第 $k$ 个分量的值, 其中 $0 \\leq i \\leq NC-1$, $ 0 \\leq j \\leq 2$, $ 0 \\leq k \\leq 1$."
   ]
  },
  {
   "cell_type": "code",
   "execution_count": 13,
   "metadata": {
    "collapsed": false
   },
   "outputs": [
    {
     "name": "stdout",
     "output_type": "stream",
     "text": [
      "Dlambda:\n",
      " [[[ 1. -1.]\n",
      "  [ 0.  1.]\n",
      "  [-1.  0.]]\n",
      "\n",
      " [[-1.  1.]\n",
      "  [ 0. -1.]\n",
      "  [ 1.  0.]]]\n"
     ]
    }
   ],
   "source": [
    "import numpy as np\n",
    "point = np.array(\n",
    "    [(0.0, 0.0),\n",
    "     (1.0, 0.0),\n",
    "     (1.0, 1.0), \n",
    "     (0.0, 1.0)], dtype=np.float)\n",
    "cell = np.array([\n",
    "        (1, 2, 0), \n",
    "        (3, 0, 2)], dtype=np.int)\n",
    "NC = cell.shape[0]\n",
    "v0 = point[cell[:, 2], :] - point[cell[:, 1], :] # x_2 - x_1\n",
    "v1 = point[cell[:, 0], :] - point[cell[:, 2], :] # x_0 - x_2\n",
    "v2 = point[cell[:, 1], :] - point[cell[:, 0], :] # x_1 - x_0\n",
    "nv = np.cross(v2, -v1)\n",
    "\n",
    "Dlambda = np.zeros((NC, 3, 2), dtype=np.float)\n",
    "length = nv\n",
    "W = np.array([[0, 1], [-1, 0]], dtype=np.int)\n",
    "Dlambda[:,0,:] = v0@W/length.reshape(-1, 1)\n",
    "Dlambda[:,1,:] = v1@W/length.reshape(-1, 1)\n",
    "Dlambda[:,2,:] = v2@W/length.reshape(-1, 1)\n",
    "print('Dlambda:\\n', Dlambda)"
   ]
  },
  {
   "cell_type": "markdown",
   "metadata": {},
   "source": [
    "### 3.2  三角形单元上的 $p$ 次基函数公式"
   ]
  },
  {
   "cell_type": "markdown",
   "metadata": {},
   "source": [
    "给定三角形单元上的一个重心坐标 $(\\lambda_0, \\lambda_1, \\lambda_2)$, 所有 $p\\geq 1$ 次基函数的计算公式如下:\n",
    "\n",
    "$$\n",
    "\\phi_{m,n,k} = \\frac{p^p}{m!n!k!}\\prod_{l_0 = 0}^{m - 1}\n",
    "(\\lambda_0 - \\frac{l_0}{p}) \\prod_{l_1 = 0}^{n-1}(\\lambda_1 -\n",
    "\\frac{l_1}{p}) \\prod_{l_2=0}^{k-1}(\\lambda_2 - \\frac{l_2}{p}).\n",
    "$$\n",
    "\n",
    "其中 $ m\\geq 0$, $n\\geq 0$, $ k \\geq 0$, 且 $m+n+k=p$, 这里规定:\n",
    "\n",
    "$$\n",
    " \\prod_{l_i=0}^{-1}(\\lambda_i - \\frac{l_i}{p}) := 1,\\quad i=0, 1, 2\n",
    "$$"
   ]
  },
  {
   "cell_type": "markdown",
   "metadata": {},
   "source": [
    "**注:**\n",
    "\n",
    "三维情形的基函数表示如下:\n",
    "$$\n",
    "\\phi_{m,n,k,v} = \\frac{p^p}{m!n!k!v!}\\prod_{l_0 = 0}^{m - 1}\n",
    "(\\lambda_0 - \\frac{l_0}{p}) \\prod_{l_1 = 0}^{n-1}(\\lambda_1 -\n",
    "\\frac{l_1}{p}) \\prod_{l_2=0}^{k-1}(\\lambda_2 - \\frac{l_2}{p})\\prod_{l_3=0}^{v-1}(\\lambda_3 - \\frac{l_3}{p}).\n",
    "$$\n"
   ]
  },
  {
   "cell_type": "markdown",
   "metadata": {},
   "source": [
    "### 3.3 基函数的矩阵计算公式"
   ]
  },
  {
   "cell_type": "markdown",
   "metadata": {},
   "source": [
    "**目标:**\n",
    "\n",
    "给定重心坐标 $(\\lambda_0, \\lambda_1, \\lambda_2)$, 利用**面向数组**的方式计算 $p$ 次元所有基函数在 $(\\lambda_0, \\lambda_1, \\lambda_2)$ 处的**函数值**."
   ]
  },
  {
   "cell_type": "markdown",
   "metadata": {},
   "source": [
    "构造向量：\n",
    "$$\n",
    "P = ( \\frac{1}{0!},  \\frac{1}{1!}, \\frac{1}{2!}, \\cdots, \\frac{1}{p!})\n",
    "$$\n",
    "\n",
    "构造矩阵：\n",
    "$$\n",
    "A :=                                                                            \n",
    "\\begin{pmatrix}  \n",
    "1  &  1  & 1 \\\\\n",
    "\\lambda_0 & \\lambda_1 & \\lambda_2\\\\                                             \n",
    "\\lambda_0 - \\frac{1}{p} & \\lambda_1 - \\frac{1}{p} & \\lambda_2 - \\frac{1}{p}\\\\   \n",
    "\\vdots & \\vdots & \\vdots \\\\                                                     \n",
    "\\lambda_0 - \\frac{p - 1}{p} & \\lambda_1 - \\frac{p - 1}{p} & \\lambda_2 - \\frac{p - 1}{p}\n",
    "\\end{pmatrix}                                                                   \n",
    "$$ "
   ]
  },
  {
   "cell_type": "markdown",
   "metadata": {},
   "source": [
    "对 $A$ 的每一列做累乘运算, 并左乘由 $P$ 形成的对角矩阵, 得矩阵:\n",
    "\n",
    "$$\n",
    "B = \\mathrm{diag}(P)\n",
    "\\begin{pmatrix}\n",
    "1 & 1 & 1 \\\\\n",
    "\\lambda_0 & \\lambda_1 & \\lambda_2\\\\\n",
    "\\prod_{l=0}^{1}(\\lambda_0 - \\frac{l}{p}) & \\prod_{l=0}^{1}(\\lambda_1 - \\frac{l}{p})\n",
    "& \\prod_{l=0}^{1}(\\lambda_2 - \\frac{l}{p}) \\\\\n",
    "\\vdots & \\vdots & \\vdots \\\\\n",
    "\\prod_{l=0}^{p-1}(\\lambda_0 - \\frac{l}{p}) & \\prod_{l=0}^{p-1}(\\lambda_1 - \\frac{l}{p})\n",
    "& \\prod_{l=0}^{p-1}(\\lambda_2 - \\frac{l}{p}) \n",
    "\\end{pmatrix}\n",
    "$$\n",
    "\n",
    "易知, 只需从 $B$ 的每一列中各选择一项相乘(要求三项次数之和为 $p$), 再乘以 $p^p$ 即可得到相应的基函数, 其中取法共有 \n",
    "\n",
    "$$\n",
    "n_{dof} = {(p+1)(p+2)\\over 2}\n",
    "$$"
   ]
  },
  {
   "cell_type": "markdown",
   "metadata": {},
   "source": [
    "即需要构造 $n_{dof}\\times 3$ 的指标矩阵 $I$, 则基函数可写成如下形式 \n",
    "\n",
    "$$\n",
    "\\phi_i = p^pB_{I_{i,0}, 0}B_{I_{i, 1},1}B_{I_{i, 2}, 2}, \\quad i = 0, 1, \\cdots, n_{dof}\n",
    "$$\n",
    "\n",
    "对应 `Python` 的代码如下:\n",
    "\n",
    "```Python\n",
    "phi = p**p*np.prod(B[I, [0, 1, 2]], axis=1)\n",
    "```"
   ]
  },
  {
   "cell_type": "code",
   "execution_count": 6,
   "metadata": {
    "collapsed": false
   },
   "outputs": [
    {
     "data": {
      "image/png": "[encoded data removed]",
      "text/plain": [
       "<matplotlib.figure.Figure at 0x7fd8d67f3860>"
      ]
     },
     "metadata": {},
     "output_type": "display_data"
    }
   ],
   "source": [
    "import sys\n",
    "\n",
    "import numpy as np\n",
    "import matplotlib.pyplot as plt\n",
    "\n",
    "from fealpy.functionspace.tools import function_space\n",
    "from fealpy.mesh.TriangleMesh import TriangleMesh\n",
    "\n",
    "#from matplotlib.font_manager import FontProperties\n",
    "#cfont = FontProperties('SimHei')\n",
    "\n",
    "degree = 4\n",
    "\n",
    "point = np.array([\n",
    "    [0,0],\n",
    "    [1,0],\n",
    "    [0,1]], dtype=np.float)\n",
    "cell = np.array([[0, 1, 2]], dtype=np.int)\n",
    "\n",
    "mesh = TriangleMesh(point, cell)\n",
    "V = function_space(mesh, 'Lagrange', degree)\n",
    "ldof = V.number_of_local_dofs()\n",
    "ipoints = V.interpolation_points()\n",
    "cell2dof = V.cell_to_dof()\n",
    "fig, axes = plt.subplots(1, 3)\n",
    "mesh.add_plot(axes[0], cellcolor='w')\n",
    "mesh.find_point(axes[0], showindex=True, fontsize=12, color='g', markersize=25)\n",
    "#axes[0].set_title('local vertices indices', y=1)\n",
    "\n",
    "mesh.add_plot(axes[1], cellcolor='w')\n",
    "mesh.find_point(axes[1], point=ipoints[cell2dof[0]], showindex=True, fontsize=12, markersize=25)\n",
    "#axes[1].set_title(str(degree) + ' dof indices', y=1)\n",
    "\n",
    "axes[2].axis('tight')\n",
    "axes[2].axis('off')\n",
    "rl = [str(i)+\":\" for i in range(ldof)]\n",
    "axes[2].table(cellText=V.cellIdx, rowLabels= rl, colLabels=['m', 'n', 'k'], loc='center')\n",
    "#axes[2].set_title(str(degree) + 'index matrix $I$', y=1)\n",
    "plt.tight_layout(pad=1, w_pad=1, h_pad=1.0)\n",
    "plt.savefig('/home/why/ppt/figures/dof4.pdf')\n",
    "plt.show()"
   ]
  },
  {
   "cell_type": "markdown",
   "metadata": {},
   "source": [
    "### 3.4 基函数梯度的计算公式"
   ]
  },
  {
   "cell_type": "markdown",
   "metadata": {},
   "source": [
    "**目标:**\n",
    "\n",
    "给定重心坐标 $(\\lambda_0, \\lambda_1, \\lambda_2)$, 利用**面向数组**的方式计算 $p$ 次元所有基函数在 $(\\lambda_0, \\lambda_1, \\lambda_2)$ 处的梯度值."
   ]
  },
  {
   "cell_type": "markdown",
   "metadata": {},
   "source": [
    "**分析:**\n",
    "\n",
    "根据求导法则, 关键是计算出矩阵\n",
    "\n",
    "$$\n",
    "B = \\mathrm{diag}(P)\n",
    "\\begin{pmatrix}\n",
    "1 & 1 & 1 \\\\\n",
    "\\lambda_0 & \\lambda_1 & \\lambda_2\\\\\n",
    "\\prod_{l=0}^{1}(\\lambda_0 - \\frac{l}{p}) & \\prod_{l=0}^{1}(\\lambda_1 - \\frac{l}{p})\n",
    "& \\prod_{l=0}^{1}(\\lambda_2 - \\frac{l}{p}) \\\\\n",
    "\\vdots & \\vdots & \\vdots \\\\\n",
    "\\prod_{l=0}^{p-1}(\\lambda_0 - \\frac{l}{p}) & \\prod_{l=0}^{p-1}(\\lambda_1 - \\frac{l}{p})\n",
    "& \\prod_{l=0}^{p-1}(\\lambda_2 - \\frac{l}{p}) \n",
    "\\end{pmatrix}\n",
    "$$\n",
    "\n",
    "中每个元素的梯度. "
   ]
  },
  {
   "cell_type": "markdown",
   "metadata": {},
   "source": [
    "构造矩阵:\n",
    "$$\n",
    "F^i = \n",
    "\\begin{pmatrix}\n",
    "1 & \\lambda_i & \\cdots & \\lambda_i \\\\\n",
    "\\lambda_i - \\frac{1}{p} & 1 & \\cdots & \\lambda_i - \\frac{1}{p} \\\\\n",
    "\\vdots & \\vdots & \\ddots & \\vdots \\\\\n",
    "\\lambda_i - \\frac{p-1}{p} & \\lambda_i - \\frac{p-1}{p} & \\cdots & 1\n",
    "\\end{pmatrix}_{p\\times p}\n",
    ", \\quad i = 0, 1, 2\n",
    "$$"
   ]
  },
  {
   "cell_type": "markdown",
   "metadata": {},
   "source": [
    "记\n",
    "$$\n",
    "f_{i,j} = \\sum_{m=0}^j\\prod_{k=0}^j F^i_{k, m},\\quad i = 0, 1, 2, 0 \\leq j \\leq p-1.\n",
    "$$"
   ]
  },
  {
   "cell_type": "markdown",
   "metadata": {},
   "source": [
    "$$\n",
    "\\begin{aligned}\n",
    "\\nabla B = &  \n",
    "\\mathrm{diag}(P)\n",
    "\\begin{pmatrix}\n",
    "0 & 0 & 0\\\\\n",
    "\\nabla \\lambda_1 & \\nabla \\lambda_2 & \\nabla \\lambda_3\\\\\n",
    "\\nabla \\prod_{l=0}^{1}(\\lambda_1 - \\frac{l}{p}) & \n",
    "\\nabla \\prod_{l=0}^{1}(\\lambda_2 - \\frac{l}{p}) &\n",
    "\\nabla \\prod_{l=0}^{1}(\\lambda_3 - \\frac{l}{p}) \\\\\n",
    "\\vdots & \\vdots & \\vdots \\\\\n",
    "\\nabla \\prod_{l=0}^{p-1}(\\lambda_1 - \\frac{l}{p}) &\n",
    "\\nabla \\prod_{l=0}^{p-1}(\\lambda_2 - \\frac{l}{p}) &\n",
    "\\nabla \\prod_{l=0}^{p-1}(\\lambda_3 - \\frac{l}{p}) \n",
    "\\end{pmatrix}\\\\\n",
    "= & \\mathrm{diag}(P)\n",
    "\\begin{pmatrix}\n",
    "0 & 0 & 0 \\\\\n",
    "\\nabla \\lambda_1 & \\nabla \\lambda_2 & \\nabla \\lambda_3\\\\\n",
    "f_{0,0} \\nabla \\lambda_1 & \n",
    "f_{1,0} \\nabla \\lambda_2 &\n",
    "f_{2,0} \\nabla \\lambda_3 \\\\\n",
    "\\vdots & \\vdots & \\vdots \\\\\n",
    "f_{0, p-1} \\nabla \\lambda_1 &\n",
    "f_{1, p-1} \\nabla \\lambda_2 &\n",
    "f_{2, p-1} \\nabla \\lambda_3 \n",
    "\\end{pmatrix}\\\\\n",
    "= & \\mathrm{diag}(P)\n",
    "\\begin{pmatrix}\n",
    "0 & 0 & 0\\\\\n",
    "1 & 1 & 1\\\\\n",
    "f_{0,0} & \n",
    "f_{1,0} &\n",
    "f_{2,0} \\\\\n",
    "\\vdots & \\vdots & \\vdots \\\\\n",
    "f_{0, p-1} &\n",
    "f_{1, p-1} &\n",
    "f_{2, p-1}  \n",
    "\\end{pmatrix}\n",
    "\\begin{pmatrix}\n",
    "\\nabla \\lambda_1 & 0 & 0\\\\\n",
    "0 & \\nabla \\lambda_2 & 0 \\\\\n",
    "0 & 0 & \\nabla \\lambda_3\n",
    "\\end{pmatrix}\n",
    "\\end{aligned}\n",
    "$$"
   ]
  },
  {
   "cell_type": "markdown",
   "metadata": {},
   "source": [
    "记 \n",
    "$$\n",
    "F =\n",
    "\\mathrm{diag}(P)\n",
    "\\begin{pmatrix}\n",
    "0 & 0 & 0\\\\\n",
    "1 & 1 & 1\\\\\n",
    "f_{0,0} & \n",
    "f_{1,0} &\n",
    "f_{2,0} \\\\\n",
    "\\vdots & \\vdots & \\vdots \\\\\n",
    "f_{0, p-1} &\n",
    "f_{1, p-1} &\n",
    "f_{2, p-1}  \n",
    "\\end{pmatrix}\n",
    "$$"
   ]
  },
  {
   "cell_type": "markdown",
   "metadata": {},
   "source": [
    "利用前面的矩阵 $B$, $I$, $Dlambda$, 如下代码即可计算所有单元上的 $p$ 次元基函数的导数:\n",
    "\n",
    "```Python\n",
    "pp = p**p\n",
    "ldof = (p+1)*(p+2)/2\n",
    "Q = B[I,[0,1,2]]\n",
    "M = F[I,[0,1,2]]\n",
    "R = np.zeros((ldof,3), dtype=np.float)\n",
    "R[:,0] = M[:,0]*Q[:,1]*Q[:,2]\n",
    "R[:,1] = Q[:,0]*M[:,1]*Q[:,2]\n",
    "R[:,2] = Q[:,0]*Q[:,1]*M[:,2]\n",
    "gradphi = np.einsum('ij, kj...->ki...', pp*R, Dlambda) # 爱因斯坦求和 \n",
    "```"
   ]
  },
  {
   "cell_type": "markdown",
   "metadata": {},
   "source": [
    "\n",
    "<h1><center>谢谢大家！</center></h1>\n",
    "<h1><center>欢迎批评指正！</center></h1>"
   ]
  }
 ],
 "metadata": {
  "celltoolbar": "Slideshow",
  "kernelspec": {
   "display_name": "Python 3",
   "language": "python",
   "name": "python3"
  },
  "language_info": {
   "codemirror_mode": {
    "name": "ipython",
    "version": 3
   },
   "file_extension": ".py",
   "mimetype": "text/x-python",
   "name": "python",
   "nbconvert_exporter": "python",
   "pygments_lexer": "ipython3",
   "version": "3.5.2"
  },
  "latex_envs": {
   "bibliofile": "biblio.bib",
   "cite_by": "apalike",
   "current_citInitial": 1,
   "eqLabelWithNumbers": true,
   "eqNumInitial": 0
  }
 },
 "nbformat": 4,
 "nbformat_minor": 1
}
