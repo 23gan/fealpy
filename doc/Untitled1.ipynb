{
 "cells": [
  {
   "cell_type": "code",
   "execution_count": 1,
   "metadata": {
    "collapsed": false
   },
   "outputs": [
    {
     "data": {
      "text/html": [
       "<html><script type=\"math/tex; mode=display\">\\newcommand{\\Bold}[1]{\\mathbf{#1}}8 \\, \\pi^{4} \\cos\\left(\\pi x\\right)^{2} \\cos\\left(\\pi y\\right)^{2} - 16 \\, \\pi^{4} \\cos\\left(\\pi y\\right)^{2} \\sin\\left(\\pi x\\right)^{2} - 16 \\, \\pi^{4} \\cos\\left(\\pi x\\right)^{2} \\sin\\left(\\pi y\\right)^{2} + 24 \\, \\pi^{4} \\sin\\left(\\pi x\\right)^{2} \\sin\\left(\\pi y\\right)^{2}</script></html>"
      ],
      "text/plain": [
       "8*pi^4*cos(pi*x)^2*cos(pi*y)^2 - 16*pi^4*cos(pi*y)^2*sin(pi*x)^2 - 16*pi^4*cos(pi*x)^2*sin(pi*y)^2 + 24*pi^4*sin(pi*x)^2*sin(pi*y)^2"
      ]
     },
     "metadata": {},
     "output_type": "display_data"
    }
   ],
   "source": [
    "var('x, y')\n",
    "u = sin(pi*x)^2*sin(pi*y)^2\n",
    "f = diff(u, x, 4)+diff(u, y, 4)+2*diff(diff(u, x, 2), y, 2)\n",
    "show(f)"
   ]
  },
  {
   "cell_type": "code",
   "execution_count": null,
   "metadata": {
    "collapsed": true
   },
   "outputs": [],
   "source": [
    "j"
   ]
  }
 ],
 "metadata": {
  "kernelspec": {
   "display_name": "SageMath 7.5.1",
   "language": "",
   "name": "sagemath"
  },
  "language_info": {
   "codemirror_mode": {
    "name": "ipython",
    "version": 2
   },
   "file_extension": ".py",
   "mimetype": "text/x-python",
   "name": "python",
   "nbconvert_exporter": "python",
   "pygments_lexer": "ipython2",
   "version": "2.7.10"
  },
  "latex_envs": {
   "bibliofile": "biblio.bib",
   "cite_by": "apalike",
   "current_citInitial": 1,
   "eqLabelWithNumbers": true,
   "eqNumInitial": 0
  }
 },
 "nbformat": 4,
 "nbformat_minor": 1
}
